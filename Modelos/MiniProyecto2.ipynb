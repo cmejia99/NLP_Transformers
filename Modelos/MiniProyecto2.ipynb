{
  "nbformat": 4,
  "nbformat_minor": 0,
  "metadata": {
    "colab": {
      "name": "MiniProyecto2.ipynb",
      "provenance": [],
      "collapsed_sections": []
    },
    "kernelspec": {
      "name": "python3",
      "display_name": "Python 3"
    },
    "language_info": {
      "name": "python"
    },
    "widgets": {
      "application/vnd.jupyter.widget-state+json": {
        "331d16bfe1d84c45b71690344cf62bdd": {
          "model_module": "@jupyter-widgets/controls",
          "model_name": "HBoxModel",
          "model_module_version": "1.5.0",
          "state": {
            "_view_name": "HBoxView",
            "_dom_classes": [],
            "_model_name": "HBoxModel",
            "_view_module": "@jupyter-widgets/controls",
            "_model_module_version": "1.5.0",
            "_view_count": null,
            "_view_module_version": "1.5.0",
            "box_style": "",
            "layout": "IPY_MODEL_381a8f480e4f4429be89524b94d9ef36",
            "_model_module": "@jupyter-widgets/controls",
            "children": [
              "IPY_MODEL_c08749fdd3e143518ed832f83d878dba",
              "IPY_MODEL_4d4b56c3005c4acbb95ec4d2279710a6",
              "IPY_MODEL_1545b8f28c3f402281e4781b42252777"
            ]
          }
        },
        "381a8f480e4f4429be89524b94d9ef36": {
          "model_module": "@jupyter-widgets/base",
          "model_name": "LayoutModel",
          "model_module_version": "1.2.0",
          "state": {
            "_view_name": "LayoutView",
            "grid_template_rows": null,
            "right": null,
            "justify_content": null,
            "_view_module": "@jupyter-widgets/base",
            "overflow": null,
            "_model_module_version": "1.2.0",
            "_view_count": null,
            "flex_flow": null,
            "width": null,
            "min_width": null,
            "border": null,
            "align_items": null,
            "bottom": null,
            "_model_module": "@jupyter-widgets/base",
            "top": null,
            "grid_column": null,
            "overflow_y": null,
            "overflow_x": null,
            "grid_auto_flow": null,
            "grid_area": null,
            "grid_template_columns": null,
            "flex": null,
            "_model_name": "LayoutModel",
            "justify_items": null,
            "grid_row": null,
            "max_height": null,
            "align_content": null,
            "visibility": null,
            "align_self": null,
            "height": null,
            "min_height": null,
            "padding": null,
            "grid_auto_rows": null,
            "grid_gap": null,
            "max_width": null,
            "order": null,
            "_view_module_version": "1.2.0",
            "grid_template_areas": null,
            "object_position": null,
            "object_fit": null,
            "grid_auto_columns": null,
            "margin": null,
            "display": null,
            "left": null
          }
        },
        "c08749fdd3e143518ed832f83d878dba": {
          "model_module": "@jupyter-widgets/controls",
          "model_name": "HTMLModel",
          "model_module_version": "1.5.0",
          "state": {
            "_view_name": "HTMLView",
            "style": "IPY_MODEL_42464e3e793b4a02b2160c2d2e9d8f2f",
            "_dom_classes": [],
            "description": "",
            "_model_name": "HTMLModel",
            "placeholder": "​",
            "_view_module": "@jupyter-widgets/controls",
            "_model_module_version": "1.5.0",
            "value": "Downloading: 100%",
            "_view_count": null,
            "_view_module_version": "1.5.0",
            "description_tooltip": null,
            "_model_module": "@jupyter-widgets/controls",
            "layout": "IPY_MODEL_553178e933644ae48c380105d7209e4f"
          }
        },
        "4d4b56c3005c4acbb95ec4d2279710a6": {
          "model_module": "@jupyter-widgets/controls",
          "model_name": "FloatProgressModel",
          "model_module_version": "1.5.0",
          "state": {
            "_view_name": "ProgressView",
            "style": "IPY_MODEL_fda9450a53714522925bdb256866209d",
            "_dom_classes": [],
            "description": "",
            "_model_name": "FloatProgressModel",
            "bar_style": "success",
            "max": 28,
            "_view_module": "@jupyter-widgets/controls",
            "_model_module_version": "1.5.0",
            "value": 28,
            "_view_count": null,
            "_view_module_version": "1.5.0",
            "orientation": "horizontal",
            "min": 0,
            "description_tooltip": null,
            "_model_module": "@jupyter-widgets/controls",
            "layout": "IPY_MODEL_b34e6808b4ef4f63864296bd3ffe1e46"
          }
        },
        "1545b8f28c3f402281e4781b42252777": {
          "model_module": "@jupyter-widgets/controls",
          "model_name": "HTMLModel",
          "model_module_version": "1.5.0",
          "state": {
            "_view_name": "HTMLView",
            "style": "IPY_MODEL_a1698db5db954903bd11114977c78616",
            "_dom_classes": [],
            "description": "",
            "_model_name": "HTMLModel",
            "placeholder": "​",
            "_view_module": "@jupyter-widgets/controls",
            "_model_module_version": "1.5.0",
            "value": " 28.0/28.0 [00:00&lt;00:00, 535B/s]",
            "_view_count": null,
            "_view_module_version": "1.5.0",
            "description_tooltip": null,
            "_model_module": "@jupyter-widgets/controls",
            "layout": "IPY_MODEL_976fb0eff13b467389557acb7e6b61a6"
          }
        },
        "42464e3e793b4a02b2160c2d2e9d8f2f": {
          "model_module": "@jupyter-widgets/controls",
          "model_name": "DescriptionStyleModel",
          "model_module_version": "1.5.0",
          "state": {
            "_view_name": "StyleView",
            "_model_name": "DescriptionStyleModel",
            "description_width": "",
            "_view_module": "@jupyter-widgets/base",
            "_model_module_version": "1.5.0",
            "_view_count": null,
            "_view_module_version": "1.2.0",
            "_model_module": "@jupyter-widgets/controls"
          }
        },
        "553178e933644ae48c380105d7209e4f": {
          "model_module": "@jupyter-widgets/base",
          "model_name": "LayoutModel",
          "model_module_version": "1.2.0",
          "state": {
            "_view_name": "LayoutView",
            "grid_template_rows": null,
            "right": null,
            "justify_content": null,
            "_view_module": "@jupyter-widgets/base",
            "overflow": null,
            "_model_module_version": "1.2.0",
            "_view_count": null,
            "flex_flow": null,
            "width": null,
            "min_width": null,
            "border": null,
            "align_items": null,
            "bottom": null,
            "_model_module": "@jupyter-widgets/base",
            "top": null,
            "grid_column": null,
            "overflow_y": null,
            "overflow_x": null,
            "grid_auto_flow": null,
            "grid_area": null,
            "grid_template_columns": null,
            "flex": null,
            "_model_name": "LayoutModel",
            "justify_items": null,
            "grid_row": null,
            "max_height": null,
            "align_content": null,
            "visibility": null,
            "align_self": null,
            "height": null,
            "min_height": null,
            "padding": null,
            "grid_auto_rows": null,
            "grid_gap": null,
            "max_width": null,
            "order": null,
            "_view_module_version": "1.2.0",
            "grid_template_areas": null,
            "object_position": null,
            "object_fit": null,
            "grid_auto_columns": null,
            "margin": null,
            "display": null,
            "left": null
          }
        },
        "fda9450a53714522925bdb256866209d": {
          "model_module": "@jupyter-widgets/controls",
          "model_name": "ProgressStyleModel",
          "model_module_version": "1.5.0",
          "state": {
            "_view_name": "StyleView",
            "_model_name": "ProgressStyleModel",
            "description_width": "",
            "_view_module": "@jupyter-widgets/base",
            "_model_module_version": "1.5.0",
            "_view_count": null,
            "_view_module_version": "1.2.0",
            "bar_color": null,
            "_model_module": "@jupyter-widgets/controls"
          }
        },
        "b34e6808b4ef4f63864296bd3ffe1e46": {
          "model_module": "@jupyter-widgets/base",
          "model_name": "LayoutModel",
          "model_module_version": "1.2.0",
          "state": {
            "_view_name": "LayoutView",
            "grid_template_rows": null,
            "right": null,
            "justify_content": null,
            "_view_module": "@jupyter-widgets/base",
            "overflow": null,
            "_model_module_version": "1.2.0",
            "_view_count": null,
            "flex_flow": null,
            "width": null,
            "min_width": null,
            "border": null,
            "align_items": null,
            "bottom": null,
            "_model_module": "@jupyter-widgets/base",
            "top": null,
            "grid_column": null,
            "overflow_y": null,
            "overflow_x": null,
            "grid_auto_flow": null,
            "grid_area": null,
            "grid_template_columns": null,
            "flex": null,
            "_model_name": "LayoutModel",
            "justify_items": null,
            "grid_row": null,
            "max_height": null,
            "align_content": null,
            "visibility": null,
            "align_self": null,
            "height": null,
            "min_height": null,
            "padding": null,
            "grid_auto_rows": null,
            "grid_gap": null,
            "max_width": null,
            "order": null,
            "_view_module_version": "1.2.0",
            "grid_template_areas": null,
            "object_position": null,
            "object_fit": null,
            "grid_auto_columns": null,
            "margin": null,
            "display": null,
            "left": null
          }
        },
        "a1698db5db954903bd11114977c78616": {
          "model_module": "@jupyter-widgets/controls",
          "model_name": "DescriptionStyleModel",
          "model_module_version": "1.5.0",
          "state": {
            "_view_name": "StyleView",
            "_model_name": "DescriptionStyleModel",
            "description_width": "",
            "_view_module": "@jupyter-widgets/base",
            "_model_module_version": "1.5.0",
            "_view_count": null,
            "_view_module_version": "1.2.0",
            "_model_module": "@jupyter-widgets/controls"
          }
        },
        "976fb0eff13b467389557acb7e6b61a6": {
          "model_module": "@jupyter-widgets/base",
          "model_name": "LayoutModel",
          "model_module_version": "1.2.0",
          "state": {
            "_view_name": "LayoutView",
            "grid_template_rows": null,
            "right": null,
            "justify_content": null,
            "_view_module": "@jupyter-widgets/base",
            "overflow": null,
            "_model_module_version": "1.2.0",
            "_view_count": null,
            "flex_flow": null,
            "width": null,
            "min_width": null,
            "border": null,
            "align_items": null,
            "bottom": null,
            "_model_module": "@jupyter-widgets/base",
            "top": null,
            "grid_column": null,
            "overflow_y": null,
            "overflow_x": null,
            "grid_auto_flow": null,
            "grid_area": null,
            "grid_template_columns": null,
            "flex": null,
            "_model_name": "LayoutModel",
            "justify_items": null,
            "grid_row": null,
            "max_height": null,
            "align_content": null,
            "visibility": null,
            "align_self": null,
            "height": null,
            "min_height": null,
            "padding": null,
            "grid_auto_rows": null,
            "grid_gap": null,
            "max_width": null,
            "order": null,
            "_view_module_version": "1.2.0",
            "grid_template_areas": null,
            "object_position": null,
            "object_fit": null,
            "grid_auto_columns": null,
            "margin": null,
            "display": null,
            "left": null
          }
        },
        "e34d84680b174cf1b05af6483848b7fe": {
          "model_module": "@jupyter-widgets/controls",
          "model_name": "HBoxModel",
          "model_module_version": "1.5.0",
          "state": {
            "_view_name": "HBoxView",
            "_dom_classes": [],
            "_model_name": "HBoxModel",
            "_view_module": "@jupyter-widgets/controls",
            "_model_module_version": "1.5.0",
            "_view_count": null,
            "_view_module_version": "1.5.0",
            "box_style": "",
            "layout": "IPY_MODEL_2f8a007cc80343b380e652814acd52fb",
            "_model_module": "@jupyter-widgets/controls",
            "children": [
              "IPY_MODEL_aecaafd96b2a4200b1d586e522f1f968",
              "IPY_MODEL_30ab2d54483b4317b1356a581aa3b76b",
              "IPY_MODEL_3143eeefd1b746beb5717a2dc28eaab2"
            ]
          }
        },
        "2f8a007cc80343b380e652814acd52fb": {
          "model_module": "@jupyter-widgets/base",
          "model_name": "LayoutModel",
          "model_module_version": "1.2.0",
          "state": {
            "_view_name": "LayoutView",
            "grid_template_rows": null,
            "right": null,
            "justify_content": null,
            "_view_module": "@jupyter-widgets/base",
            "overflow": null,
            "_model_module_version": "1.2.0",
            "_view_count": null,
            "flex_flow": null,
            "width": null,
            "min_width": null,
            "border": null,
            "align_items": null,
            "bottom": null,
            "_model_module": "@jupyter-widgets/base",
            "top": null,
            "grid_column": null,
            "overflow_y": null,
            "overflow_x": null,
            "grid_auto_flow": null,
            "grid_area": null,
            "grid_template_columns": null,
            "flex": null,
            "_model_name": "LayoutModel",
            "justify_items": null,
            "grid_row": null,
            "max_height": null,
            "align_content": null,
            "visibility": null,
            "align_self": null,
            "height": null,
            "min_height": null,
            "padding": null,
            "grid_auto_rows": null,
            "grid_gap": null,
            "max_width": null,
            "order": null,
            "_view_module_version": "1.2.0",
            "grid_template_areas": null,
            "object_position": null,
            "object_fit": null,
            "grid_auto_columns": null,
            "margin": null,
            "display": null,
            "left": null
          }
        },
        "aecaafd96b2a4200b1d586e522f1f968": {
          "model_module": "@jupyter-widgets/controls",
          "model_name": "HTMLModel",
          "model_module_version": "1.5.0",
          "state": {
            "_view_name": "HTMLView",
            "style": "IPY_MODEL_1e2ddbe2c2e24756944e3a7652bb8ccf",
            "_dom_classes": [],
            "description": "",
            "_model_name": "HTMLModel",
            "placeholder": "​",
            "_view_module": "@jupyter-widgets/controls",
            "_model_module_version": "1.5.0",
            "value": "Downloading: 100%",
            "_view_count": null,
            "_view_module_version": "1.5.0",
            "description_tooltip": null,
            "_model_module": "@jupyter-widgets/controls",
            "layout": "IPY_MODEL_4a49a9348a6f4400802626b07113a16b"
          }
        },
        "30ab2d54483b4317b1356a581aa3b76b": {
          "model_module": "@jupyter-widgets/controls",
          "model_name": "FloatProgressModel",
          "model_module_version": "1.5.0",
          "state": {
            "_view_name": "ProgressView",
            "style": "IPY_MODEL_c7b9bce0976646f6ba8a32c64f4f80c8",
            "_dom_classes": [],
            "description": "",
            "_model_name": "FloatProgressModel",
            "bar_style": "success",
            "max": 231508,
            "_view_module": "@jupyter-widgets/controls",
            "_model_module_version": "1.5.0",
            "value": 231508,
            "_view_count": null,
            "_view_module_version": "1.5.0",
            "orientation": "horizontal",
            "min": 0,
            "description_tooltip": null,
            "_model_module": "@jupyter-widgets/controls",
            "layout": "IPY_MODEL_63ab686125cf4151bc1e12d37ea275d5"
          }
        },
        "3143eeefd1b746beb5717a2dc28eaab2": {
          "model_module": "@jupyter-widgets/controls",
          "model_name": "HTMLModel",
          "model_module_version": "1.5.0",
          "state": {
            "_view_name": "HTMLView",
            "style": "IPY_MODEL_83a97c05b31b4f4ba0338ffec86df856",
            "_dom_classes": [],
            "description": "",
            "_model_name": "HTMLModel",
            "placeholder": "​",
            "_view_module": "@jupyter-widgets/controls",
            "_model_module_version": "1.5.0",
            "value": " 226k/226k [00:00&lt;00:00, 1.33MB/s]",
            "_view_count": null,
            "_view_module_version": "1.5.0",
            "description_tooltip": null,
            "_model_module": "@jupyter-widgets/controls",
            "layout": "IPY_MODEL_a1d663faed9443979c885aadca2a4bf3"
          }
        },
        "1e2ddbe2c2e24756944e3a7652bb8ccf": {
          "model_module": "@jupyter-widgets/controls",
          "model_name": "DescriptionStyleModel",
          "model_module_version": "1.5.0",
          "state": {
            "_view_name": "StyleView",
            "_model_name": "DescriptionStyleModel",
            "description_width": "",
            "_view_module": "@jupyter-widgets/base",
            "_model_module_version": "1.5.0",
            "_view_count": null,
            "_view_module_version": "1.2.0",
            "_model_module": "@jupyter-widgets/controls"
          }
        },
        "4a49a9348a6f4400802626b07113a16b": {
          "model_module": "@jupyter-widgets/base",
          "model_name": "LayoutModel",
          "model_module_version": "1.2.0",
          "state": {
            "_view_name": "LayoutView",
            "grid_template_rows": null,
            "right": null,
            "justify_content": null,
            "_view_module": "@jupyter-widgets/base",
            "overflow": null,
            "_model_module_version": "1.2.0",
            "_view_count": null,
            "flex_flow": null,
            "width": null,
            "min_width": null,
            "border": null,
            "align_items": null,
            "bottom": null,
            "_model_module": "@jupyter-widgets/base",
            "top": null,
            "grid_column": null,
            "overflow_y": null,
            "overflow_x": null,
            "grid_auto_flow": null,
            "grid_area": null,
            "grid_template_columns": null,
            "flex": null,
            "_model_name": "LayoutModel",
            "justify_items": null,
            "grid_row": null,
            "max_height": null,
            "align_content": null,
            "visibility": null,
            "align_self": null,
            "height": null,
            "min_height": null,
            "padding": null,
            "grid_auto_rows": null,
            "grid_gap": null,
            "max_width": null,
            "order": null,
            "_view_module_version": "1.2.0",
            "grid_template_areas": null,
            "object_position": null,
            "object_fit": null,
            "grid_auto_columns": null,
            "margin": null,
            "display": null,
            "left": null
          }
        },
        "c7b9bce0976646f6ba8a32c64f4f80c8": {
          "model_module": "@jupyter-widgets/controls",
          "model_name": "ProgressStyleModel",
          "model_module_version": "1.5.0",
          "state": {
            "_view_name": "StyleView",
            "_model_name": "ProgressStyleModel",
            "description_width": "",
            "_view_module": "@jupyter-widgets/base",
            "_model_module_version": "1.5.0",
            "_view_count": null,
            "_view_module_version": "1.2.0",
            "bar_color": null,
            "_model_module": "@jupyter-widgets/controls"
          }
        },
        "63ab686125cf4151bc1e12d37ea275d5": {
          "model_module": "@jupyter-widgets/base",
          "model_name": "LayoutModel",
          "model_module_version": "1.2.0",
          "state": {
            "_view_name": "LayoutView",
            "grid_template_rows": null,
            "right": null,
            "justify_content": null,
            "_view_module": "@jupyter-widgets/base",
            "overflow": null,
            "_model_module_version": "1.2.0",
            "_view_count": null,
            "flex_flow": null,
            "width": null,
            "min_width": null,
            "border": null,
            "align_items": null,
            "bottom": null,
            "_model_module": "@jupyter-widgets/base",
            "top": null,
            "grid_column": null,
            "overflow_y": null,
            "overflow_x": null,
            "grid_auto_flow": null,
            "grid_area": null,
            "grid_template_columns": null,
            "flex": null,
            "_model_name": "LayoutModel",
            "justify_items": null,
            "grid_row": null,
            "max_height": null,
            "align_content": null,
            "visibility": null,
            "align_self": null,
            "height": null,
            "min_height": null,
            "padding": null,
            "grid_auto_rows": null,
            "grid_gap": null,
            "max_width": null,
            "order": null,
            "_view_module_version": "1.2.0",
            "grid_template_areas": null,
            "object_position": null,
            "object_fit": null,
            "grid_auto_columns": null,
            "margin": null,
            "display": null,
            "left": null
          }
        },
        "83a97c05b31b4f4ba0338ffec86df856": {
          "model_module": "@jupyter-widgets/controls",
          "model_name": "DescriptionStyleModel",
          "model_module_version": "1.5.0",
          "state": {
            "_view_name": "StyleView",
            "_model_name": "DescriptionStyleModel",
            "description_width": "",
            "_view_module": "@jupyter-widgets/base",
            "_model_module_version": "1.5.0",
            "_view_count": null,
            "_view_module_version": "1.2.0",
            "_model_module": "@jupyter-widgets/controls"
          }
        },
        "a1d663faed9443979c885aadca2a4bf3": {
          "model_module": "@jupyter-widgets/base",
          "model_name": "LayoutModel",
          "model_module_version": "1.2.0",
          "state": {
            "_view_name": "LayoutView",
            "grid_template_rows": null,
            "right": null,
            "justify_content": null,
            "_view_module": "@jupyter-widgets/base",
            "overflow": null,
            "_model_module_version": "1.2.0",
            "_view_count": null,
            "flex_flow": null,
            "width": null,
            "min_width": null,
            "border": null,
            "align_items": null,
            "bottom": null,
            "_model_module": "@jupyter-widgets/base",
            "top": null,
            "grid_column": null,
            "overflow_y": null,
            "overflow_x": null,
            "grid_auto_flow": null,
            "grid_area": null,
            "grid_template_columns": null,
            "flex": null,
            "_model_name": "LayoutModel",
            "justify_items": null,
            "grid_row": null,
            "max_height": null,
            "align_content": null,
            "visibility": null,
            "align_self": null,
            "height": null,
            "min_height": null,
            "padding": null,
            "grid_auto_rows": null,
            "grid_gap": null,
            "max_width": null,
            "order": null,
            "_view_module_version": "1.2.0",
            "grid_template_areas": null,
            "object_position": null,
            "object_fit": null,
            "grid_auto_columns": null,
            "margin": null,
            "display": null,
            "left": null
          }
        },
        "222c19a806b3489181ef53107af0ecb6": {
          "model_module": "@jupyter-widgets/controls",
          "model_name": "HBoxModel",
          "model_module_version": "1.5.0",
          "state": {
            "_view_name": "HBoxView",
            "_dom_classes": [],
            "_model_name": "HBoxModel",
            "_view_module": "@jupyter-widgets/controls",
            "_model_module_version": "1.5.0",
            "_view_count": null,
            "_view_module_version": "1.5.0",
            "box_style": "",
            "layout": "IPY_MODEL_48e8e5fd633244938afcb302e70c8180",
            "_model_module": "@jupyter-widgets/controls",
            "children": [
              "IPY_MODEL_1d1dd6b0e5b94806a03c889992abb5b3",
              "IPY_MODEL_7a6dd3cad4c5478c9eb9d3649c2b478a",
              "IPY_MODEL_06d7b77b46b7402a929d2b606da43ee3"
            ]
          }
        },
        "48e8e5fd633244938afcb302e70c8180": {
          "model_module": "@jupyter-widgets/base",
          "model_name": "LayoutModel",
          "model_module_version": "1.2.0",
          "state": {
            "_view_name": "LayoutView",
            "grid_template_rows": null,
            "right": null,
            "justify_content": null,
            "_view_module": "@jupyter-widgets/base",
            "overflow": null,
            "_model_module_version": "1.2.0",
            "_view_count": null,
            "flex_flow": null,
            "width": null,
            "min_width": null,
            "border": null,
            "align_items": null,
            "bottom": null,
            "_model_module": "@jupyter-widgets/base",
            "top": null,
            "grid_column": null,
            "overflow_y": null,
            "overflow_x": null,
            "grid_auto_flow": null,
            "grid_area": null,
            "grid_template_columns": null,
            "flex": null,
            "_model_name": "LayoutModel",
            "justify_items": null,
            "grid_row": null,
            "max_height": null,
            "align_content": null,
            "visibility": null,
            "align_self": null,
            "height": null,
            "min_height": null,
            "padding": null,
            "grid_auto_rows": null,
            "grid_gap": null,
            "max_width": null,
            "order": null,
            "_view_module_version": "1.2.0",
            "grid_template_areas": null,
            "object_position": null,
            "object_fit": null,
            "grid_auto_columns": null,
            "margin": null,
            "display": null,
            "left": null
          }
        },
        "1d1dd6b0e5b94806a03c889992abb5b3": {
          "model_module": "@jupyter-widgets/controls",
          "model_name": "HTMLModel",
          "model_module_version": "1.5.0",
          "state": {
            "_view_name": "HTMLView",
            "style": "IPY_MODEL_d92080ee0e3e49108c9160020254eb75",
            "_dom_classes": [],
            "description": "",
            "_model_name": "HTMLModel",
            "placeholder": "​",
            "_view_module": "@jupyter-widgets/controls",
            "_model_module_version": "1.5.0",
            "value": "Downloading: 100%",
            "_view_count": null,
            "_view_module_version": "1.5.0",
            "description_tooltip": null,
            "_model_module": "@jupyter-widgets/controls",
            "layout": "IPY_MODEL_e86d9bafe42d4451bb9fe742ad8be752"
          }
        },
        "7a6dd3cad4c5478c9eb9d3649c2b478a": {
          "model_module": "@jupyter-widgets/controls",
          "model_name": "FloatProgressModel",
          "model_module_version": "1.5.0",
          "state": {
            "_view_name": "ProgressView",
            "style": "IPY_MODEL_cfbc9b3d10c145018a7ef8100fbc3e41",
            "_dom_classes": [],
            "description": "",
            "_model_name": "FloatProgressModel",
            "bar_style": "success",
            "max": 466062,
            "_view_module": "@jupyter-widgets/controls",
            "_model_module_version": "1.5.0",
            "value": 466062,
            "_view_count": null,
            "_view_module_version": "1.5.0",
            "orientation": "horizontal",
            "min": 0,
            "description_tooltip": null,
            "_model_module": "@jupyter-widgets/controls",
            "layout": "IPY_MODEL_8da81edbfa6f471096cc13ee8faf1e26"
          }
        },
        "06d7b77b46b7402a929d2b606da43ee3": {
          "model_module": "@jupyter-widgets/controls",
          "model_name": "HTMLModel",
          "model_module_version": "1.5.0",
          "state": {
            "_view_name": "HTMLView",
            "style": "IPY_MODEL_bb3c20d3406c4d9f8fc666e7c7cf9048",
            "_dom_classes": [],
            "description": "",
            "_model_name": "HTMLModel",
            "placeholder": "​",
            "_view_module": "@jupyter-widgets/controls",
            "_model_module_version": "1.5.0",
            "value": " 455k/455k [00:00&lt;00:00, 1.39MB/s]",
            "_view_count": null,
            "_view_module_version": "1.5.0",
            "description_tooltip": null,
            "_model_module": "@jupyter-widgets/controls",
            "layout": "IPY_MODEL_5ed238a62b5948aeb2705a001678f6bd"
          }
        },
        "d92080ee0e3e49108c9160020254eb75": {
          "model_module": "@jupyter-widgets/controls",
          "model_name": "DescriptionStyleModel",
          "model_module_version": "1.5.0",
          "state": {
            "_view_name": "StyleView",
            "_model_name": "DescriptionStyleModel",
            "description_width": "",
            "_view_module": "@jupyter-widgets/base",
            "_model_module_version": "1.5.0",
            "_view_count": null,
            "_view_module_version": "1.2.0",
            "_model_module": "@jupyter-widgets/controls"
          }
        },
        "e86d9bafe42d4451bb9fe742ad8be752": {
          "model_module": "@jupyter-widgets/base",
          "model_name": "LayoutModel",
          "model_module_version": "1.2.0",
          "state": {
            "_view_name": "LayoutView",
            "grid_template_rows": null,
            "right": null,
            "justify_content": null,
            "_view_module": "@jupyter-widgets/base",
            "overflow": null,
            "_model_module_version": "1.2.0",
            "_view_count": null,
            "flex_flow": null,
            "width": null,
            "min_width": null,
            "border": null,
            "align_items": null,
            "bottom": null,
            "_model_module": "@jupyter-widgets/base",
            "top": null,
            "grid_column": null,
            "overflow_y": null,
            "overflow_x": null,
            "grid_auto_flow": null,
            "grid_area": null,
            "grid_template_columns": null,
            "flex": null,
            "_model_name": "LayoutModel",
            "justify_items": null,
            "grid_row": null,
            "max_height": null,
            "align_content": null,
            "visibility": null,
            "align_self": null,
            "height": null,
            "min_height": null,
            "padding": null,
            "grid_auto_rows": null,
            "grid_gap": null,
            "max_width": null,
            "order": null,
            "_view_module_version": "1.2.0",
            "grid_template_areas": null,
            "object_position": null,
            "object_fit": null,
            "grid_auto_columns": null,
            "margin": null,
            "display": null,
            "left": null
          }
        },
        "cfbc9b3d10c145018a7ef8100fbc3e41": {
          "model_module": "@jupyter-widgets/controls",
          "model_name": "ProgressStyleModel",
          "model_module_version": "1.5.0",
          "state": {
            "_view_name": "StyleView",
            "_model_name": "ProgressStyleModel",
            "description_width": "",
            "_view_module": "@jupyter-widgets/base",
            "_model_module_version": "1.5.0",
            "_view_count": null,
            "_view_module_version": "1.2.0",
            "bar_color": null,
            "_model_module": "@jupyter-widgets/controls"
          }
        },
        "8da81edbfa6f471096cc13ee8faf1e26": {
          "model_module": "@jupyter-widgets/base",
          "model_name": "LayoutModel",
          "model_module_version": "1.2.0",
          "state": {
            "_view_name": "LayoutView",
            "grid_template_rows": null,
            "right": null,
            "justify_content": null,
            "_view_module": "@jupyter-widgets/base",
            "overflow": null,
            "_model_module_version": "1.2.0",
            "_view_count": null,
            "flex_flow": null,
            "width": null,
            "min_width": null,
            "border": null,
            "align_items": null,
            "bottom": null,
            "_model_module": "@jupyter-widgets/base",
            "top": null,
            "grid_column": null,
            "overflow_y": null,
            "overflow_x": null,
            "grid_auto_flow": null,
            "grid_area": null,
            "grid_template_columns": null,
            "flex": null,
            "_model_name": "LayoutModel",
            "justify_items": null,
            "grid_row": null,
            "max_height": null,
            "align_content": null,
            "visibility": null,
            "align_self": null,
            "height": null,
            "min_height": null,
            "padding": null,
            "grid_auto_rows": null,
            "grid_gap": null,
            "max_width": null,
            "order": null,
            "_view_module_version": "1.2.0",
            "grid_template_areas": null,
            "object_position": null,
            "object_fit": null,
            "grid_auto_columns": null,
            "margin": null,
            "display": null,
            "left": null
          }
        },
        "bb3c20d3406c4d9f8fc666e7c7cf9048": {
          "model_module": "@jupyter-widgets/controls",
          "model_name": "DescriptionStyleModel",
          "model_module_version": "1.5.0",
          "state": {
            "_view_name": "StyleView",
            "_model_name": "DescriptionStyleModel",
            "description_width": "",
            "_view_module": "@jupyter-widgets/base",
            "_model_module_version": "1.5.0",
            "_view_count": null,
            "_view_module_version": "1.2.0",
            "_model_module": "@jupyter-widgets/controls"
          }
        },
        "5ed238a62b5948aeb2705a001678f6bd": {
          "model_module": "@jupyter-widgets/base",
          "model_name": "LayoutModel",
          "model_module_version": "1.2.0",
          "state": {
            "_view_name": "LayoutView",
            "grid_template_rows": null,
            "right": null,
            "justify_content": null,
            "_view_module": "@jupyter-widgets/base",
            "overflow": null,
            "_model_module_version": "1.2.0",
            "_view_count": null,
            "flex_flow": null,
            "width": null,
            "min_width": null,
            "border": null,
            "align_items": null,
            "bottom": null,
            "_model_module": "@jupyter-widgets/base",
            "top": null,
            "grid_column": null,
            "overflow_y": null,
            "overflow_x": null,
            "grid_auto_flow": null,
            "grid_area": null,
            "grid_template_columns": null,
            "flex": null,
            "_model_name": "LayoutModel",
            "justify_items": null,
            "grid_row": null,
            "max_height": null,
            "align_content": null,
            "visibility": null,
            "align_self": null,
            "height": null,
            "min_height": null,
            "padding": null,
            "grid_auto_rows": null,
            "grid_gap": null,
            "max_width": null,
            "order": null,
            "_view_module_version": "1.2.0",
            "grid_template_areas": null,
            "object_position": null,
            "object_fit": null,
            "grid_auto_columns": null,
            "margin": null,
            "display": null,
            "left": null
          }
        },
        "73068e6bd89c40ebb394ff0b2dfecc89": {
          "model_module": "@jupyter-widgets/controls",
          "model_name": "HBoxModel",
          "model_module_version": "1.5.0",
          "state": {
            "_view_name": "HBoxView",
            "_dom_classes": [],
            "_model_name": "HBoxModel",
            "_view_module": "@jupyter-widgets/controls",
            "_model_module_version": "1.5.0",
            "_view_count": null,
            "_view_module_version": "1.5.0",
            "box_style": "",
            "layout": "IPY_MODEL_e94b433145704c9b93b85d036b300ffd",
            "_model_module": "@jupyter-widgets/controls",
            "children": [
              "IPY_MODEL_ae22988d267a4eb6adb970efa8883005",
              "IPY_MODEL_ff5296322d194952a8945179c3bbaf0d",
              "IPY_MODEL_3d46b4bede514813a141db55a303d636"
            ]
          }
        },
        "e94b433145704c9b93b85d036b300ffd": {
          "model_module": "@jupyter-widgets/base",
          "model_name": "LayoutModel",
          "model_module_version": "1.2.0",
          "state": {
            "_view_name": "LayoutView",
            "grid_template_rows": null,
            "right": null,
            "justify_content": null,
            "_view_module": "@jupyter-widgets/base",
            "overflow": null,
            "_model_module_version": "1.2.0",
            "_view_count": null,
            "flex_flow": null,
            "width": null,
            "min_width": null,
            "border": null,
            "align_items": null,
            "bottom": null,
            "_model_module": "@jupyter-widgets/base",
            "top": null,
            "grid_column": null,
            "overflow_y": null,
            "overflow_x": null,
            "grid_auto_flow": null,
            "grid_area": null,
            "grid_template_columns": null,
            "flex": null,
            "_model_name": "LayoutModel",
            "justify_items": null,
            "grid_row": null,
            "max_height": null,
            "align_content": null,
            "visibility": null,
            "align_self": null,
            "height": null,
            "min_height": null,
            "padding": null,
            "grid_auto_rows": null,
            "grid_gap": null,
            "max_width": null,
            "order": null,
            "_view_module_version": "1.2.0",
            "grid_template_areas": null,
            "object_position": null,
            "object_fit": null,
            "grid_auto_columns": null,
            "margin": null,
            "display": null,
            "left": null
          }
        },
        "ae22988d267a4eb6adb970efa8883005": {
          "model_module": "@jupyter-widgets/controls",
          "model_name": "HTMLModel",
          "model_module_version": "1.5.0",
          "state": {
            "_view_name": "HTMLView",
            "style": "IPY_MODEL_683fd19b589042239599ecfd0a1de91c",
            "_dom_classes": [],
            "description": "",
            "_model_name": "HTMLModel",
            "placeholder": "​",
            "_view_module": "@jupyter-widgets/controls",
            "_model_module_version": "1.5.0",
            "value": "Downloading: 100%",
            "_view_count": null,
            "_view_module_version": "1.5.0",
            "description_tooltip": null,
            "_model_module": "@jupyter-widgets/controls",
            "layout": "IPY_MODEL_221c8c58219048cca028fa8823c7d5e0"
          }
        },
        "ff5296322d194952a8945179c3bbaf0d": {
          "model_module": "@jupyter-widgets/controls",
          "model_name": "FloatProgressModel",
          "model_module_version": "1.5.0",
          "state": {
            "_view_name": "ProgressView",
            "style": "IPY_MODEL_292fc536acbe4e1cae7088e5c2c1d0ea",
            "_dom_classes": [],
            "description": "",
            "_model_name": "FloatProgressModel",
            "bar_style": "success",
            "max": 483,
            "_view_module": "@jupyter-widgets/controls",
            "_model_module_version": "1.5.0",
            "value": 483,
            "_view_count": null,
            "_view_module_version": "1.5.0",
            "orientation": "horizontal",
            "min": 0,
            "description_tooltip": null,
            "_model_module": "@jupyter-widgets/controls",
            "layout": "IPY_MODEL_ec21bbbb3deb4367935c65471ec8586c"
          }
        },
        "3d46b4bede514813a141db55a303d636": {
          "model_module": "@jupyter-widgets/controls",
          "model_name": "HTMLModel",
          "model_module_version": "1.5.0",
          "state": {
            "_view_name": "HTMLView",
            "style": "IPY_MODEL_5710dc5b280845b0a525179fd76aa8b8",
            "_dom_classes": [],
            "description": "",
            "_model_name": "HTMLModel",
            "placeholder": "​",
            "_view_module": "@jupyter-widgets/controls",
            "_model_module_version": "1.5.0",
            "value": " 483/483 [00:00&lt;00:00, 8.62kB/s]",
            "_view_count": null,
            "_view_module_version": "1.5.0",
            "description_tooltip": null,
            "_model_module": "@jupyter-widgets/controls",
            "layout": "IPY_MODEL_9beb8583990b4dd390b17446b803f22a"
          }
        },
        "683fd19b589042239599ecfd0a1de91c": {
          "model_module": "@jupyter-widgets/controls",
          "model_name": "DescriptionStyleModel",
          "model_module_version": "1.5.0",
          "state": {
            "_view_name": "StyleView",
            "_model_name": "DescriptionStyleModel",
            "description_width": "",
            "_view_module": "@jupyter-widgets/base",
            "_model_module_version": "1.5.0",
            "_view_count": null,
            "_view_module_version": "1.2.0",
            "_model_module": "@jupyter-widgets/controls"
          }
        },
        "221c8c58219048cca028fa8823c7d5e0": {
          "model_module": "@jupyter-widgets/base",
          "model_name": "LayoutModel",
          "model_module_version": "1.2.0",
          "state": {
            "_view_name": "LayoutView",
            "grid_template_rows": null,
            "right": null,
            "justify_content": null,
            "_view_module": "@jupyter-widgets/base",
            "overflow": null,
            "_model_module_version": "1.2.0",
            "_view_count": null,
            "flex_flow": null,
            "width": null,
            "min_width": null,
            "border": null,
            "align_items": null,
            "bottom": null,
            "_model_module": "@jupyter-widgets/base",
            "top": null,
            "grid_column": null,
            "overflow_y": null,
            "overflow_x": null,
            "grid_auto_flow": null,
            "grid_area": null,
            "grid_template_columns": null,
            "flex": null,
            "_model_name": "LayoutModel",
            "justify_items": null,
            "grid_row": null,
            "max_height": null,
            "align_content": null,
            "visibility": null,
            "align_self": null,
            "height": null,
            "min_height": null,
            "padding": null,
            "grid_auto_rows": null,
            "grid_gap": null,
            "max_width": null,
            "order": null,
            "_view_module_version": "1.2.0",
            "grid_template_areas": null,
            "object_position": null,
            "object_fit": null,
            "grid_auto_columns": null,
            "margin": null,
            "display": null,
            "left": null
          }
        },
        "292fc536acbe4e1cae7088e5c2c1d0ea": {
          "model_module": "@jupyter-widgets/controls",
          "model_name": "ProgressStyleModel",
          "model_module_version": "1.5.0",
          "state": {
            "_view_name": "StyleView",
            "_model_name": "ProgressStyleModel",
            "description_width": "",
            "_view_module": "@jupyter-widgets/base",
            "_model_module_version": "1.5.0",
            "_view_count": null,
            "_view_module_version": "1.2.0",
            "bar_color": null,
            "_model_module": "@jupyter-widgets/controls"
          }
        },
        "ec21bbbb3deb4367935c65471ec8586c": {
          "model_module": "@jupyter-widgets/base",
          "model_name": "LayoutModel",
          "model_module_version": "1.2.0",
          "state": {
            "_view_name": "LayoutView",
            "grid_template_rows": null,
            "right": null,
            "justify_content": null,
            "_view_module": "@jupyter-widgets/base",
            "overflow": null,
            "_model_module_version": "1.2.0",
            "_view_count": null,
            "flex_flow": null,
            "width": null,
            "min_width": null,
            "border": null,
            "align_items": null,
            "bottom": null,
            "_model_module": "@jupyter-widgets/base",
            "top": null,
            "grid_column": null,
            "overflow_y": null,
            "overflow_x": null,
            "grid_auto_flow": null,
            "grid_area": null,
            "grid_template_columns": null,
            "flex": null,
            "_model_name": "LayoutModel",
            "justify_items": null,
            "grid_row": null,
            "max_height": null,
            "align_content": null,
            "visibility": null,
            "align_self": null,
            "height": null,
            "min_height": null,
            "padding": null,
            "grid_auto_rows": null,
            "grid_gap": null,
            "max_width": null,
            "order": null,
            "_view_module_version": "1.2.0",
            "grid_template_areas": null,
            "object_position": null,
            "object_fit": null,
            "grid_auto_columns": null,
            "margin": null,
            "display": null,
            "left": null
          }
        },
        "5710dc5b280845b0a525179fd76aa8b8": {
          "model_module": "@jupyter-widgets/controls",
          "model_name": "DescriptionStyleModel",
          "model_module_version": "1.5.0",
          "state": {
            "_view_name": "StyleView",
            "_model_name": "DescriptionStyleModel",
            "description_width": "",
            "_view_module": "@jupyter-widgets/base",
            "_model_module_version": "1.5.0",
            "_view_count": null,
            "_view_module_version": "1.2.0",
            "_model_module": "@jupyter-widgets/controls"
          }
        },
        "9beb8583990b4dd390b17446b803f22a": {
          "model_module": "@jupyter-widgets/base",
          "model_name": "LayoutModel",
          "model_module_version": "1.2.0",
          "state": {
            "_view_name": "LayoutView",
            "grid_template_rows": null,
            "right": null,
            "justify_content": null,
            "_view_module": "@jupyter-widgets/base",
            "overflow": null,
            "_model_module_version": "1.2.0",
            "_view_count": null,
            "flex_flow": null,
            "width": null,
            "min_width": null,
            "border": null,
            "align_items": null,
            "bottom": null,
            "_model_module": "@jupyter-widgets/base",
            "top": null,
            "grid_column": null,
            "overflow_y": null,
            "overflow_x": null,
            "grid_auto_flow": null,
            "grid_area": null,
            "grid_template_columns": null,
            "flex": null,
            "_model_name": "LayoutModel",
            "justify_items": null,
            "grid_row": null,
            "max_height": null,
            "align_content": null,
            "visibility": null,
            "align_self": null,
            "height": null,
            "min_height": null,
            "padding": null,
            "grid_auto_rows": null,
            "grid_gap": null,
            "max_width": null,
            "order": null,
            "_view_module_version": "1.2.0",
            "grid_template_areas": null,
            "object_position": null,
            "object_fit": null,
            "grid_auto_columns": null,
            "margin": null,
            "display": null,
            "left": null
          }
        },
        "38aa339bae2d4f1682ed5e78c345d148": {
          "model_module": "@jupyter-widgets/controls",
          "model_name": "HBoxModel",
          "model_module_version": "1.5.0",
          "state": {
            "_view_name": "HBoxView",
            "_dom_classes": [],
            "_model_name": "HBoxModel",
            "_view_module": "@jupyter-widgets/controls",
            "_model_module_version": "1.5.0",
            "_view_count": null,
            "_view_module_version": "1.5.0",
            "box_style": "",
            "layout": "IPY_MODEL_dc8ebaab2cfa4cfb97bf6953ca89adb5",
            "_model_module": "@jupyter-widgets/controls",
            "children": [
              "IPY_MODEL_6abdcfcda6f049ad820562db531fbd22",
              "IPY_MODEL_8b759ca0b2754e0d83494e9c338917eb",
              "IPY_MODEL_93c39aec779a42489ba0ccbc9ef74c46"
            ]
          }
        },
        "dc8ebaab2cfa4cfb97bf6953ca89adb5": {
          "model_module": "@jupyter-widgets/base",
          "model_name": "LayoutModel",
          "model_module_version": "1.2.0",
          "state": {
            "_view_name": "LayoutView",
            "grid_template_rows": null,
            "right": null,
            "justify_content": null,
            "_view_module": "@jupyter-widgets/base",
            "overflow": null,
            "_model_module_version": "1.2.0",
            "_view_count": null,
            "flex_flow": null,
            "width": null,
            "min_width": null,
            "border": null,
            "align_items": null,
            "bottom": null,
            "_model_module": "@jupyter-widgets/base",
            "top": null,
            "grid_column": null,
            "overflow_y": null,
            "overflow_x": null,
            "grid_auto_flow": null,
            "grid_area": null,
            "grid_template_columns": null,
            "flex": null,
            "_model_name": "LayoutModel",
            "justify_items": null,
            "grid_row": null,
            "max_height": null,
            "align_content": null,
            "visibility": null,
            "align_self": null,
            "height": null,
            "min_height": null,
            "padding": null,
            "grid_auto_rows": null,
            "grid_gap": null,
            "max_width": null,
            "order": null,
            "_view_module_version": "1.2.0",
            "grid_template_areas": null,
            "object_position": null,
            "object_fit": null,
            "grid_auto_columns": null,
            "margin": null,
            "display": null,
            "left": null
          }
        },
        "6abdcfcda6f049ad820562db531fbd22": {
          "model_module": "@jupyter-widgets/controls",
          "model_name": "HTMLModel",
          "model_module_version": "1.5.0",
          "state": {
            "_view_name": "HTMLView",
            "style": "IPY_MODEL_33b0d3b507b244f199d8bf3464a072a4",
            "_dom_classes": [],
            "description": "",
            "_model_name": "HTMLModel",
            "placeholder": "​",
            "_view_module": "@jupyter-widgets/controls",
            "_model_module_version": "1.5.0",
            "value": "Downloading: 100%",
            "_view_count": null,
            "_view_module_version": "1.5.0",
            "description_tooltip": null,
            "_model_module": "@jupyter-widgets/controls",
            "layout": "IPY_MODEL_3a830137495b4abbbbb458fba5e0f9d6"
          }
        },
        "8b759ca0b2754e0d83494e9c338917eb": {
          "model_module": "@jupyter-widgets/controls",
          "model_name": "FloatProgressModel",
          "model_module_version": "1.5.0",
          "state": {
            "_view_name": "ProgressView",
            "style": "IPY_MODEL_838b28ce8e2c4970bdf5ed1ac69a9cd4",
            "_dom_classes": [],
            "description": "",
            "_model_name": "FloatProgressModel",
            "bar_style": "success",
            "max": 29,
            "_view_module": "@jupyter-widgets/controls",
            "_model_module_version": "1.5.0",
            "value": 29,
            "_view_count": null,
            "_view_module_version": "1.5.0",
            "orientation": "horizontal",
            "min": 0,
            "description_tooltip": null,
            "_model_module": "@jupyter-widgets/controls",
            "layout": "IPY_MODEL_cedd073f59434cde891915aab014521b"
          }
        },
        "93c39aec779a42489ba0ccbc9ef74c46": {
          "model_module": "@jupyter-widgets/controls",
          "model_name": "HTMLModel",
          "model_module_version": "1.5.0",
          "state": {
            "_view_name": "HTMLView",
            "style": "IPY_MODEL_0e06ce41614c408bb54e5a7ac9d488ed",
            "_dom_classes": [],
            "description": "",
            "_model_name": "HTMLModel",
            "placeholder": "​",
            "_view_module": "@jupyter-widgets/controls",
            "_model_module_version": "1.5.0",
            "value": " 29.0/29.0 [00:00&lt;00:00, 496B/s]",
            "_view_count": null,
            "_view_module_version": "1.5.0",
            "description_tooltip": null,
            "_model_module": "@jupyter-widgets/controls",
            "layout": "IPY_MODEL_1d2696185b5041f187fdab567141ab0d"
          }
        },
        "33b0d3b507b244f199d8bf3464a072a4": {
          "model_module": "@jupyter-widgets/controls",
          "model_name": "DescriptionStyleModel",
          "model_module_version": "1.5.0",
          "state": {
            "_view_name": "StyleView",
            "_model_name": "DescriptionStyleModel",
            "description_width": "",
            "_view_module": "@jupyter-widgets/base",
            "_model_module_version": "1.5.0",
            "_view_count": null,
            "_view_module_version": "1.2.0",
            "_model_module": "@jupyter-widgets/controls"
          }
        },
        "3a830137495b4abbbbb458fba5e0f9d6": {
          "model_module": "@jupyter-widgets/base",
          "model_name": "LayoutModel",
          "model_module_version": "1.2.0",
          "state": {
            "_view_name": "LayoutView",
            "grid_template_rows": null,
            "right": null,
            "justify_content": null,
            "_view_module": "@jupyter-widgets/base",
            "overflow": null,
            "_model_module_version": "1.2.0",
            "_view_count": null,
            "flex_flow": null,
            "width": null,
            "min_width": null,
            "border": null,
            "align_items": null,
            "bottom": null,
            "_model_module": "@jupyter-widgets/base",
            "top": null,
            "grid_column": null,
            "overflow_y": null,
            "overflow_x": null,
            "grid_auto_flow": null,
            "grid_area": null,
            "grid_template_columns": null,
            "flex": null,
            "_model_name": "LayoutModel",
            "justify_items": null,
            "grid_row": null,
            "max_height": null,
            "align_content": null,
            "visibility": null,
            "align_self": null,
            "height": null,
            "min_height": null,
            "padding": null,
            "grid_auto_rows": null,
            "grid_gap": null,
            "max_width": null,
            "order": null,
            "_view_module_version": "1.2.0",
            "grid_template_areas": null,
            "object_position": null,
            "object_fit": null,
            "grid_auto_columns": null,
            "margin": null,
            "display": null,
            "left": null
          }
        },
        "838b28ce8e2c4970bdf5ed1ac69a9cd4": {
          "model_module": "@jupyter-widgets/controls",
          "model_name": "ProgressStyleModel",
          "model_module_version": "1.5.0",
          "state": {
            "_view_name": "StyleView",
            "_model_name": "ProgressStyleModel",
            "description_width": "",
            "_view_module": "@jupyter-widgets/base",
            "_model_module_version": "1.5.0",
            "_view_count": null,
            "_view_module_version": "1.2.0",
            "bar_color": null,
            "_model_module": "@jupyter-widgets/controls"
          }
        },
        "cedd073f59434cde891915aab014521b": {
          "model_module": "@jupyter-widgets/base",
          "model_name": "LayoutModel",
          "model_module_version": "1.2.0",
          "state": {
            "_view_name": "LayoutView",
            "grid_template_rows": null,
            "right": null,
            "justify_content": null,
            "_view_module": "@jupyter-widgets/base",
            "overflow": null,
            "_model_module_version": "1.2.0",
            "_view_count": null,
            "flex_flow": null,
            "width": null,
            "min_width": null,
            "border": null,
            "align_items": null,
            "bottom": null,
            "_model_module": "@jupyter-widgets/base",
            "top": null,
            "grid_column": null,
            "overflow_y": null,
            "overflow_x": null,
            "grid_auto_flow": null,
            "grid_area": null,
            "grid_template_columns": null,
            "flex": null,
            "_model_name": "LayoutModel",
            "justify_items": null,
            "grid_row": null,
            "max_height": null,
            "align_content": null,
            "visibility": null,
            "align_self": null,
            "height": null,
            "min_height": null,
            "padding": null,
            "grid_auto_rows": null,
            "grid_gap": null,
            "max_width": null,
            "order": null,
            "_view_module_version": "1.2.0",
            "grid_template_areas": null,
            "object_position": null,
            "object_fit": null,
            "grid_auto_columns": null,
            "margin": null,
            "display": null,
            "left": null
          }
        },
        "0e06ce41614c408bb54e5a7ac9d488ed": {
          "model_module": "@jupyter-widgets/controls",
          "model_name": "DescriptionStyleModel",
          "model_module_version": "1.5.0",
          "state": {
            "_view_name": "StyleView",
            "_model_name": "DescriptionStyleModel",
            "description_width": "",
            "_view_module": "@jupyter-widgets/base",
            "_model_module_version": "1.5.0",
            "_view_count": null,
            "_view_module_version": "1.2.0",
            "_model_module": "@jupyter-widgets/controls"
          }
        },
        "1d2696185b5041f187fdab567141ab0d": {
          "model_module": "@jupyter-widgets/base",
          "model_name": "LayoutModel",
          "model_module_version": "1.2.0",
          "state": {
            "_view_name": "LayoutView",
            "grid_template_rows": null,
            "right": null,
            "justify_content": null,
            "_view_module": "@jupyter-widgets/base",
            "overflow": null,
            "_model_module_version": "1.2.0",
            "_view_count": null,
            "flex_flow": null,
            "width": null,
            "min_width": null,
            "border": null,
            "align_items": null,
            "bottom": null,
            "_model_module": "@jupyter-widgets/base",
            "top": null,
            "grid_column": null,
            "overflow_y": null,
            "overflow_x": null,
            "grid_auto_flow": null,
            "grid_area": null,
            "grid_template_columns": null,
            "flex": null,
            "_model_name": "LayoutModel",
            "justify_items": null,
            "grid_row": null,
            "max_height": null,
            "align_content": null,
            "visibility": null,
            "align_self": null,
            "height": null,
            "min_height": null,
            "padding": null,
            "grid_auto_rows": null,
            "grid_gap": null,
            "max_width": null,
            "order": null,
            "_view_module_version": "1.2.0",
            "grid_template_areas": null,
            "object_position": null,
            "object_fit": null,
            "grid_auto_columns": null,
            "margin": null,
            "display": null,
            "left": null
          }
        },
        "5b27e18d78c94fb0996779b09fccd30d": {
          "model_module": "@jupyter-widgets/controls",
          "model_name": "HBoxModel",
          "model_module_version": "1.5.0",
          "state": {
            "_view_name": "HBoxView",
            "_dom_classes": [],
            "_model_name": "HBoxModel",
            "_view_module": "@jupyter-widgets/controls",
            "_model_module_version": "1.5.0",
            "_view_count": null,
            "_view_module_version": "1.5.0",
            "box_style": "",
            "layout": "IPY_MODEL_eb3bf0ba0f164b3ca5aae3c94050bece",
            "_model_module": "@jupyter-widgets/controls",
            "children": [
              "IPY_MODEL_2d7ee29010e746a6a72d2a28d66c34c3",
              "IPY_MODEL_8d93ee8c6c2a47899f7d5a951509bc66",
              "IPY_MODEL_803d6f80fb4243b0965c5c6d18b8355a"
            ]
          }
        },
        "eb3bf0ba0f164b3ca5aae3c94050bece": {
          "model_module": "@jupyter-widgets/base",
          "model_name": "LayoutModel",
          "model_module_version": "1.2.0",
          "state": {
            "_view_name": "LayoutView",
            "grid_template_rows": null,
            "right": null,
            "justify_content": null,
            "_view_module": "@jupyter-widgets/base",
            "overflow": null,
            "_model_module_version": "1.2.0",
            "_view_count": null,
            "flex_flow": null,
            "width": null,
            "min_width": null,
            "border": null,
            "align_items": null,
            "bottom": null,
            "_model_module": "@jupyter-widgets/base",
            "top": null,
            "grid_column": null,
            "overflow_y": null,
            "overflow_x": null,
            "grid_auto_flow": null,
            "grid_area": null,
            "grid_template_columns": null,
            "flex": null,
            "_model_name": "LayoutModel",
            "justify_items": null,
            "grid_row": null,
            "max_height": null,
            "align_content": null,
            "visibility": null,
            "align_self": null,
            "height": null,
            "min_height": null,
            "padding": null,
            "grid_auto_rows": null,
            "grid_gap": null,
            "max_width": null,
            "order": null,
            "_view_module_version": "1.2.0",
            "grid_template_areas": null,
            "object_position": null,
            "object_fit": null,
            "grid_auto_columns": null,
            "margin": null,
            "display": null,
            "left": null
          }
        },
        "2d7ee29010e746a6a72d2a28d66c34c3": {
          "model_module": "@jupyter-widgets/controls",
          "model_name": "HTMLModel",
          "model_module_version": "1.5.0",
          "state": {
            "_view_name": "HTMLView",
            "style": "IPY_MODEL_908d416400804fbfa047b40ad7edb10b",
            "_dom_classes": [],
            "description": "",
            "_model_name": "HTMLModel",
            "placeholder": "​",
            "_view_module": "@jupyter-widgets/controls",
            "_model_module_version": "1.5.0",
            "value": "Downloading: 100%",
            "_view_count": null,
            "_view_module_version": "1.5.0",
            "description_tooltip": null,
            "_model_module": "@jupyter-widgets/controls",
            "layout": "IPY_MODEL_9a79168c8ed14eaab566cfda40fdcbd0"
          }
        },
        "8d93ee8c6c2a47899f7d5a951509bc66": {
          "model_module": "@jupyter-widgets/controls",
          "model_name": "FloatProgressModel",
          "model_module_version": "1.5.0",
          "state": {
            "_view_name": "ProgressView",
            "style": "IPY_MODEL_f8c9f3eeed324b9a9de7da18a9e933c3",
            "_dom_classes": [],
            "description": "",
            "_model_name": "FloatProgressModel",
            "bar_style": "success",
            "max": 625,
            "_view_module": "@jupyter-widgets/controls",
            "_model_module_version": "1.5.0",
            "value": 625,
            "_view_count": null,
            "_view_module_version": "1.5.0",
            "orientation": "horizontal",
            "min": 0,
            "description_tooltip": null,
            "_model_module": "@jupyter-widgets/controls",
            "layout": "IPY_MODEL_d4976d8925d646c295029e47f9157edb"
          }
        },
        "803d6f80fb4243b0965c5c6d18b8355a": {
          "model_module": "@jupyter-widgets/controls",
          "model_name": "HTMLModel",
          "model_module_version": "1.5.0",
          "state": {
            "_view_name": "HTMLView",
            "style": "IPY_MODEL_f9a89b67f1ba4ab7b29142c9817c9ecf",
            "_dom_classes": [],
            "description": "",
            "_model_name": "HTMLModel",
            "placeholder": "​",
            "_view_module": "@jupyter-widgets/controls",
            "_model_module_version": "1.5.0",
            "value": " 625/625 [00:00&lt;00:00, 16.7kB/s]",
            "_view_count": null,
            "_view_module_version": "1.5.0",
            "description_tooltip": null,
            "_model_module": "@jupyter-widgets/controls",
            "layout": "IPY_MODEL_d85a7ebb2b1b47b4a4bf419f299c3b5e"
          }
        },
        "908d416400804fbfa047b40ad7edb10b": {
          "model_module": "@jupyter-widgets/controls",
          "model_name": "DescriptionStyleModel",
          "model_module_version": "1.5.0",
          "state": {
            "_view_name": "StyleView",
            "_model_name": "DescriptionStyleModel",
            "description_width": "",
            "_view_module": "@jupyter-widgets/base",
            "_model_module_version": "1.5.0",
            "_view_count": null,
            "_view_module_version": "1.2.0",
            "_model_module": "@jupyter-widgets/controls"
          }
        },
        "9a79168c8ed14eaab566cfda40fdcbd0": {
          "model_module": "@jupyter-widgets/base",
          "model_name": "LayoutModel",
          "model_module_version": "1.2.0",
          "state": {
            "_view_name": "LayoutView",
            "grid_template_rows": null,
            "right": null,
            "justify_content": null,
            "_view_module": "@jupyter-widgets/base",
            "overflow": null,
            "_model_module_version": "1.2.0",
            "_view_count": null,
            "flex_flow": null,
            "width": null,
            "min_width": null,
            "border": null,
            "align_items": null,
            "bottom": null,
            "_model_module": "@jupyter-widgets/base",
            "top": null,
            "grid_column": null,
            "overflow_y": null,
            "overflow_x": null,
            "grid_auto_flow": null,
            "grid_area": null,
            "grid_template_columns": null,
            "flex": null,
            "_model_name": "LayoutModel",
            "justify_items": null,
            "grid_row": null,
            "max_height": null,
            "align_content": null,
            "visibility": null,
            "align_self": null,
            "height": null,
            "min_height": null,
            "padding": null,
            "grid_auto_rows": null,
            "grid_gap": null,
            "max_width": null,
            "order": null,
            "_view_module_version": "1.2.0",
            "grid_template_areas": null,
            "object_position": null,
            "object_fit": null,
            "grid_auto_columns": null,
            "margin": null,
            "display": null,
            "left": null
          }
        },
        "f8c9f3eeed324b9a9de7da18a9e933c3": {
          "model_module": "@jupyter-widgets/controls",
          "model_name": "ProgressStyleModel",
          "model_module_version": "1.5.0",
          "state": {
            "_view_name": "StyleView",
            "_model_name": "ProgressStyleModel",
            "description_width": "",
            "_view_module": "@jupyter-widgets/base",
            "_model_module_version": "1.5.0",
            "_view_count": null,
            "_view_module_version": "1.2.0",
            "bar_color": null,
            "_model_module": "@jupyter-widgets/controls"
          }
        },
        "d4976d8925d646c295029e47f9157edb": {
          "model_module": "@jupyter-widgets/base",
          "model_name": "LayoutModel",
          "model_module_version": "1.2.0",
          "state": {
            "_view_name": "LayoutView",
            "grid_template_rows": null,
            "right": null,
            "justify_content": null,
            "_view_module": "@jupyter-widgets/base",
            "overflow": null,
            "_model_module_version": "1.2.0",
            "_view_count": null,
            "flex_flow": null,
            "width": null,
            "min_width": null,
            "border": null,
            "align_items": null,
            "bottom": null,
            "_model_module": "@jupyter-widgets/base",
            "top": null,
            "grid_column": null,
            "overflow_y": null,
            "overflow_x": null,
            "grid_auto_flow": null,
            "grid_area": null,
            "grid_template_columns": null,
            "flex": null,
            "_model_name": "LayoutModel",
            "justify_items": null,
            "grid_row": null,
            "max_height": null,
            "align_content": null,
            "visibility": null,
            "align_self": null,
            "height": null,
            "min_height": null,
            "padding": null,
            "grid_auto_rows": null,
            "grid_gap": null,
            "max_width": null,
            "order": null,
            "_view_module_version": "1.2.0",
            "grid_template_areas": null,
            "object_position": null,
            "object_fit": null,
            "grid_auto_columns": null,
            "margin": null,
            "display": null,
            "left": null
          }
        },
        "f9a89b67f1ba4ab7b29142c9817c9ecf": {
          "model_module": "@jupyter-widgets/controls",
          "model_name": "DescriptionStyleModel",
          "model_module_version": "1.5.0",
          "state": {
            "_view_name": "StyleView",
            "_model_name": "DescriptionStyleModel",
            "description_width": "",
            "_view_module": "@jupyter-widgets/base",
            "_model_module_version": "1.5.0",
            "_view_count": null,
            "_view_module_version": "1.2.0",
            "_model_module": "@jupyter-widgets/controls"
          }
        },
        "d85a7ebb2b1b47b4a4bf419f299c3b5e": {
          "model_module": "@jupyter-widgets/base",
          "model_name": "LayoutModel",
          "model_module_version": "1.2.0",
          "state": {
            "_view_name": "LayoutView",
            "grid_template_rows": null,
            "right": null,
            "justify_content": null,
            "_view_module": "@jupyter-widgets/base",
            "overflow": null,
            "_model_module_version": "1.2.0",
            "_view_count": null,
            "flex_flow": null,
            "width": null,
            "min_width": null,
            "border": null,
            "align_items": null,
            "bottom": null,
            "_model_module": "@jupyter-widgets/base",
            "top": null,
            "grid_column": null,
            "overflow_y": null,
            "overflow_x": null,
            "grid_auto_flow": null,
            "grid_area": null,
            "grid_template_columns": null,
            "flex": null,
            "_model_name": "LayoutModel",
            "justify_items": null,
            "grid_row": null,
            "max_height": null,
            "align_content": null,
            "visibility": null,
            "align_self": null,
            "height": null,
            "min_height": null,
            "padding": null,
            "grid_auto_rows": null,
            "grid_gap": null,
            "max_width": null,
            "order": null,
            "_view_module_version": "1.2.0",
            "grid_template_areas": null,
            "object_position": null,
            "object_fit": null,
            "grid_auto_columns": null,
            "margin": null,
            "display": null,
            "left": null
          }
        },
        "462a5298a59d4d57b211e31800569c03": {
          "model_module": "@jupyter-widgets/controls",
          "model_name": "HBoxModel",
          "model_module_version": "1.5.0",
          "state": {
            "_view_name": "HBoxView",
            "_dom_classes": [],
            "_model_name": "HBoxModel",
            "_view_module": "@jupyter-widgets/controls",
            "_model_module_version": "1.5.0",
            "_view_count": null,
            "_view_module_version": "1.5.0",
            "box_style": "",
            "layout": "IPY_MODEL_81a99e861cc043b0ac2890d488aea765",
            "_model_module": "@jupyter-widgets/controls",
            "children": [
              "IPY_MODEL_1a674b1955e64183833d59307bcb9077",
              "IPY_MODEL_25168c7486d64ddaa3528f8743f603b1",
              "IPY_MODEL_a8becfe3c6b9400eab35d93df4d1568c"
            ]
          }
        },
        "81a99e861cc043b0ac2890d488aea765": {
          "model_module": "@jupyter-widgets/base",
          "model_name": "LayoutModel",
          "model_module_version": "1.2.0",
          "state": {
            "_view_name": "LayoutView",
            "grid_template_rows": null,
            "right": null,
            "justify_content": null,
            "_view_module": "@jupyter-widgets/base",
            "overflow": null,
            "_model_module_version": "1.2.0",
            "_view_count": null,
            "flex_flow": null,
            "width": null,
            "min_width": null,
            "border": null,
            "align_items": null,
            "bottom": null,
            "_model_module": "@jupyter-widgets/base",
            "top": null,
            "grid_column": null,
            "overflow_y": null,
            "overflow_x": null,
            "grid_auto_flow": null,
            "grid_area": null,
            "grid_template_columns": null,
            "flex": null,
            "_model_name": "LayoutModel",
            "justify_items": null,
            "grid_row": null,
            "max_height": null,
            "align_content": null,
            "visibility": null,
            "align_self": null,
            "height": null,
            "min_height": null,
            "padding": null,
            "grid_auto_rows": null,
            "grid_gap": null,
            "max_width": null,
            "order": null,
            "_view_module_version": "1.2.0",
            "grid_template_areas": null,
            "object_position": null,
            "object_fit": null,
            "grid_auto_columns": null,
            "margin": null,
            "display": null,
            "left": null
          }
        },
        "1a674b1955e64183833d59307bcb9077": {
          "model_module": "@jupyter-widgets/controls",
          "model_name": "HTMLModel",
          "model_module_version": "1.5.0",
          "state": {
            "_view_name": "HTMLView",
            "style": "IPY_MODEL_6a32f3fbd99c41b8ad537c7b9b36cde5",
            "_dom_classes": [],
            "description": "",
            "_model_name": "HTMLModel",
            "placeholder": "​",
            "_view_module": "@jupyter-widgets/controls",
            "_model_module_version": "1.5.0",
            "value": "Downloading: 100%",
            "_view_count": null,
            "_view_module_version": "1.5.0",
            "description_tooltip": null,
            "_model_module": "@jupyter-widgets/controls",
            "layout": "IPY_MODEL_f3f5dc3179a14215ba7e747a7d836a74"
          }
        },
        "25168c7486d64ddaa3528f8743f603b1": {
          "model_module": "@jupyter-widgets/controls",
          "model_name": "FloatProgressModel",
          "model_module_version": "1.5.0",
          "state": {
            "_view_name": "ProgressView",
            "style": "IPY_MODEL_6fd7641fcbd24b0781080f6d72434ea7",
            "_dom_classes": [],
            "description": "",
            "_model_name": "FloatProgressModel",
            "bar_style": "success",
            "max": 995526,
            "_view_module": "@jupyter-widgets/controls",
            "_model_module_version": "1.5.0",
            "value": 995526,
            "_view_count": null,
            "_view_module_version": "1.5.0",
            "orientation": "horizontal",
            "min": 0,
            "description_tooltip": null,
            "_model_module": "@jupyter-widgets/controls",
            "layout": "IPY_MODEL_58896c17f9d44d5cb42df919e2e16e22"
          }
        },
        "a8becfe3c6b9400eab35d93df4d1568c": {
          "model_module": "@jupyter-widgets/controls",
          "model_name": "HTMLModel",
          "model_module_version": "1.5.0",
          "state": {
            "_view_name": "HTMLView",
            "style": "IPY_MODEL_de9e38d4881d4943b855f7f0a5638284",
            "_dom_classes": [],
            "description": "",
            "_model_name": "HTMLModel",
            "placeholder": "​",
            "_view_module": "@jupyter-widgets/controls",
            "_model_module_version": "1.5.0",
            "value": " 972k/972k [00:00&lt;00:00, 1.67MB/s]",
            "_view_count": null,
            "_view_module_version": "1.5.0",
            "description_tooltip": null,
            "_model_module": "@jupyter-widgets/controls",
            "layout": "IPY_MODEL_e0b783cbe6014d958e25a1ec5c1e311c"
          }
        },
        "6a32f3fbd99c41b8ad537c7b9b36cde5": {
          "model_module": "@jupyter-widgets/controls",
          "model_name": "DescriptionStyleModel",
          "model_module_version": "1.5.0",
          "state": {
            "_view_name": "StyleView",
            "_model_name": "DescriptionStyleModel",
            "description_width": "",
            "_view_module": "@jupyter-widgets/base",
            "_model_module_version": "1.5.0",
            "_view_count": null,
            "_view_module_version": "1.2.0",
            "_model_module": "@jupyter-widgets/controls"
          }
        },
        "f3f5dc3179a14215ba7e747a7d836a74": {
          "model_module": "@jupyter-widgets/base",
          "model_name": "LayoutModel",
          "model_module_version": "1.2.0",
          "state": {
            "_view_name": "LayoutView",
            "grid_template_rows": null,
            "right": null,
            "justify_content": null,
            "_view_module": "@jupyter-widgets/base",
            "overflow": null,
            "_model_module_version": "1.2.0",
            "_view_count": null,
            "flex_flow": null,
            "width": null,
            "min_width": null,
            "border": null,
            "align_items": null,
            "bottom": null,
            "_model_module": "@jupyter-widgets/base",
            "top": null,
            "grid_column": null,
            "overflow_y": null,
            "overflow_x": null,
            "grid_auto_flow": null,
            "grid_area": null,
            "grid_template_columns": null,
            "flex": null,
            "_model_name": "LayoutModel",
            "justify_items": null,
            "grid_row": null,
            "max_height": null,
            "align_content": null,
            "visibility": null,
            "align_self": null,
            "height": null,
            "min_height": null,
            "padding": null,
            "grid_auto_rows": null,
            "grid_gap": null,
            "max_width": null,
            "order": null,
            "_view_module_version": "1.2.0",
            "grid_template_areas": null,
            "object_position": null,
            "object_fit": null,
            "grid_auto_columns": null,
            "margin": null,
            "display": null,
            "left": null
          }
        },
        "6fd7641fcbd24b0781080f6d72434ea7": {
          "model_module": "@jupyter-widgets/controls",
          "model_name": "ProgressStyleModel",
          "model_module_version": "1.5.0",
          "state": {
            "_view_name": "StyleView",
            "_model_name": "ProgressStyleModel",
            "description_width": "",
            "_view_module": "@jupyter-widgets/base",
            "_model_module_version": "1.5.0",
            "_view_count": null,
            "_view_module_version": "1.2.0",
            "bar_color": null,
            "_model_module": "@jupyter-widgets/controls"
          }
        },
        "58896c17f9d44d5cb42df919e2e16e22": {
          "model_module": "@jupyter-widgets/base",
          "model_name": "LayoutModel",
          "model_module_version": "1.2.0",
          "state": {
            "_view_name": "LayoutView",
            "grid_template_rows": null,
            "right": null,
            "justify_content": null,
            "_view_module": "@jupyter-widgets/base",
            "overflow": null,
            "_model_module_version": "1.2.0",
            "_view_count": null,
            "flex_flow": null,
            "width": null,
            "min_width": null,
            "border": null,
            "align_items": null,
            "bottom": null,
            "_model_module": "@jupyter-widgets/base",
            "top": null,
            "grid_column": null,
            "overflow_y": null,
            "overflow_x": null,
            "grid_auto_flow": null,
            "grid_area": null,
            "grid_template_columns": null,
            "flex": null,
            "_model_name": "LayoutModel",
            "justify_items": null,
            "grid_row": null,
            "max_height": null,
            "align_content": null,
            "visibility": null,
            "align_self": null,
            "height": null,
            "min_height": null,
            "padding": null,
            "grid_auto_rows": null,
            "grid_gap": null,
            "max_width": null,
            "order": null,
            "_view_module_version": "1.2.0",
            "grid_template_areas": null,
            "object_position": null,
            "object_fit": null,
            "grid_auto_columns": null,
            "margin": null,
            "display": null,
            "left": null
          }
        },
        "de9e38d4881d4943b855f7f0a5638284": {
          "model_module": "@jupyter-widgets/controls",
          "model_name": "DescriptionStyleModel",
          "model_module_version": "1.5.0",
          "state": {
            "_view_name": "StyleView",
            "_model_name": "DescriptionStyleModel",
            "description_width": "",
            "_view_module": "@jupyter-widgets/base",
            "_model_module_version": "1.5.0",
            "_view_count": null,
            "_view_module_version": "1.2.0",
            "_model_module": "@jupyter-widgets/controls"
          }
        },
        "e0b783cbe6014d958e25a1ec5c1e311c": {
          "model_module": "@jupyter-widgets/base",
          "model_name": "LayoutModel",
          "model_module_version": "1.2.0",
          "state": {
            "_view_name": "LayoutView",
            "grid_template_rows": null,
            "right": null,
            "justify_content": null,
            "_view_module": "@jupyter-widgets/base",
            "overflow": null,
            "_model_module_version": "1.2.0",
            "_view_count": null,
            "flex_flow": null,
            "width": null,
            "min_width": null,
            "border": null,
            "align_items": null,
            "bottom": null,
            "_model_module": "@jupyter-widgets/base",
            "top": null,
            "grid_column": null,
            "overflow_y": null,
            "overflow_x": null,
            "grid_auto_flow": null,
            "grid_area": null,
            "grid_template_columns": null,
            "flex": null,
            "_model_name": "LayoutModel",
            "justify_items": null,
            "grid_row": null,
            "max_height": null,
            "align_content": null,
            "visibility": null,
            "align_self": null,
            "height": null,
            "min_height": null,
            "padding": null,
            "grid_auto_rows": null,
            "grid_gap": null,
            "max_width": null,
            "order": null,
            "_view_module_version": "1.2.0",
            "grid_template_areas": null,
            "object_position": null,
            "object_fit": null,
            "grid_auto_columns": null,
            "margin": null,
            "display": null,
            "left": null
          }
        },
        "20ce2637e11f4a998d27525d9c94a85f": {
          "model_module": "@jupyter-widgets/controls",
          "model_name": "HBoxModel",
          "model_module_version": "1.5.0",
          "state": {
            "_view_name": "HBoxView",
            "_dom_classes": [],
            "_model_name": "HBoxModel",
            "_view_module": "@jupyter-widgets/controls",
            "_model_module_version": "1.5.0",
            "_view_count": null,
            "_view_module_version": "1.5.0",
            "box_style": "",
            "layout": "IPY_MODEL_f2972273246544bcb8000efb00ed956d",
            "_model_module": "@jupyter-widgets/controls",
            "children": [
              "IPY_MODEL_88579ab4b4434e3d99ed9e92f2ac0373",
              "IPY_MODEL_69949b06bae4491a8709152bd7448069",
              "IPY_MODEL_7b7f020693d541dd9ef999b13561bcf3"
            ]
          }
        },
        "f2972273246544bcb8000efb00ed956d": {
          "model_module": "@jupyter-widgets/base",
          "model_name": "LayoutModel",
          "model_module_version": "1.2.0",
          "state": {
            "_view_name": "LayoutView",
            "grid_template_rows": null,
            "right": null,
            "justify_content": null,
            "_view_module": "@jupyter-widgets/base",
            "overflow": null,
            "_model_module_version": "1.2.0",
            "_view_count": null,
            "flex_flow": null,
            "width": null,
            "min_width": null,
            "border": null,
            "align_items": null,
            "bottom": null,
            "_model_module": "@jupyter-widgets/base",
            "top": null,
            "grid_column": null,
            "overflow_y": null,
            "overflow_x": null,
            "grid_auto_flow": null,
            "grid_area": null,
            "grid_template_columns": null,
            "flex": null,
            "_model_name": "LayoutModel",
            "justify_items": null,
            "grid_row": null,
            "max_height": null,
            "align_content": null,
            "visibility": null,
            "align_self": null,
            "height": null,
            "min_height": null,
            "padding": null,
            "grid_auto_rows": null,
            "grid_gap": null,
            "max_width": null,
            "order": null,
            "_view_module_version": "1.2.0",
            "grid_template_areas": null,
            "object_position": null,
            "object_fit": null,
            "grid_auto_columns": null,
            "margin": null,
            "display": null,
            "left": null
          }
        },
        "88579ab4b4434e3d99ed9e92f2ac0373": {
          "model_module": "@jupyter-widgets/controls",
          "model_name": "HTMLModel",
          "model_module_version": "1.5.0",
          "state": {
            "_view_name": "HTMLView",
            "style": "IPY_MODEL_5fc111a9e05e474691d877accd6a3571",
            "_dom_classes": [],
            "description": "",
            "_model_name": "HTMLModel",
            "placeholder": "​",
            "_view_module": "@jupyter-widgets/controls",
            "_model_module_version": "1.5.0",
            "value": "Downloading: 100%",
            "_view_count": null,
            "_view_module_version": "1.5.0",
            "description_tooltip": null,
            "_model_module": "@jupyter-widgets/controls",
            "layout": "IPY_MODEL_d2f8cbc860d94b54b350697841df7d13"
          }
        },
        "69949b06bae4491a8709152bd7448069": {
          "model_module": "@jupyter-widgets/controls",
          "model_name": "FloatProgressModel",
          "model_module_version": "1.5.0",
          "state": {
            "_view_name": "ProgressView",
            "style": "IPY_MODEL_577765455f994f878020075bac7b2fe4",
            "_dom_classes": [],
            "description": "",
            "_model_name": "FloatProgressModel",
            "bar_style": "success",
            "max": 1961828,
            "_view_module": "@jupyter-widgets/controls",
            "_model_module_version": "1.5.0",
            "value": 1961828,
            "_view_count": null,
            "_view_module_version": "1.5.0",
            "orientation": "horizontal",
            "min": 0,
            "description_tooltip": null,
            "_model_module": "@jupyter-widgets/controls",
            "layout": "IPY_MODEL_7361b11a7e834104a81e08b11b7a9835"
          }
        },
        "7b7f020693d541dd9ef999b13561bcf3": {
          "model_module": "@jupyter-widgets/controls",
          "model_name": "HTMLModel",
          "model_module_version": "1.5.0",
          "state": {
            "_view_name": "HTMLView",
            "style": "IPY_MODEL_c91c62e75f3e4b30a9b33f06ca7c5045",
            "_dom_classes": [],
            "description": "",
            "_model_name": "HTMLModel",
            "placeholder": "​",
            "_view_module": "@jupyter-widgets/controls",
            "_model_module_version": "1.5.0",
            "value": " 1.87M/1.87M [00:00&lt;00:00, 1.16MB/s]",
            "_view_count": null,
            "_view_module_version": "1.5.0",
            "description_tooltip": null,
            "_model_module": "@jupyter-widgets/controls",
            "layout": "IPY_MODEL_b91700ffb3234994badbc113c68b09b4"
          }
        },
        "5fc111a9e05e474691d877accd6a3571": {
          "model_module": "@jupyter-widgets/controls",
          "model_name": "DescriptionStyleModel",
          "model_module_version": "1.5.0",
          "state": {
            "_view_name": "StyleView",
            "_model_name": "DescriptionStyleModel",
            "description_width": "",
            "_view_module": "@jupyter-widgets/base",
            "_model_module_version": "1.5.0",
            "_view_count": null,
            "_view_module_version": "1.2.0",
            "_model_module": "@jupyter-widgets/controls"
          }
        },
        "d2f8cbc860d94b54b350697841df7d13": {
          "model_module": "@jupyter-widgets/base",
          "model_name": "LayoutModel",
          "model_module_version": "1.2.0",
          "state": {
            "_view_name": "LayoutView",
            "grid_template_rows": null,
            "right": null,
            "justify_content": null,
            "_view_module": "@jupyter-widgets/base",
            "overflow": null,
            "_model_module_version": "1.2.0",
            "_view_count": null,
            "flex_flow": null,
            "width": null,
            "min_width": null,
            "border": null,
            "align_items": null,
            "bottom": null,
            "_model_module": "@jupyter-widgets/base",
            "top": null,
            "grid_column": null,
            "overflow_y": null,
            "overflow_x": null,
            "grid_auto_flow": null,
            "grid_area": null,
            "grid_template_columns": null,
            "flex": null,
            "_model_name": "LayoutModel",
            "justify_items": null,
            "grid_row": null,
            "max_height": null,
            "align_content": null,
            "visibility": null,
            "align_self": null,
            "height": null,
            "min_height": null,
            "padding": null,
            "grid_auto_rows": null,
            "grid_gap": null,
            "max_width": null,
            "order": null,
            "_view_module_version": "1.2.0",
            "grid_template_areas": null,
            "object_position": null,
            "object_fit": null,
            "grid_auto_columns": null,
            "margin": null,
            "display": null,
            "left": null
          }
        },
        "577765455f994f878020075bac7b2fe4": {
          "model_module": "@jupyter-widgets/controls",
          "model_name": "ProgressStyleModel",
          "model_module_version": "1.5.0",
          "state": {
            "_view_name": "StyleView",
            "_model_name": "ProgressStyleModel",
            "description_width": "",
            "_view_module": "@jupyter-widgets/base",
            "_model_module_version": "1.5.0",
            "_view_count": null,
            "_view_module_version": "1.2.0",
            "bar_color": null,
            "_model_module": "@jupyter-widgets/controls"
          }
        },
        "7361b11a7e834104a81e08b11b7a9835": {
          "model_module": "@jupyter-widgets/base",
          "model_name": "LayoutModel",
          "model_module_version": "1.2.0",
          "state": {
            "_view_name": "LayoutView",
            "grid_template_rows": null,
            "right": null,
            "justify_content": null,
            "_view_module": "@jupyter-widgets/base",
            "overflow": null,
            "_model_module_version": "1.2.0",
            "_view_count": null,
            "flex_flow": null,
            "width": null,
            "min_width": null,
            "border": null,
            "align_items": null,
            "bottom": null,
            "_model_module": "@jupyter-widgets/base",
            "top": null,
            "grid_column": null,
            "overflow_y": null,
            "overflow_x": null,
            "grid_auto_flow": null,
            "grid_area": null,
            "grid_template_columns": null,
            "flex": null,
            "_model_name": "LayoutModel",
            "justify_items": null,
            "grid_row": null,
            "max_height": null,
            "align_content": null,
            "visibility": null,
            "align_self": null,
            "height": null,
            "min_height": null,
            "padding": null,
            "grid_auto_rows": null,
            "grid_gap": null,
            "max_width": null,
            "order": null,
            "_view_module_version": "1.2.0",
            "grid_template_areas": null,
            "object_position": null,
            "object_fit": null,
            "grid_auto_columns": null,
            "margin": null,
            "display": null,
            "left": null
          }
        },
        "c91c62e75f3e4b30a9b33f06ca7c5045": {
          "model_module": "@jupyter-widgets/controls",
          "model_name": "DescriptionStyleModel",
          "model_module_version": "1.5.0",
          "state": {
            "_view_name": "StyleView",
            "_model_name": "DescriptionStyleModel",
            "description_width": "",
            "_view_module": "@jupyter-widgets/base",
            "_model_module_version": "1.5.0",
            "_view_count": null,
            "_view_module_version": "1.2.0",
            "_model_module": "@jupyter-widgets/controls"
          }
        },
        "b91700ffb3234994badbc113c68b09b4": {
          "model_module": "@jupyter-widgets/base",
          "model_name": "LayoutModel",
          "model_module_version": "1.2.0",
          "state": {
            "_view_name": "LayoutView",
            "grid_template_rows": null,
            "right": null,
            "justify_content": null,
            "_view_module": "@jupyter-widgets/base",
            "overflow": null,
            "_model_module_version": "1.2.0",
            "_view_count": null,
            "flex_flow": null,
            "width": null,
            "min_width": null,
            "border": null,
            "align_items": null,
            "bottom": null,
            "_model_module": "@jupyter-widgets/base",
            "top": null,
            "grid_column": null,
            "overflow_y": null,
            "overflow_x": null,
            "grid_auto_flow": null,
            "grid_area": null,
            "grid_template_columns": null,
            "flex": null,
            "_model_name": "LayoutModel",
            "justify_items": null,
            "grid_row": null,
            "max_height": null,
            "align_content": null,
            "visibility": null,
            "align_self": null,
            "height": null,
            "min_height": null,
            "padding": null,
            "grid_auto_rows": null,
            "grid_gap": null,
            "max_width": null,
            "order": null,
            "_view_module_version": "1.2.0",
            "grid_template_areas": null,
            "object_position": null,
            "object_fit": null,
            "grid_auto_columns": null,
            "margin": null,
            "display": null,
            "left": null
          }
        },
        "2fc8ea3f83a5493e9762f99a54ec6c8a": {
          "model_module": "@jupyter-widgets/controls",
          "model_name": "HBoxModel",
          "model_module_version": "1.5.0",
          "state": {
            "_view_name": "HBoxView",
            "_dom_classes": [],
            "_model_name": "HBoxModel",
            "_view_module": "@jupyter-widgets/controls",
            "_model_module_version": "1.5.0",
            "_view_count": null,
            "_view_module_version": "1.5.0",
            "box_style": "",
            "layout": "IPY_MODEL_14513e9f0e214537a82a544420a195b5",
            "_model_module": "@jupyter-widgets/controls",
            "children": [
              "IPY_MODEL_9eb51ab74abb4a56b58f3ef75ebcc161",
              "IPY_MODEL_c7cc2963b0044c7198088f2b663d5852",
              "IPY_MODEL_2941f5482d314680a8690b82fa3ccce5"
            ]
          }
        },
        "14513e9f0e214537a82a544420a195b5": {
          "model_module": "@jupyter-widgets/base",
          "model_name": "LayoutModel",
          "model_module_version": "1.2.0",
          "state": {
            "_view_name": "LayoutView",
            "grid_template_rows": null,
            "right": null,
            "justify_content": null,
            "_view_module": "@jupyter-widgets/base",
            "overflow": null,
            "_model_module_version": "1.2.0",
            "_view_count": null,
            "flex_flow": null,
            "width": null,
            "min_width": null,
            "border": null,
            "align_items": null,
            "bottom": null,
            "_model_module": "@jupyter-widgets/base",
            "top": null,
            "grid_column": null,
            "overflow_y": null,
            "overflow_x": null,
            "grid_auto_flow": null,
            "grid_area": null,
            "grid_template_columns": null,
            "flex": null,
            "_model_name": "LayoutModel",
            "justify_items": null,
            "grid_row": null,
            "max_height": null,
            "align_content": null,
            "visibility": null,
            "align_self": null,
            "height": null,
            "min_height": null,
            "padding": null,
            "grid_auto_rows": null,
            "grid_gap": null,
            "max_width": null,
            "order": null,
            "_view_module_version": "1.2.0",
            "grid_template_areas": null,
            "object_position": null,
            "object_fit": null,
            "grid_auto_columns": null,
            "margin": null,
            "display": null,
            "left": null
          }
        },
        "9eb51ab74abb4a56b58f3ef75ebcc161": {
          "model_module": "@jupyter-widgets/controls",
          "model_name": "HTMLModel",
          "model_module_version": "1.5.0",
          "state": {
            "_view_name": "HTMLView",
            "style": "IPY_MODEL_2e7963fe5f4a481aa9281076e708046f",
            "_dom_classes": [],
            "description": "",
            "_model_name": "HTMLModel",
            "placeholder": "​",
            "_view_module": "@jupyter-widgets/controls",
            "_model_module_version": "1.5.0",
            "value": "Downloading: 100%",
            "_view_count": null,
            "_view_module_version": "1.5.0",
            "description_tooltip": null,
            "_model_module": "@jupyter-widgets/controls",
            "layout": "IPY_MODEL_9b150a1aec9d4873b54387dbd77fef63"
          }
        },
        "c7cc2963b0044c7198088f2b663d5852": {
          "model_module": "@jupyter-widgets/controls",
          "model_name": "FloatProgressModel",
          "model_module_version": "1.5.0",
          "state": {
            "_view_name": "ProgressView",
            "style": "IPY_MODEL_8305013f50c44787a87ccdfdc82ecd67",
            "_dom_classes": [],
            "description": "",
            "_model_name": "FloatProgressModel",
            "bar_style": "success",
            "max": 714314041,
            "_view_module": "@jupyter-widgets/controls",
            "_model_module_version": "1.5.0",
            "value": 714314041,
            "_view_count": null,
            "_view_module_version": "1.5.0",
            "orientation": "horizontal",
            "min": 0,
            "description_tooltip": null,
            "_model_module": "@jupyter-widgets/controls",
            "layout": "IPY_MODEL_308e7301bdd0466fb833fc62d69ce76f"
          }
        },
        "2941f5482d314680a8690b82fa3ccce5": {
          "model_module": "@jupyter-widgets/controls",
          "model_name": "HTMLModel",
          "model_module_version": "1.5.0",
          "state": {
            "_view_name": "HTMLView",
            "style": "IPY_MODEL_0d93a1f272fa497e8581f49751464835",
            "_dom_classes": [],
            "description": "",
            "_model_name": "HTMLModel",
            "placeholder": "​",
            "_view_module": "@jupyter-widgets/controls",
            "_model_module_version": "1.5.0",
            "value": " 681M/681M [00:19&lt;00:00, 38.9MB/s]",
            "_view_count": null,
            "_view_module_version": "1.5.0",
            "description_tooltip": null,
            "_model_module": "@jupyter-widgets/controls",
            "layout": "IPY_MODEL_3a3b294487e04da6aab2fe8996bfd739"
          }
        },
        "2e7963fe5f4a481aa9281076e708046f": {
          "model_module": "@jupyter-widgets/controls",
          "model_name": "DescriptionStyleModel",
          "model_module_version": "1.5.0",
          "state": {
            "_view_name": "StyleView",
            "_model_name": "DescriptionStyleModel",
            "description_width": "",
            "_view_module": "@jupyter-widgets/base",
            "_model_module_version": "1.5.0",
            "_view_count": null,
            "_view_module_version": "1.2.0",
            "_model_module": "@jupyter-widgets/controls"
          }
        },
        "9b150a1aec9d4873b54387dbd77fef63": {
          "model_module": "@jupyter-widgets/base",
          "model_name": "LayoutModel",
          "model_module_version": "1.2.0",
          "state": {
            "_view_name": "LayoutView",
            "grid_template_rows": null,
            "right": null,
            "justify_content": null,
            "_view_module": "@jupyter-widgets/base",
            "overflow": null,
            "_model_module_version": "1.2.0",
            "_view_count": null,
            "flex_flow": null,
            "width": null,
            "min_width": null,
            "border": null,
            "align_items": null,
            "bottom": null,
            "_model_module": "@jupyter-widgets/base",
            "top": null,
            "grid_column": null,
            "overflow_y": null,
            "overflow_x": null,
            "grid_auto_flow": null,
            "grid_area": null,
            "grid_template_columns": null,
            "flex": null,
            "_model_name": "LayoutModel",
            "justify_items": null,
            "grid_row": null,
            "max_height": null,
            "align_content": null,
            "visibility": null,
            "align_self": null,
            "height": null,
            "min_height": null,
            "padding": null,
            "grid_auto_rows": null,
            "grid_gap": null,
            "max_width": null,
            "order": null,
            "_view_module_version": "1.2.0",
            "grid_template_areas": null,
            "object_position": null,
            "object_fit": null,
            "grid_auto_columns": null,
            "margin": null,
            "display": null,
            "left": null
          }
        },
        "8305013f50c44787a87ccdfdc82ecd67": {
          "model_module": "@jupyter-widgets/controls",
          "model_name": "ProgressStyleModel",
          "model_module_version": "1.5.0",
          "state": {
            "_view_name": "StyleView",
            "_model_name": "ProgressStyleModel",
            "description_width": "",
            "_view_module": "@jupyter-widgets/base",
            "_model_module_version": "1.5.0",
            "_view_count": null,
            "_view_module_version": "1.2.0",
            "bar_color": null,
            "_model_module": "@jupyter-widgets/controls"
          }
        },
        "308e7301bdd0466fb833fc62d69ce76f": {
          "model_module": "@jupyter-widgets/base",
          "model_name": "LayoutModel",
          "model_module_version": "1.2.0",
          "state": {
            "_view_name": "LayoutView",
            "grid_template_rows": null,
            "right": null,
            "justify_content": null,
            "_view_module": "@jupyter-widgets/base",
            "overflow": null,
            "_model_module_version": "1.2.0",
            "_view_count": null,
            "flex_flow": null,
            "width": null,
            "min_width": null,
            "border": null,
            "align_items": null,
            "bottom": null,
            "_model_module": "@jupyter-widgets/base",
            "top": null,
            "grid_column": null,
            "overflow_y": null,
            "overflow_x": null,
            "grid_auto_flow": null,
            "grid_area": null,
            "grid_template_columns": null,
            "flex": null,
            "_model_name": "LayoutModel",
            "justify_items": null,
            "grid_row": null,
            "max_height": null,
            "align_content": null,
            "visibility": null,
            "align_self": null,
            "height": null,
            "min_height": null,
            "padding": null,
            "grid_auto_rows": null,
            "grid_gap": null,
            "max_width": null,
            "order": null,
            "_view_module_version": "1.2.0",
            "grid_template_areas": null,
            "object_position": null,
            "object_fit": null,
            "grid_auto_columns": null,
            "margin": null,
            "display": null,
            "left": null
          }
        },
        "0d93a1f272fa497e8581f49751464835": {
          "model_module": "@jupyter-widgets/controls",
          "model_name": "DescriptionStyleModel",
          "model_module_version": "1.5.0",
          "state": {
            "_view_name": "StyleView",
            "_model_name": "DescriptionStyleModel",
            "description_width": "",
            "_view_module": "@jupyter-widgets/base",
            "_model_module_version": "1.5.0",
            "_view_count": null,
            "_view_module_version": "1.2.0",
            "_model_module": "@jupyter-widgets/controls"
          }
        },
        "3a3b294487e04da6aab2fe8996bfd739": {
          "model_module": "@jupyter-widgets/base",
          "model_name": "LayoutModel",
          "model_module_version": "1.2.0",
          "state": {
            "_view_name": "LayoutView",
            "grid_template_rows": null,
            "right": null,
            "justify_content": null,
            "_view_module": "@jupyter-widgets/base",
            "overflow": null,
            "_model_module_version": "1.2.0",
            "_view_count": null,
            "flex_flow": null,
            "width": null,
            "min_width": null,
            "border": null,
            "align_items": null,
            "bottom": null,
            "_model_module": "@jupyter-widgets/base",
            "top": null,
            "grid_column": null,
            "overflow_y": null,
            "overflow_x": null,
            "grid_auto_flow": null,
            "grid_area": null,
            "grid_template_columns": null,
            "flex": null,
            "_model_name": "LayoutModel",
            "justify_items": null,
            "grid_row": null,
            "max_height": null,
            "align_content": null,
            "visibility": null,
            "align_self": null,
            "height": null,
            "min_height": null,
            "padding": null,
            "grid_auto_rows": null,
            "grid_gap": null,
            "max_width": null,
            "order": null,
            "_view_module_version": "1.2.0",
            "grid_template_areas": null,
            "object_position": null,
            "object_fit": null,
            "grid_auto_columns": null,
            "margin": null,
            "display": null,
            "left": null
          }
        }
      }
    },
    "accelerator": "GPU"
  },
  "cells": [
    {
      "cell_type": "markdown",
      "metadata": {
        "id": "FaF5SLh50o4o"
      },
      "source": [
        "#**Mini Proyecto 2: Procesamiento De Lenguaje Natural Usando Transformers**\n",
        "\n",
        "<font color='blue'>**Integrantes:**\n",
        "    \n",
        "*   Carlos Arbey Mejia Martinez Código: **2210549**\n",
        "*   Andrés Felipe Guerra Vargas Código: **2211058**\n",
        "\n",
        "# **Link Repositorio Git de este proyecto:** https://github.com/cmejia99/NLP_Transformers\n"
      ]
    },
    {
      "cell_type": "markdown",
      "metadata": {
        "id": "YB9gjcdQWjZJ"
      },
      "source": [
        "##**Introducción**##\n",
        "\n",
        "![Imagen](https://github.com/cmejia99/NLP_Transformers/blob/main/img/NLP.png?raw=true)\n",
        "\n",
        "\n",
        "El lenguaje es una herramienta de expresión que nos permite tener relación en nuestra vida social y profesional. Es un medio para transmitir ideas, información, opiniones, sentimientos, entre otras acciones. \n",
        "\n",
        "El Procesamiento del Lenguaje Natural o NLP es una disciplina que se encuentra en la intersección de varias ciencias, tales como las ciencias de la computación, la inteligencia artificial y la psicología cognitiva. Su idea central es la de darle a las máquinas la capacidad de leer y comprender los idiomas que hablamos los humanos."
      ]
    },
    {
      "cell_type": "markdown",
      "metadata": {
        "id": "qYnewYh-W4xc"
      },
      "source": [
        "## **Marco Teórico** ##\n",
        "\n",
        "* **DataSet:** Directorio donde se registró todos los archivos para el proyecto.\n",
        "\n",
        "* **Natural Language Processing:** La PNL es un campo de la lingüística y el aprendizaje automático centrado en comprender todo lo relacionado con el lenguaje humano. El objetivo de las tareas de PNL, no es solo comprender palabras individuales, sino también poder comprender el contexto de esas palabras, por ejemplo:\n",
        "\n",
        "  * **Clasificación de oraciones completas:** Obtener el sentimiento de una revisión, detectar si un correo electrónico es spam, determinar si una oración es gramaticalmente correcta o si dos oraciones están relacionadas lógicamente o no.\n",
        "\n",
        "  * **Clasificar cada palabra en una oración:** Identificar los componentes gramaticales de una oración (sustantivo, verbo, adjetivo) o las identidades nombradas (persona, ubicación, organización).\n",
        "\n",
        "  * **Generación de contenido de texto:** Completar un mensaje con texto generado automáticamente, completar los espacios en blanco en un texto con palabras enmascaradas.\n",
        "\n",
        "  * **Extraer una respuesta de un texto:** Dada una pregunta y un contexto, extraer la respuesta a la pregunta en función de la información proporcionada en el contexto.\n",
        "\n",
        "  * **Generar una nueva oración a partir de un texto de entrada:** Traducir un texto a otro idioma, resumir un texto.\n",
        "\n",
        "\n",
        "\n",
        "\n",
        "\n",
        "\n"
      ]
    },
    {
      "cell_type": "code",
      "metadata": {
        "id": "44tKNoh_2bIC",
        "cellView": "form"
      },
      "source": [
        "#@title **Instalación de las librerías necesarias para el proyecto:**\n",
        "\n",
        "!pip install openai"
      ],
      "execution_count": null,
      "outputs": []
    },
    {
      "cell_type": "code",
      "metadata": {
        "id": "fB6IqDLw54xo",
        "cellView": "form"
      },
      "source": [
        "#@title **Librerías necesarias**\n",
        "\n",
        "import os\n",
        "import openai\n",
        "import json"
      ],
      "execution_count": null,
      "outputs": []
    },
    {
      "cell_type": "code",
      "metadata": {
        "id": "3c5JzqG95_Y_",
        "cellView": "form"
      },
      "source": [
        "#@title **Por favor ingresa tu Api Key para poder proceder con el consumo del API de OpenAI:**\n",
        "\n",
        "api_key  =  \"123\" #@param {type:\"string\"}\n",
        "openai.api_key = api_key"
      ],
      "execution_count": null,
      "outputs": []
    },
    {
      "cell_type": "code",
      "metadata": {
        "id": "Yn-5yAIi6vZF",
        "cellView": "form"
      },
      "source": [
        "#@title **Funciones para le generacion del prototipo:**\n",
        "\n",
        "def print_result(obj_openai):\n",
        "  #print(obj_openai.get(\"choices\")[0].get(\"finish_reason\"))\n",
        "  print(\"************************************************\")\n",
        "  res = obj_openai.get(\"choices\")[0].get(\"finish_reason\")\n",
        "  if res == 'stop':\n",
        "    print('Nuestra propuesta de anuncion:\\n', obj_openai.get(\"choices\")[0].get(\"text\"))\n",
        "  else:\n",
        "    print('!Lo sentimos por el momento superaste el total de caracteres que tenemos permitidos generar!')\n",
        "\n",
        "def generated_ad(input,openai):\n",
        "  separator = \"\\\"\\\"\\\"\\\"\\\"\\\"\"\n",
        "  enter = \"\\n\"\n",
        "  initial_string = \"Escribe un anuncio creativo para el siguiente producto para que se publique en Instagram:\"+enter + separator + enter\n",
        "  input = initial_string + input + enter + separator + enter\n",
        "  print(\"entrada\", input)\n",
        "  ##Se realiza el llamado a la API de OpenAI con la cadena solicitada y el token de parada.\n",
        "  response = openai.Completion.create(\n",
        "  engine=\"davinci-instruct-beta\",\n",
        "  prompt=input,\n",
        "  temperature=0.5, max_tokens=100,\n",
        "  top_p=1, frequency_penalty=0,\n",
        "  presence_penalty=0, stop=[separator])\n",
        "  #print(response)\n",
        "  print_result(response)"
      ],
      "execution_count": null,
      "outputs": []
    },
    {
      "cell_type": "markdown",
      "metadata": {
        "id": "5UDMCOFP1dh5"
      },
      "source": [
        "# **Introducción**"
      ]
    },
    {
      "cell_type": "markdown",
      "metadata": {
        "id": "2rgBaCAU1gKa"
      },
      "source": [
        "# **Descripción del problema a solucionar (Punto 1)**\n",
        "\n",
        "Realice un prototipo de aplicación en colab con la API del modelo GPT-3 recientemente liberado por Open AI (https://openai.com/). Algunas\n",
        "instrucciones de uso en el siguiente video:\n",
        "https://www.youtube.com/watch?v=C1eOiOkD_8A (La mejor INTELIGENCIA\n",
        "ARTIFICIAL Generadora de TEXTO (y la puedes USAR) | GPT-3)\n",
        "\n",
        "<font color='blue'>**Nuestro problema:**\n",
        "\n",
        "Nuestro problema o solución será utilizar un modelo preentrenado de **OpenAI**, el cual nos permita dada una información de un cliente o producto, poder generar un anuncio para Instagram, el cual puede utilizar el cliente en su red social.\n"
      ]
    },
    {
      "cell_type": "markdown",
      "metadata": {
        "id": "HMqK4kIO1pGp"
      },
      "source": [
        "# **Planteamiento de la solución (Punto 1)**\n",
        "\n",
        "Inicialmente buscamos el modelo que nos puede ayudar en los ejemplos que ofrece **OpenAI** en su repositorio, el cual se puede encontrar https://beta.openai.com/playground/p/default-ad-product-description?model=davinci-instruct-beta\n",
        "Este es un modelo **davinci** tipo instruct, el cual dada unas instrucciones iniciales nos genera la salida que necesitamos.\n",
        "\n",
        "En nuestro caso la instrucción que siempre tendran nuestras peticiones será:\n",
        "```python\n",
        "\"Escribe un anuncio creativo para el siguiente producto para que se publique en Instagram:\"\n",
        "```\n",
        "\n",
        "Para nuestro modelo se debe también establecer una cadena de finalización la cual será:\n",
        "```python\n",
        "\"\\\"\\\"\\\"\\\"\\\"\\\"\"\n",
        "```\n",
        "\n",
        "Por lo que un ejemplo de nuestra instrucción de llamado a la api de **OpenAI** se verá de la siguiente manera:\n",
        "```python\n",
        "response = openai.Completion.create(\n",
        "  engine=\"davinci-instruct-beta\",\n",
        "  prompt=\"Escribe un anuncio creativo para el siguiente producto para que se publique en Instagram:\\n\\\"\\\"\\\"\\\"\\\"\\\"\\n!Chelitos con mucho amor!, es una empresa que se dedica a la creación de deliciosos pasteles y postres.\\n\\\"\\\"\\\"\\\"\\\"\\\"\\n\"\"\",\n",
        "  temperature=0.5,\n",
        "  max_tokens=60,\n",
        "  top_p=1,\n",
        "  frequency_penalty=0,\n",
        "  presence_penalty=0,\n",
        "  stop=[\"\\\"\\\"\\\"\\\"\\\"\\\"\"]\n",
        ")\n",
        "```\n",
        "\n"
      ]
    },
    {
      "cell_type": "markdown",
      "metadata": {
        "id": "CFhwbPpEePpB"
      },
      "source": [
        "Como primer paso de nuestra solución, lo que hicimos fue probar el modelo que nos ofrece **OpenAI** en su opción de **playgorund** para validar si el modelo es capaz de solucionar nuestro problema y si es también capaz de soporte nuestro lenguaje **Español**.\n",
        "\n"
      ]
    },
    {
      "cell_type": "markdown",
      "metadata": {
        "id": "UBdu-M6helQo"
      },
      "source": [
        "![image.png](data:image/png;base64,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)"
      ]
    },
    {
      "cell_type": "markdown",
      "metadata": {
        "id": "QX4QiN2Aevq3"
      },
      "source": [
        "![image.png](data:image/png;base64,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)"
      ]
    },
    {
      "cell_type": "markdown",
      "metadata": {
        "id": "ps0TKWSIeymZ"
      },
      "source": [
        "Validada la solución en el sitio de **OpenAI** procedimos a utilizar el código que se nos ofrece, donde implementamos una función python que nos permite utilizar las cadenas de entrada del cliente para así procesarlas y retornar el anuncion. Esta funcion dinámicamente integra la instrucción respectiva del modelo para que así pueda devolvernos la salida esperada, concatenando al final de la información del cliente nuestro caracter de finalización.\n",
        "\n",
        "Nuestro modelo fue limitado a un total de 100 tokens dado que el cobro que se realiza se da por cantidad de tokens y modelo seleccionado."
      ]
    },
    {
      "cell_type": "code",
      "metadata": {
        "colab": {
          "base_uri": "https://localhost:8080/"
        },
        "id": "pPUswvBZ-qQ7",
        "cellView": "form",
        "outputId": "bd6f3a11-fab1-4fb4-f477-99fbec38b9e1"
      },
      "source": [
        "#@title **Por favor danos informacion de tus productos o tu empresa!**\n",
        "\n",
        "Tu_empresa  =  \"\\\"!Chelitos con mucho amor!, es una empresa que se dedica a la creaci\\\\xF3n de deliciosos pasteles y postres.  Con ingredientes naturales y de alta calidad. Hecho a tu medida e imaginaci\\xF3n. Estamos en Cali\\\"\" #@param {type:\"string\"}\n",
        "generated_ad(Tu_empresa,openai)"
      ],
      "execution_count": null,
      "outputs": [
        {
          "output_type": "stream",
          "name": "stdout",
          "text": [
            "entrada Escribe un anuncio creativo para el siguiente producto para que se publique en Instagram:\n",
            "\"\"\"\"\"\"\n",
            "\"!Chelitos con mucho amor!, es una empresa que se dedica a la creaci\\xF3n de deliciosos pasteles y postres.  Con ingredientes naturales y de alta calidad. Hecho a tu medida e imaginación. Estamos en Cali\"\n",
            "\"\"\"\"\"\"\n",
            "\n",
            "************************************************\n",
            "Nuestra propuesta de anuncion:\n",
            " \n",
            "\"¡Chelitos con mucho amor! is a company dedicated to the creation of delicious pastries and desserts. With natural and high-quality ingredients. Made to your measurements and imagination. We are in Cali.\"\n"
          ]
        }
      ]
    },
    {
      "cell_type": "markdown",
      "metadata": {
        "id": "nVEladIi1u5z"
      },
      "source": [
        "# **Resultados (Punto 1)**\n",
        "\n",
        "Despues de implementar nuestro prototipo y generar diferentes iteraciones de este sobre la misma información ingresada, se pudo evidenciar que nos daba diferentes resultados, algunos coherentes, algunos muy originales y también en algunos casos pudimos evidenciar anuncios en el idioma ingles.\n",
        "\n",
        "A continuación mostramos diferentes salidas que nos mostro el prototipo por la misma información proporcionada como parámetro:\n"
      ]
    },
    {
      "cell_type": "markdown",
      "metadata": {
        "id": "3Ox7vcCJgdYV"
      },
      "source": [
        "![image.png](data:image/png;base64,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)"
      ]
    },
    {
      "cell_type": "markdown",
      "metadata": {
        "id": "DXFj74jCg0dn"
      },
      "source": [
        "![image.png](data:image/png;base64,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)"
      ]
    },
    {
      "cell_type": "markdown",
      "metadata": {
        "id": "dm0AOdZwqShQ"
      },
      "source": [
        "# **Descripción del problema a solucionar (Punto 2)**\n",
        "\n",
        "Seleccione un data set para una aplicación de PLN o de otra fuente y realice lo siguiente:\n",
        "\n",
        "* Explique el problema o la aplicación que se va a resolver\n",
        "* Entrene un modelo basado en Deep Learning para el problema seleccionado. Este modelo puede ser entrenado desde cero o usando un modelo pre-entrenado haciendo uso de transfer learning o fine tuning (puede usar la librería Hugging Face)\n",
        "* Valide el funcionamiento del modelo obtenido"
      ]
    },
    {
      "cell_type": "markdown",
      "metadata": {
        "id": "3UIRwGharFCk"
      },
      "source": [
        "# **Planteamiento de la solución (Punto 2)**\n",
        "\n",
        "* **Problema a Resolver:** Se utilizará la librería **FLAIR** de la empresa **Zalando Research**, para acceder a funcionalidades de procesamiento de lenguaje natural utilizando **HuggingFace ModelHub** en tres ejemplos:\n",
        "\n",
        "1. Análisis Morfo - Sintáctico: Etiquetador de Lenguaje Universal.\n",
        "\n",
        "2. Reconocimiento de Identidades: Reconoce un grupo de clases.\n",
        "\n",
        "3. Análisis de Opinión: Frases si son positivas o negativas."
      ]
    },
    {
      "cell_type": "code",
      "metadata": {
        "colab": {
          "base_uri": "https://localhost:8080/"
        },
        "cellView": "form",
        "id": "D8kmL2nPrEfv",
        "outputId": "ec364af0-0022-4db7-851c-0cec80f19397"
      },
      "source": [
        "#@title **Instalación de las librerías necesarias para el proyecto:**\n",
        "\n",
        "!pip install flair"
      ],
      "execution_count": null,
      "outputs": [
        {
          "output_type": "stream",
          "name": "stdout",
          "text": [
            "Collecting flair\n",
            "  Downloading flair-0.10-py3-none-any.whl (322 kB)\n",
            "\u001b[K     |████████████████████████████████| 322 kB 5.2 MB/s \n",
            "\u001b[?25hCollecting more-itertools~=8.8.0\n",
            "  Downloading more_itertools-8.8.0-py3-none-any.whl (48 kB)\n",
            "\u001b[K     |████████████████████████████████| 48 kB 5.1 MB/s \n",
            "\u001b[?25hCollecting conllu>=4.0\n",
            "  Downloading conllu-4.4.1-py2.py3-none-any.whl (15 kB)\n",
            "Collecting janome\n",
            "  Downloading Janome-0.4.1-py2.py3-none-any.whl (19.7 MB)\n",
            "\u001b[K     |████████████████████████████████| 19.7 MB 1.2 MB/s \n",
            "\u001b[?25hRequirement already satisfied: regex in /usr/local/lib/python3.7/dist-packages (from flair) (2019.12.20)\n",
            "Requirement already satisfied: tqdm>=4.26.0 in /usr/local/lib/python3.7/dist-packages (from flair) (4.62.3)\n",
            "Collecting konoha<5.0.0,>=4.0.0\n",
            "  Downloading konoha-4.6.5-py3-none-any.whl (20 kB)\n",
            "Collecting sqlitedict>=1.6.0\n",
            "  Downloading sqlitedict-1.7.0.tar.gz (28 kB)\n",
            "Collecting langdetect\n",
            "  Downloading langdetect-1.0.9.tar.gz (981 kB)\n",
            "\u001b[K     |████████████████████████████████| 981 kB 64.2 MB/s \n",
            "\u001b[?25hCollecting mpld3==0.3\n",
            "  Downloading mpld3-0.3.tar.gz (788 kB)\n",
            "\u001b[K     |████████████████████████████████| 788 kB 54.5 MB/s \n",
            "\u001b[?25hCollecting ftfy\n",
            "  Downloading ftfy-6.0.3.tar.gz (64 kB)\n",
            "\u001b[K     |████████████████████████████████| 64 kB 3.1 MB/s \n",
            "\u001b[?25hCollecting huggingface-hub\n",
            "  Downloading huggingface_hub-0.1.2-py3-none-any.whl (59 kB)\n",
            "\u001b[K     |████████████████████████████████| 59 kB 6.3 MB/s \n",
            "\u001b[?25hCollecting sentencepiece==0.1.95\n",
            "  Downloading sentencepiece-0.1.95-cp37-cp37m-manylinux2014_x86_64.whl (1.2 MB)\n",
            "\u001b[K     |████████████████████████████████| 1.2 MB 46.4 MB/s \n",
            "\u001b[?25hCollecting bpemb>=0.3.2\n",
            "  Downloading bpemb-0.3.3-py3-none-any.whl (19 kB)\n",
            "Collecting wikipedia-api\n",
            "  Downloading Wikipedia-API-0.5.4.tar.gz (18 kB)\n",
            "Requirement already satisfied: torch!=1.8,>=1.5.0 in /usr/local/lib/python3.7/dist-packages (from flair) (1.10.0+cu111)\n",
            "Collecting deprecated>=1.2.4\n",
            "  Downloading Deprecated-1.2.13-py2.py3-none-any.whl (9.6 kB)\n",
            "Collecting gdown==3.12.2\n",
            "  Downloading gdown-3.12.2.tar.gz (8.2 kB)\n",
            "  Installing build dependencies ... \u001b[?25l\u001b[?25hdone\n",
            "  Getting requirements to build wheel ... \u001b[?25l\u001b[?25hdone\n",
            "    Preparing wheel metadata ... \u001b[?25l\u001b[?25hdone\n",
            "Requirement already satisfied: python-dateutil>=2.6.1 in /usr/local/lib/python3.7/dist-packages (from flair) (2.8.2)\n",
            "Requirement already satisfied: tabulate in /usr/local/lib/python3.7/dist-packages (from flair) (0.8.9)\n",
            "Collecting segtok>=1.5.7\n",
            "  Downloading segtok-1.5.10.tar.gz (25 kB)\n",
            "Collecting transformers>=4.0.0\n",
            "  Downloading transformers-4.12.5-py3-none-any.whl (3.1 MB)\n",
            "\u001b[K     |████████████████████████████████| 3.1 MB 30.3 MB/s \n",
            "\u001b[?25hRequirement already satisfied: matplotlib>=2.2.3 in /usr/local/lib/python3.7/dist-packages (from flair) (3.2.2)\n",
            "Requirement already satisfied: scikit-learn>=0.21.3 in /usr/local/lib/python3.7/dist-packages (from flair) (1.0.1)\n",
            "Requirement already satisfied: gensim>=3.4.0 in /usr/local/lib/python3.7/dist-packages (from flair) (3.6.0)\n",
            "Requirement already satisfied: lxml in /usr/local/lib/python3.7/dist-packages (from flair) (4.2.6)\n",
            "Requirement already satisfied: six in /usr/local/lib/python3.7/dist-packages (from gdown==3.12.2->flair) (1.15.0)\n",
            "Requirement already satisfied: filelock in /usr/local/lib/python3.7/dist-packages (from gdown==3.12.2->flair) (3.4.0)\n",
            "Requirement already satisfied: requests[socks] in /usr/local/lib/python3.7/dist-packages (from gdown==3.12.2->flair) (2.23.0)\n",
            "Requirement already satisfied: numpy in /usr/local/lib/python3.7/dist-packages (from bpemb>=0.3.2->flair) (1.19.5)\n",
            "Requirement already satisfied: wrapt<2,>=1.10 in /usr/local/lib/python3.7/dist-packages (from deprecated>=1.2.4->flair) (1.13.3)\n",
            "Requirement already satisfied: smart-open>=1.2.1 in /usr/local/lib/python3.7/dist-packages (from gensim>=3.4.0->flair) (5.2.1)\n",
            "Requirement already satisfied: scipy>=0.18.1 in /usr/local/lib/python3.7/dist-packages (from gensim>=3.4.0->flair) (1.4.1)\n",
            "Collecting requests\n",
            "  Downloading requests-2.26.0-py2.py3-none-any.whl (62 kB)\n",
            "\u001b[K     |████████████████████████████████| 62 kB 821 kB/s \n",
            "\u001b[?25hCollecting overrides<4.0.0,>=3.0.0\n",
            "  Downloading overrides-3.1.0.tar.gz (11 kB)\n",
            "Collecting importlib-metadata<4.0.0,>=3.7.0\n",
            "  Downloading importlib_metadata-3.10.1-py3-none-any.whl (14 kB)\n",
            "Requirement already satisfied: zipp>=0.5 in /usr/local/lib/python3.7/dist-packages (from importlib-metadata<4.0.0,>=3.7.0->konoha<5.0.0,>=4.0.0->flair) (3.6.0)\n",
            "Requirement already satisfied: typing-extensions>=3.6.4 in /usr/local/lib/python3.7/dist-packages (from importlib-metadata<4.0.0,>=3.7.0->konoha<5.0.0,>=4.0.0->flair) (3.10.0.2)\n",
            "Requirement already satisfied: cycler>=0.10 in /usr/local/lib/python3.7/dist-packages (from matplotlib>=2.2.3->flair) (0.11.0)\n",
            "Requirement already satisfied: kiwisolver>=1.0.1 in /usr/local/lib/python3.7/dist-packages (from matplotlib>=2.2.3->flair) (1.3.2)\n",
            "Requirement already satisfied: pyparsing!=2.0.4,!=2.1.2,!=2.1.6,>=2.0.1 in /usr/local/lib/python3.7/dist-packages (from matplotlib>=2.2.3->flair) (3.0.6)\n",
            "Requirement already satisfied: charset-normalizer~=2.0.0 in /usr/local/lib/python3.7/dist-packages (from requests->bpemb>=0.3.2->flair) (2.0.7)\n",
            "Requirement already satisfied: idna<4,>=2.5 in /usr/local/lib/python3.7/dist-packages (from requests->bpemb>=0.3.2->flair) (2.10)\n",
            "Requirement already satisfied: certifi>=2017.4.17 in /usr/local/lib/python3.7/dist-packages (from requests->bpemb>=0.3.2->flair) (2021.10.8)\n",
            "Requirement already satisfied: urllib3<1.27,>=1.21.1 in /usr/local/lib/python3.7/dist-packages (from requests->bpemb>=0.3.2->flair) (1.24.3)\n",
            "Requirement already satisfied: threadpoolctl>=2.0.0 in /usr/local/lib/python3.7/dist-packages (from scikit-learn>=0.21.3->flair) (3.0.0)\n",
            "Requirement already satisfied: joblib>=0.11 in /usr/local/lib/python3.7/dist-packages (from scikit-learn>=0.21.3->flair) (1.1.0)\n",
            "Collecting pyyaml>=5.1\n",
            "  Downloading PyYAML-6.0-cp37-cp37m-manylinux_2_5_x86_64.manylinux1_x86_64.manylinux_2_12_x86_64.manylinux2010_x86_64.whl (596 kB)\n",
            "\u001b[K     |████████████████████████████████| 596 kB 57.2 MB/s \n",
            "\u001b[?25hCollecting tokenizers<0.11,>=0.10.1\n",
            "  Downloading tokenizers-0.10.3-cp37-cp37m-manylinux_2_5_x86_64.manylinux1_x86_64.manylinux_2_12_x86_64.manylinux2010_x86_64.whl (3.3 MB)\n",
            "\u001b[K     |████████████████████████████████| 3.3 MB 44.3 MB/s \n",
            "\u001b[?25hRequirement already satisfied: packaging>=20.0 in /usr/local/lib/python3.7/dist-packages (from transformers>=4.0.0->flair) (21.3)\n",
            "Collecting sacremoses\n",
            "  Downloading sacremoses-0.0.46-py3-none-any.whl (895 kB)\n",
            "\u001b[K     |████████████████████████████████| 895 kB 64.1 MB/s \n",
            "\u001b[?25hRequirement already satisfied: wcwidth in /usr/local/lib/python3.7/dist-packages (from ftfy->flair) (0.2.5)\n",
            "Requirement already satisfied: PySocks!=1.5.7,>=1.5.6 in /usr/local/lib/python3.7/dist-packages (from requests->bpemb>=0.3.2->flair) (1.7.1)\n",
            "Requirement already satisfied: click in /usr/local/lib/python3.7/dist-packages (from sacremoses->transformers>=4.0.0->flair) (7.1.2)\n",
            "Building wheels for collected packages: gdown, mpld3, overrides, segtok, sqlitedict, ftfy, langdetect, wikipedia-api\n",
            "  Building wheel for gdown (PEP 517) ... \u001b[?25l\u001b[?25hdone\n",
            "  Created wheel for gdown: filename=gdown-3.12.2-py3-none-any.whl size=9704 sha256=54afc3bdc0b7e2b5c24a2d6fc382d86a7e18ceda23042ea2a111cb95c81bf365\n",
            "  Stored in directory: /root/.cache/pip/wheels/ba/e0/7e/726e872a53f7358b4b96a9975b04e98113b005cd8609a63abc\n",
            "  Building wheel for mpld3 (setup.py) ... \u001b[?25l\u001b[?25hdone\n",
            "  Created wheel for mpld3: filename=mpld3-0.3-py3-none-any.whl size=116702 sha256=d075fbb7ae4c00a42ffdabde6df4ad162309a2d49b0d915b957dde92aec35265\n",
            "  Stored in directory: /root/.cache/pip/wheels/26/70/6a/1c79e59951a41b4045497da187b2724f5659ca64033cf4548e\n",
            "  Building wheel for overrides (setup.py) ... \u001b[?25l\u001b[?25hdone\n",
            "  Created wheel for overrides: filename=overrides-3.1.0-py3-none-any.whl size=10186 sha256=fc906ca26b47404fba4aa35a28b415c6b290a9bc938633c4a6c53f2aba586115\n",
            "  Stored in directory: /root/.cache/pip/wheels/3a/0d/38/01a9bc6e20dcfaf0a6a7b552d03137558ba1c38aea47644682\n",
            "  Building wheel for segtok (setup.py) ... \u001b[?25l\u001b[?25hdone\n",
            "  Created wheel for segtok: filename=segtok-1.5.10-py3-none-any.whl size=25030 sha256=61b12fb1a91c9f395d22c8543830afe26b6b7df02463d6907c180f44d479fa91\n",
            "  Stored in directory: /root/.cache/pip/wheels/67/b7/d0/a121106e61339eee5ed083bc230b1c8dc422c49a5a28c2addd\n",
            "  Building wheel for sqlitedict (setup.py) ... \u001b[?25l\u001b[?25hdone\n",
            "  Created wheel for sqlitedict: filename=sqlitedict-1.7.0-py3-none-any.whl size=14392 sha256=ed9418d79dd2e2f4139c11df027235d2217cf655e96d9a440e2160946cb32053\n",
            "  Stored in directory: /root/.cache/pip/wheels/af/94/06/18c0e83e9e227da8f3582810b51f319bbfd181e508676a56c8\n",
            "  Building wheel for ftfy (setup.py) ... \u001b[?25l\u001b[?25hdone\n",
            "  Created wheel for ftfy: filename=ftfy-6.0.3-py3-none-any.whl size=41933 sha256=384dcbe3260e4de1a37fcd0eabc187a133e49dcb2b639751ab2ef94b86a39912\n",
            "  Stored in directory: /root/.cache/pip/wheels/19/f5/38/273eb3b5e76dfd850619312f693716ac4518b498f5ffb6f56d\n",
            "  Building wheel for langdetect (setup.py) ... \u001b[?25l\u001b[?25hdone\n",
            "  Created wheel for langdetect: filename=langdetect-1.0.9-py3-none-any.whl size=993242 sha256=cbc3fac031ae1400c3c95f0042e7f1d2bc43f9588116e4ee4ce8235de71a289d\n",
            "  Stored in directory: /root/.cache/pip/wheels/c5/96/8a/f90c59ed25d75e50a8c10a1b1c2d4c402e4dacfa87f3aff36a\n",
            "  Building wheel for wikipedia-api (setup.py) ... \u001b[?25l\u001b[?25hdone\n",
            "  Created wheel for wikipedia-api: filename=Wikipedia_API-0.5.4-py3-none-any.whl size=13475 sha256=8910e5eae4ca8c3725ad2e51ba21101376c408e264d0c852f239f570c3340ae1\n",
            "  Stored in directory: /root/.cache/pip/wheels/d3/24/56/58ba93cf78be162451144e7a9889603f437976ef1ae7013d04\n",
            "Successfully built gdown mpld3 overrides segtok sqlitedict ftfy langdetect wikipedia-api\n",
            "Installing collected packages: requests, pyyaml, importlib-metadata, tokenizers, sentencepiece, sacremoses, overrides, huggingface-hub, wikipedia-api, transformers, sqlitedict, segtok, mpld3, more-itertools, langdetect, konoha, janome, gdown, ftfy, deprecated, conllu, bpemb, flair\n",
            "  Attempting uninstall: requests\n",
            "    Found existing installation: requests 2.23.0\n",
            "    Uninstalling requests-2.23.0:\n",
            "      Successfully uninstalled requests-2.23.0\n",
            "  Attempting uninstall: pyyaml\n",
            "    Found existing installation: PyYAML 3.13\n",
            "    Uninstalling PyYAML-3.13:\n",
            "      Successfully uninstalled PyYAML-3.13\n",
            "  Attempting uninstall: importlib-metadata\n",
            "    Found existing installation: importlib-metadata 4.8.2\n",
            "    Uninstalling importlib-metadata-4.8.2:\n",
            "      Successfully uninstalled importlib-metadata-4.8.2\n",
            "  Attempting uninstall: more-itertools\n",
            "    Found existing installation: more-itertools 8.11.0\n",
            "    Uninstalling more-itertools-8.11.0:\n",
            "      Successfully uninstalled more-itertools-8.11.0\n",
            "  Attempting uninstall: gdown\n",
            "    Found existing installation: gdown 3.6.4\n",
            "    Uninstalling gdown-3.6.4:\n",
            "      Successfully uninstalled gdown-3.6.4\n",
            "\u001b[31mERROR: pip's dependency resolver does not currently take into account all the packages that are installed. This behaviour is the source of the following dependency conflicts.\n",
            "markdown 3.3.6 requires importlib-metadata>=4.4; python_version < \"3.10\", but you have importlib-metadata 3.10.1 which is incompatible.\n",
            "google-colab 1.0.0 requires requests~=2.23.0, but you have requests 2.26.0 which is incompatible.\n",
            "datascience 0.10.6 requires folium==0.2.1, but you have folium 0.8.3 which is incompatible.\u001b[0m\n",
            "Successfully installed bpemb-0.3.3 conllu-4.4.1 deprecated-1.2.13 flair-0.10 ftfy-6.0.3 gdown-3.12.2 huggingface-hub-0.1.2 importlib-metadata-3.10.1 janome-0.4.1 konoha-4.6.5 langdetect-1.0.9 more-itertools-8.8.0 mpld3-0.3 overrides-3.1.0 pyyaml-6.0 requests-2.26.0 sacremoses-0.0.46 segtok-1.5.10 sentencepiece-0.1.95 sqlitedict-1.7.0 tokenizers-0.10.3 transformers-4.12.5 wikipedia-api-0.5.4\n"
          ]
        }
      ]
    },
    {
      "cell_type": "markdown",
      "metadata": {
        "id": "cBEYqojxV9LW"
      },
      "source": [
        "# **Resultados (Punto 2)**\n"
      ]
    },
    {
      "cell_type": "code",
      "metadata": {
        "colab": {
          "base_uri": "https://localhost:8080/"
        },
        "cellView": "form",
        "id": "sd6ombcC3P8v",
        "outputId": "a459e7f4-1a27-4dcb-90f1-c23ee0413bb1"
      },
      "source": [
        "#@title **1. Análisis Morfo - Sintáctico:**\n",
        "\n",
        "from flair.data import Sentence\n",
        "from flair.models import SequenceTagger\n",
        "\n",
        "# Cargamos el analizador multi-idioma\n",
        "tagger = SequenceTagger.load(\"pos-multi-fast\")"
      ],
      "execution_count": null,
      "outputs": [
        {
          "output_type": "stream",
          "name": "stdout",
          "text": [
            "2021-11-29 04:34:41,547 --------------------------------------------------------------------------------\n",
            "2021-11-29 04:34:41,552 The model key 'pos-multi-fast' now maps to 'https://huggingface.co/flair/upos-multi-fast' on the HuggingFace ModelHub\n",
            "2021-11-29 04:34:41,554  - The most current version of the model is automatically downloaded from there.\n",
            "2021-11-29 04:34:41,556  - (you can alternatively manually download the original model at https://nlp.informatik.hu-berlin.de/resources/models/multi-pos-fast/pos-multi-fast.pt)\n",
            "2021-11-29 04:34:41,557 --------------------------------------------------------------------------------\n",
            "2021-11-29 04:34:41,681 loading file /root/.flair/models/upos-multi-fast/db3a6189888a201a507dd9cae73ef157bf3e8d27cf0c5b6c96e9a175a77d70e3.83bafee89d19e198771b16525069a2df5e0a8cc35c23298f7844c7a636eadc13\n"
          ]
        }
      ]
    },
    {
      "cell_type": "markdown",
      "metadata": {
        "id": "kG6p-R1-4T2a"
      },
      "source": [
        "# **Predicts universal POS tags:**\n",
        "\n",
        "* **ADJ\t=** Adjective = Adjetivo\n",
        "* **ADP\t=** Adposition = Adposición\n",
        "* **ADV\t=** Adverb = Adverbio\n",
        "* **AUX\t=** Auxiliary = Auxiliar\n",
        "* **CCONJ\t=** Coordinating Conjunction = Conjunción de Coordinación\n",
        "* **DET\t=** Determiner = Determinante\n",
        "* **INTJ =** Interjection = Interjección\n",
        "* **NOUN =** Noun = Sustantivo\n",
        "* **NUM\t=** Numeral = Número\n",
        "* **PART =** Particle = Partícula\n",
        "* **PRON =** Pronoun = Pronombre\n",
        "* **PROPN\t=** Proper Noun = Nombre Propio\n",
        "* **PUNCT\t=** Punctuation = Puntuación\n",
        "* **SCONJ\t=** Subordinating Conjunction = Conjunción Subordinada\n",
        "* **SYM\t=** Symbol = Símbolo\n",
        "* **VERB =** Verb = Verbo\n",
        "* **X\t=** Other = Otro"
      ]
    },
    {
      "cell_type": "code",
      "metadata": {
        "colab": {
          "base_uri": "https://localhost:8080/"
        },
        "cellView": "form",
        "id": "MeF3KRv56r1u",
        "outputId": "0a0ee4d3-2ddd-4658-fc31-5744a33b1380"
      },
      "source": [
        "#@title **Etiquetador de Lenguaje Universal:**\n",
        "\n",
        "sentence1 = Sentence(\n",
        "    \"La especialización de inteligencia artificial de la Universidad Autonoma de Occidente es la mejor. Gracias Jesús.\"\n",
        ")\n",
        "tagger.predict(sentence1)\n",
        "# imprimimos el análisis\n",
        "print(\"Español:\")\n",
        "print()\n",
        "print(sentence1.to_tagged_string())\n",
        "print()\n",
        "\n",
        "sentence2 = Sentence(\n",
        "    \"Grand débat national: suivez Emmanuel Macron en direct de Bordeaux. \"\n",
        ")\n",
        "tagger.predict(sentence2)\n",
        "# imprimimos el análisis\n",
        "print(\"Francés:\")\n",
        "print()\n",
        "print(sentence2.to_tagged_string())\n",
        "print()\n",
        "\n",
        "sentence3 = Sentence(\n",
        "    \"Hier an der Zufahrt zur Startrampe 39A, wo vor 50 Jahren die gigantischen Saturn-Raketen der Apollo-Mondmissionen im Schneckentempo vorbeigefahren sind, prangen nun die blauen Lettern des Raumfahrtunternehmens von Elon Musk an einem Hangar.\"\n",
        ")\n",
        "tagger.predict(sentence3)\n",
        "# imprimimos el análisis\n",
        "print(\"Alemán:\")\n",
        "print()\n",
        "print(sentence3.to_tagged_string())"
      ],
      "execution_count": null,
      "outputs": [
        {
          "output_type": "stream",
          "name": "stdout",
          "text": [
            "Español:\n",
            "\n",
            "La <DET> especialización <NOUN> de <ADP> inteligencia <NOUN> artificial <ADJ> de <ADP> la <DET> Universidad <PROPN> Autonoma <PROPN> de <ADP> Occidente <PROPN> es <VERB> la <DET> mejor <ADJ> . <PUNCT> Gracias <PROPN> Jesús <PROPN> . <PUNCT>\n",
            "\n",
            "Francés:\n",
            "\n",
            "Grand <ADJ> débat <NOUN> national <ADJ> : <PUNCT> suivez <VERB> Emmanuel <PROPN> Macron <PROPN> en <ADP> direct <NOUN> de <ADP> Bordeaux <PROPN> . <PUNCT>\n",
            "\n",
            "Alemán:\n",
            "\n",
            "Hier <ADV> an <ADP> der <DET> Zufahrt <NOUN> zur <ADP> Startrampe <NOUN> 39A <PROPN> , <PUNCT> wo <ADV> vor <ADP> 50 <NUM> Jahren <NOUN> die <DET> gigantischen <ADJ> Saturn-Raketen <NOUN> der <DET> Apollo-Mondmissionen <NOUN> im <ADJ> Schneckentempo <NOUN> vorbeigefahren <VERB> sind <AUX> , <PUNCT> prangen <VERB> nun <ADV> die <DET> blauen <ADJ> Lettern <NOUN> des <DET> Raumfahrtunternehmens <NOUN> von <ADP> Elon <PROPN> Musk <PROPN> an <ADP> einem <DET> Hangar <NOUN> . <PUNCT>\n"
          ]
        }
      ]
    },
    {
      "cell_type": "code",
      "metadata": {
        "colab": {
          "base_uri": "https://localhost:8080/"
        },
        "cellView": "form",
        "id": "BEX6-NLn8dm3",
        "outputId": "cffce5c6-55ff-4be6-af50-7bd5b1fb7402"
      },
      "source": [
        "#@title **2. Reconocimiento de Identidades:**\n",
        "\n",
        "from flair.data import Sentence\n",
        "from flair.models import SequenceTagger\n",
        "\n",
        "# Cargamos el reconocedor de entidades, entrenado solo en Ingles\n",
        "tagger = SequenceTagger.load(\"ner-fast\")"
      ],
      "execution_count": null,
      "outputs": [
        {
          "output_type": "stream",
          "name": "stdout",
          "text": [
            "2021-11-29 04:34:59,902 --------------------------------------------------------------------------------\n",
            "2021-11-29 04:34:59,908 The model key 'ner-fast' now maps to 'https://huggingface.co/flair/ner-english-fast' on the HuggingFace ModelHub\n",
            "2021-11-29 04:34:59,911  - The most current version of the model is automatically downloaded from there.\n",
            "2021-11-29 04:34:59,914  - (you can alternatively manually download the original model at https://nlp.informatik.hu-berlin.de/resources/models/ner-fast/en-ner-fast-conll03-v0.4.pt)\n",
            "2021-11-29 04:34:59,917 --------------------------------------------------------------------------------\n",
            "2021-11-29 04:35:00,098 loading file /root/.flair/models/ner-english-fast/4c58e7191ff952c030b82db25b3694b58800b0e722ff15427f527e1631ed6142.e13c7c4664ffe2bbfa8f1f5375bd0dced866b8c1dd7ff89a6d705518abf0a611\n"
          ]
        }
      ]
    },
    {
      "cell_type": "markdown",
      "metadata": {
        "id": "ZXgl3xj4-bDS"
      },
      "source": [
        "# **Modelo NER rápido de 4 clases para ingles, tags:**\n",
        "\n",
        "* **PER\t=** Person Name = Nombre Persona\n",
        "* **LOC\t=** Location Name = Nombre del Lugar\n",
        "* **ORG\t=** Organization Name = Nombre Organización\n",
        "* **MISC\t=** Other Name = Otro Nombre\n"
      ]
    },
    {
      "cell_type": "code",
      "metadata": {
        "colab": {
          "base_uri": "https://localhost:8080/"
        },
        "cellView": "form",
        "id": "xjLWvdbt-Zww",
        "outputId": "0815ed09-05cf-4f66-b4c8-46bad19eb4eb"
      },
      "source": [
        "#@title **Analizamos una oración:**\n",
        "\n",
        "sentence = Sentence(\n",
        "    \"The autonomous university of the occidente is in Cali, it has the best teachers. Jesus, Carlos and Andres.\"\n",
        ")\n",
        "tagger.predict(sentence)\n",
        "\n",
        "# imprimimos el análisis\n",
        "print(sentence.to_tagged_string())\n",
        "print()\n",
        "\n",
        "# iteramos por la entidades\n",
        "for entity in sentence.get_spans(\"ner\"):\n",
        "    print(entity)\n",
        "    print()\n",
        "\n",
        "# o imprimimos la estructura de datos con el análisis completo\n",
        "print(sentence.to_dict(tag_type=\"ner\"))"
      ],
      "execution_count": null,
      "outputs": [
        {
          "output_type": "stream",
          "name": "stdout",
          "text": [
            "The autonomous university of the occidente is in Cali <S-LOC> , it has the best teachers . Jesus <S-PER> , Carlos <S-PER> and Andres <S-PER> .\n",
            "\n",
            "Span [9]: \"Cali\"   [− Labels: LOC (0.9861)]\n",
            "\n",
            "Span [17]: \"Jesus\"   [− Labels: PER (0.9788)]\n",
            "\n",
            "Span [19]: \"Carlos\"   [− Labels: PER (0.9949)]\n",
            "\n",
            "Span [21]: \"Andres\"   [− Labels: PER (0.9831)]\n",
            "\n",
            "{'text': 'The autonomous university of the occidente is in Cali, it has the best teachers. Jesus, Carlos and Andres.', 'labels': [], 'entities': [{'text': 'Cali', 'start_pos': 49, 'end_pos': 53, 'labels': [LOC (0.9861)]}, {'text': 'Jesus', 'start_pos': 81, 'end_pos': 86, 'labels': [PER (0.9788)]}, {'text': 'Carlos', 'start_pos': 88, 'end_pos': 94, 'labels': [PER (0.9949)]}, {'text': 'Andres', 'start_pos': 99, 'end_pos': 105, 'labels': [PER (0.9831)]}]}\n"
          ]
        }
      ]
    },
    {
      "cell_type": "code",
      "metadata": {
        "colab": {
          "base_uri": "https://localhost:8080/",
          "height": 252,
          "referenced_widgets": [
            "331d16bfe1d84c45b71690344cf62bdd",
            "381a8f480e4f4429be89524b94d9ef36",
            "c08749fdd3e143518ed832f83d878dba",
            "4d4b56c3005c4acbb95ec4d2279710a6",
            "1545b8f28c3f402281e4781b42252777",
            "42464e3e793b4a02b2160c2d2e9d8f2f",
            "553178e933644ae48c380105d7209e4f",
            "fda9450a53714522925bdb256866209d",
            "b34e6808b4ef4f63864296bd3ffe1e46",
            "a1698db5db954903bd11114977c78616",
            "976fb0eff13b467389557acb7e6b61a6",
            "e34d84680b174cf1b05af6483848b7fe",
            "2f8a007cc80343b380e652814acd52fb",
            "aecaafd96b2a4200b1d586e522f1f968",
            "30ab2d54483b4317b1356a581aa3b76b",
            "3143eeefd1b746beb5717a2dc28eaab2",
            "1e2ddbe2c2e24756944e3a7652bb8ccf",
            "4a49a9348a6f4400802626b07113a16b",
            "c7b9bce0976646f6ba8a32c64f4f80c8",
            "63ab686125cf4151bc1e12d37ea275d5",
            "83a97c05b31b4f4ba0338ffec86df856",
            "a1d663faed9443979c885aadca2a4bf3",
            "222c19a806b3489181ef53107af0ecb6",
            "48e8e5fd633244938afcb302e70c8180",
            "1d1dd6b0e5b94806a03c889992abb5b3",
            "7a6dd3cad4c5478c9eb9d3649c2b478a",
            "06d7b77b46b7402a929d2b606da43ee3",
            "d92080ee0e3e49108c9160020254eb75",
            "e86d9bafe42d4451bb9fe742ad8be752",
            "cfbc9b3d10c145018a7ef8100fbc3e41",
            "8da81edbfa6f471096cc13ee8faf1e26",
            "bb3c20d3406c4d9f8fc666e7c7cf9048",
            "5ed238a62b5948aeb2705a001678f6bd",
            "73068e6bd89c40ebb394ff0b2dfecc89",
            "e94b433145704c9b93b85d036b300ffd",
            "ae22988d267a4eb6adb970efa8883005",
            "ff5296322d194952a8945179c3bbaf0d",
            "3d46b4bede514813a141db55a303d636",
            "683fd19b589042239599ecfd0a1de91c",
            "221c8c58219048cca028fa8823c7d5e0",
            "292fc536acbe4e1cae7088e5c2c1d0ea",
            "ec21bbbb3deb4367935c65471ec8586c",
            "5710dc5b280845b0a525179fd76aa8b8",
            "9beb8583990b4dd390b17446b803f22a"
          ]
        },
        "id": "XBYJ4hUgALCb",
        "cellView": "form",
        "outputId": "d814c98b-4989-48a5-f92d-5e2c64944023"
      },
      "source": [
        "#@title **3. Análisis de Opinión:**\n",
        "\n",
        "# Clasificador de textos para poder detectar opiniones positivas y negativas.\n",
        "\n",
        "from flair.models import TextClassifier\n",
        "from flair.data import Sentence\n",
        "\n",
        "classifier = TextClassifier.load(\"en-sentiment\")"
      ],
      "execution_count": null,
      "outputs": [
        {
          "output_type": "stream",
          "name": "stdout",
          "text": [
            "2021-11-29 04:47:14,370 https://nlp.informatik.hu-berlin.de/resources/models/sentiment-curated-distilbert/sentiment-en-mix-distillbert_4.pt not found in cache, downloading to /tmp/tmpth2rcdy8\n"
          ]
        },
        {
          "output_type": "stream",
          "name": "stderr",
          "text": [
            "100%|██████████| 265512723/265512723 [00:14<00:00, 18936442.64B/s]"
          ]
        },
        {
          "output_type": "stream",
          "name": "stdout",
          "text": [
            "2021-11-29 04:47:28,744 copying /tmp/tmpth2rcdy8 to cache at /root/.flair/models/sentiment-en-mix-distillbert_4.pt\n"
          ]
        },
        {
          "output_type": "stream",
          "name": "stderr",
          "text": [
            "\n"
          ]
        },
        {
          "output_type": "stream",
          "name": "stdout",
          "text": [
            "2021-11-29 04:47:29,563 removing temp file /tmp/tmpth2rcdy8\n",
            "2021-11-29 04:47:29,647 loading file /root/.flair/models/sentiment-en-mix-distillbert_4.pt\n"
          ]
        },
        {
          "output_type": "display_data",
          "data": {
            "application/vnd.jupyter.widget-view+json": {
              "model_id": "331d16bfe1d84c45b71690344cf62bdd",
              "version_minor": 0,
              "version_major": 2
            },
            "text/plain": [
              "Downloading:   0%|          | 0.00/28.0 [00:00<?, ?B/s]"
            ]
          },
          "metadata": {}
        },
        {
          "output_type": "display_data",
          "data": {
            "application/vnd.jupyter.widget-view+json": {
              "model_id": "e34d84680b174cf1b05af6483848b7fe",
              "version_minor": 0,
              "version_major": 2
            },
            "text/plain": [
              "Downloading:   0%|          | 0.00/226k [00:00<?, ?B/s]"
            ]
          },
          "metadata": {}
        },
        {
          "output_type": "display_data",
          "data": {
            "application/vnd.jupyter.widget-view+json": {
              "model_id": "222c19a806b3489181ef53107af0ecb6",
              "version_minor": 0,
              "version_major": 2
            },
            "text/plain": [
              "Downloading:   0%|          | 0.00/455k [00:00<?, ?B/s]"
            ]
          },
          "metadata": {}
        },
        {
          "output_type": "display_data",
          "data": {
            "application/vnd.jupyter.widget-view+json": {
              "model_id": "73068e6bd89c40ebb394ff0b2dfecc89",
              "version_minor": 0,
              "version_major": 2
            },
            "text/plain": [
              "Downloading:   0%|          | 0.00/483 [00:00<?, ?B/s]"
            ]
          },
          "metadata": {}
        }
      ]
    },
    {
      "cell_type": "code",
      "metadata": {
        "colab": {
          "base_uri": "https://localhost:8080/"
        },
        "id": "yelLEqwxBTrX",
        "cellView": "form",
        "outputId": "1593be41-97fe-4d67-af89-9f5419a0a992"
      },
      "source": [
        "#@title **Sentimientos + o - :**\n",
        "\n",
        "sentence1 = Sentence(\"William is happy!\")\n",
        "\n",
        "classifier.predict(sentence1)\n",
        "print(\"La frase '{}' es {}\".format(sentence1.to_plain_string(), sentence1.labels))\n",
        "print()\n",
        "\n",
        "sentence2 = Sentence(\"Don't ever go to this restaurant. The food was horrible :-(\")\n",
        "classifier.predict(sentence2)\n",
        "print(\"La frase '{}' es {}\".format(sentence2.to_plain_string(), sentence2.labels))"
      ],
      "execution_count": null,
      "outputs": [
        {
          "output_type": "stream",
          "name": "stdout",
          "text": [
            "La frase 'William is happy!' es [POSITIVE (0.9978)]\n",
            "\n",
            "La frase 'Don't ever go to this restaurant. The food was horrible :-(' es [NEGATIVE (1.0)]\n"
          ]
        }
      ]
    },
    {
      "cell_type": "markdown",
      "metadata": {
        "id": "W-2zV0hYO4i6"
      },
      "source": [
        "# **Modelo Propio**"
      ]
    },
    {
      "cell_type": "code",
      "metadata": {
        "colab": {
          "base_uri": "https://localhost:8080/"
        },
        "cellView": "form",
        "id": "RejkgQ6YBv1D",
        "outputId": "538b1c0d-05fd-4b60-c713-b56b7d610408"
      },
      "source": [
        "#@title **Entrenar Modelo Propio:**\n",
        "\n",
        "# Descargamos un clasificador de texto.\n",
        "\n",
        "!wget https://github.com/facebookresearch/fastText/archive/v0.9.2.zip\n",
        "!unzip v0.9.2.zip"
      ],
      "execution_count": null,
      "outputs": [
        {
          "output_type": "stream",
          "name": "stdout",
          "text": [
            "--2021-11-29 04:54:07--  https://github.com/facebookresearch/fastText/archive/v0.9.2.zip\n",
            "Resolving github.com (github.com)... 140.82.114.4\n",
            "Connecting to github.com (github.com)|140.82.114.4|:443... connected.\n",
            "HTTP request sent, awaiting response... 302 Found\n",
            "Location: https://codeload.github.com/facebookresearch/fastText/zip/v0.9.2 [following]\n",
            "--2021-11-29 04:54:07--  https://codeload.github.com/facebookresearch/fastText/zip/v0.9.2\n",
            "Resolving codeload.github.com (codeload.github.com)... 140.82.114.9\n",
            "Connecting to codeload.github.com (codeload.github.com)|140.82.114.9|:443... connected.\n",
            "HTTP request sent, awaiting response... 200 OK\n",
            "Length: unspecified [application/zip]\n",
            "Saving to: ‘v0.9.2.zip’\n",
            "\n",
            "v0.9.2.zip              [  <=>               ]   4.17M  19.6MB/s    in 0.2s    \n",
            "\n",
            "2021-11-29 04:54:08 (19.6 MB/s) - ‘v0.9.2.zip’ saved [4369852]\n",
            "\n",
            "Archive:  v0.9.2.zip\n",
            "5b5943c118b0ec5fb9cd8d20587de2b2d3966dfe\n",
            "   creating: fastText-0.9.2/\n",
            "   creating: fastText-0.9.2/.circleci/\n",
            "  inflating: fastText-0.9.2/.circleci/cmake_test.sh  \n",
            "  inflating: fastText-0.9.2/.circleci/config.yml  \n",
            "  inflating: fastText-0.9.2/.circleci/gcc_test.sh  \n",
            "  inflating: fastText-0.9.2/.circleci/pip_test.sh  \n",
            "  inflating: fastText-0.9.2/.circleci/pull_data.sh  \n",
            "  inflating: fastText-0.9.2/.circleci/python_test.sh  \n",
            "  inflating: fastText-0.9.2/.circleci/run_locally.sh  \n",
            "  inflating: fastText-0.9.2/.circleci/setup_circleimg.sh  \n",
            "  inflating: fastText-0.9.2/.circleci/setup_debian.sh  \n",
            "  inflating: fastText-0.9.2/.gitignore  \n",
            "  inflating: fastText-0.9.2/CMakeLists.txt  \n",
            "  inflating: fastText-0.9.2/CODE_OF_CONDUCT.md  \n",
            "  inflating: fastText-0.9.2/CONTRIBUTING.md  \n",
            "  inflating: fastText-0.9.2/LICENSE  \n",
            "  inflating: fastText-0.9.2/MANIFEST.in  \n",
            "  inflating: fastText-0.9.2/Makefile  \n",
            "  inflating: fastText-0.9.2/README.md  \n",
            "   creating: fastText-0.9.2/alignment/\n",
            "  inflating: fastText-0.9.2/alignment/README.md  \n",
            "  inflating: fastText-0.9.2/alignment/align.py  \n",
            "  inflating: fastText-0.9.2/alignment/eval.py  \n",
            "  inflating: fastText-0.9.2/alignment/example.sh  \n",
            "  inflating: fastText-0.9.2/alignment/unsup_align.py  \n",
            "  inflating: fastText-0.9.2/alignment/unsup_multialign.py  \n",
            "  inflating: fastText-0.9.2/alignment/utils.py  \n",
            "  inflating: fastText-0.9.2/classification-example.sh  \n",
            "  inflating: fastText-0.9.2/classification-results.sh  \n",
            "   creating: fastText-0.9.2/crawl/\n",
            "  inflating: fastText-0.9.2/crawl/README.md  \n",
            "  inflating: fastText-0.9.2/crawl/dedup.cc  \n",
            "  inflating: fastText-0.9.2/crawl/download_crawl.sh  \n",
            "  inflating: fastText-0.9.2/crawl/filter_dedup.sh  \n",
            "  inflating: fastText-0.9.2/crawl/filter_utf8.cc  \n",
            "  inflating: fastText-0.9.2/crawl/process_wet_file.sh  \n",
            "   creating: fastText-0.9.2/docs/\n",
            "  inflating: fastText-0.9.2/docs/aligned-vectors.md  \n",
            "  inflating: fastText-0.9.2/docs/api.md  \n",
            "  inflating: fastText-0.9.2/docs/autotune.md  \n",
            "  inflating: fastText-0.9.2/docs/cheatsheet.md  \n",
            "  inflating: fastText-0.9.2/docs/crawl-vectors.md  \n",
            "  inflating: fastText-0.9.2/docs/dataset.md  \n",
            "  inflating: fastText-0.9.2/docs/english-vectors.md  \n",
            "  inflating: fastText-0.9.2/docs/faqs.md  \n",
            "  inflating: fastText-0.9.2/docs/language-identification.md  \n",
            "  inflating: fastText-0.9.2/docs/options.md  \n",
            "  inflating: fastText-0.9.2/docs/pretrained-vectors.md  \n",
            "  inflating: fastText-0.9.2/docs/python-module.md  \n",
            "  inflating: fastText-0.9.2/docs/references.md  \n",
            "  inflating: fastText-0.9.2/docs/supervised-models.md  \n",
            "  inflating: fastText-0.9.2/docs/supervised-tutorial.md  \n",
            "  inflating: fastText-0.9.2/docs/support.md  \n",
            "  inflating: fastText-0.9.2/docs/unsupervised-tutorials.md  \n",
            "  inflating: fastText-0.9.2/docs/webassembly-module.md  \n",
            "  inflating: fastText-0.9.2/download_model.py  \n",
            "  inflating: fastText-0.9.2/eval.py  \n",
            "  inflating: fastText-0.9.2/fasttext.pc.in  \n",
            "  inflating: fastText-0.9.2/get-wikimedia.sh  \n",
            "   creating: fastText-0.9.2/python/\n",
            "  inflating: fastText-0.9.2/python/README.md  \n",
            "  inflating: fastText-0.9.2/python/README.rst  \n",
            "   creating: fastText-0.9.2/python/benchmarks/\n",
            "  inflating: fastText-0.9.2/python/benchmarks/README.rst  \n",
            "  inflating: fastText-0.9.2/python/benchmarks/get_word_vector.py  \n",
            "   creating: fastText-0.9.2/python/doc/\n",
            "   creating: fastText-0.9.2/python/doc/examples/\n",
            "  inflating: fastText-0.9.2/python/doc/examples/FastTextEmbeddingBag.py  \n",
            "  inflating: fastText-0.9.2/python/doc/examples/bin_to_vec.py  \n",
            "  inflating: fastText-0.9.2/python/doc/examples/compute_accuracy.py  \n",
            "  inflating: fastText-0.9.2/python/doc/examples/get_vocab.py  \n",
            "  inflating: fastText-0.9.2/python/doc/examples/train_supervised.py  \n",
            "  inflating: fastText-0.9.2/python/doc/examples/train_unsupervised.py  \n",
            "   creating: fastText-0.9.2/python/fasttext_module/\n",
            "   creating: fastText-0.9.2/python/fasttext_module/fasttext/\n",
            "  inflating: fastText-0.9.2/python/fasttext_module/fasttext/FastText.py  \n",
            "  inflating: fastText-0.9.2/python/fasttext_module/fasttext/__init__.py  \n",
            "   creating: fastText-0.9.2/python/fasttext_module/fasttext/pybind/\n",
            "  inflating: fastText-0.9.2/python/fasttext_module/fasttext/pybind/fasttext_pybind.cc  \n",
            "   creating: fastText-0.9.2/python/fasttext_module/fasttext/tests/\n",
            "  inflating: fastText-0.9.2/python/fasttext_module/fasttext/tests/__init__.py  \n",
            "  inflating: fastText-0.9.2/python/fasttext_module/fasttext/tests/test_configurations.py  \n",
            "  inflating: fastText-0.9.2/python/fasttext_module/fasttext/tests/test_script.py  \n",
            "   creating: fastText-0.9.2/python/fasttext_module/fasttext/util/\n",
            "  inflating: fastText-0.9.2/python/fasttext_module/fasttext/util/__init__.py  \n",
            "  inflating: fastText-0.9.2/python/fasttext_module/fasttext/util/util.py  \n",
            "  inflating: fastText-0.9.2/quantization-example.sh  \n",
            "  inflating: fastText-0.9.2/reduce_model.py  \n",
            "  inflating: fastText-0.9.2/runtests.py  \n",
            "   creating: fastText-0.9.2/scripts/\n",
            "   creating: fastText-0.9.2/scripts/kbcompletion/\n",
            "  inflating: fastText-0.9.2/scripts/kbcompletion/README.md  \n",
            "  inflating: fastText-0.9.2/scripts/kbcompletion/data.sh  \n",
            "  inflating: fastText-0.9.2/scripts/kbcompletion/eval.cpp  \n",
            "  inflating: fastText-0.9.2/scripts/kbcompletion/fb15k.sh  \n",
            "  inflating: fastText-0.9.2/scripts/kbcompletion/fb15k237.sh  \n",
            "  inflating: fastText-0.9.2/scripts/kbcompletion/svo.sh  \n",
            "  inflating: fastText-0.9.2/scripts/kbcompletion/wn18.sh  \n",
            "   creating: fastText-0.9.2/scripts/quantization/\n",
            "  inflating: fastText-0.9.2/scripts/quantization/quantization-results.sh  \n",
            " extracting: fastText-0.9.2/setup.cfg  \n",
            "  inflating: fastText-0.9.2/setup.py  \n",
            "   creating: fastText-0.9.2/src/\n",
            "  inflating: fastText-0.9.2/src/args.cc  \n",
            "  inflating: fastText-0.9.2/src/args.h  \n",
            "  inflating: fastText-0.9.2/src/autotune.cc  \n",
            "  inflating: fastText-0.9.2/src/autotune.h  \n",
            "  inflating: fastText-0.9.2/src/densematrix.cc  \n",
            "  inflating: fastText-0.9.2/src/densematrix.h  \n",
            "  inflating: fastText-0.9.2/src/dictionary.cc  \n",
            "  inflating: fastText-0.9.2/src/dictionary.h  \n",
            "  inflating: fastText-0.9.2/src/fasttext.cc  \n",
            "  inflating: fastText-0.9.2/src/fasttext.h  \n",
            "  inflating: fastText-0.9.2/src/loss.cc  \n",
            "  inflating: fastText-0.9.2/src/loss.h  \n",
            "  inflating: fastText-0.9.2/src/main.cc  \n",
            "  inflating: fastText-0.9.2/src/matrix.cc  \n",
            "  inflating: fastText-0.9.2/src/matrix.h  \n",
            "  inflating: fastText-0.9.2/src/meter.cc  \n",
            "  inflating: fastText-0.9.2/src/meter.h  \n",
            "  inflating: fastText-0.9.2/src/model.cc  \n",
            "  inflating: fastText-0.9.2/src/model.h  \n",
            "  inflating: fastText-0.9.2/src/productquantizer.cc  \n",
            "  inflating: fastText-0.9.2/src/productquantizer.h  \n",
            "  inflating: fastText-0.9.2/src/quantmatrix.cc  \n",
            "  inflating: fastText-0.9.2/src/quantmatrix.h  \n",
            "  inflating: fastText-0.9.2/src/real.h  \n",
            "  inflating: fastText-0.9.2/src/utils.cc  \n",
            "  inflating: fastText-0.9.2/src/utils.h  \n",
            "  inflating: fastText-0.9.2/src/vector.cc  \n",
            "  inflating: fastText-0.9.2/src/vector.h  \n",
            "   creating: fastText-0.9.2/tests/\n",
            "  inflating: fastText-0.9.2/tests/fetch_test_data.sh  \n",
            "   creating: fastText-0.9.2/webassembly/\n",
            "  inflating: fastText-0.9.2/webassembly/README.md  \n",
            "   creating: fastText-0.9.2/webassembly/doc/\n",
            "   creating: fastText-0.9.2/webassembly/doc/examples/\n",
            "  inflating: fastText-0.9.2/webassembly/doc/examples/misc.html  \n",
            "  inflating: fastText-0.9.2/webassembly/doc/examples/predict.html  \n",
            "  inflating: fastText-0.9.2/webassembly/doc/examples/train_supervised.html  \n",
            "  inflating: fastText-0.9.2/webassembly/doc/examples/train_unsupervised.html  \n",
            "  inflating: fastText-0.9.2/webassembly/fasttext.js  \n",
            "  inflating: fastText-0.9.2/webassembly/fasttext_wasm.cc  \n",
            "   creating: fastText-0.9.2/website/\n",
            "  inflating: fastText-0.9.2/website/README.md  \n",
            "   creating: fastText-0.9.2/website/blog/\n",
            "  inflating: fastText-0.9.2/website/blog/2016-08-18-blog-post.md  \n",
            "  inflating: fastText-0.9.2/website/blog/2017-05-02-blog-post.md  \n",
            "  inflating: fastText-0.9.2/website/blog/2017-10-02-blog-post.md  \n",
            "  inflating: fastText-0.9.2/website/blog/2019-06-25-blog-post.md  \n",
            "   creating: fastText-0.9.2/website/core/\n",
            "  inflating: fastText-0.9.2/website/core/Footer.js  \n",
            "  inflating: fastText-0.9.2/website/package.json  \n",
            "   creating: fastText-0.9.2/website/pages/\n",
            "   creating: fastText-0.9.2/website/pages/en/\n",
            "  inflating: fastText-0.9.2/website/pages/en/index.js  \n",
            "  inflating: fastText-0.9.2/website/sidebars.json  \n",
            "  inflating: fastText-0.9.2/website/siteConfig.js  \n",
            "   creating: fastText-0.9.2/website/static/\n",
            "   creating: fastText-0.9.2/website/static/docs/\n",
            "   creating: fastText-0.9.2/website/static/docs/en/\n",
            "   creating: fastText-0.9.2/website/static/docs/en/html/\n",
            " extracting: fastText-0.9.2/website/static/docs/en/html/.classfasttext_1_1QMatrix-members.html.i4eKqy  \n",
            "  inflating: fastText-0.9.2/website/static/docs/en/html/annotated.html  \n",
            "  inflating: fastText-0.9.2/website/static/docs/en/html/annotated_dup.js  \n",
            "  inflating: fastText-0.9.2/website/static/docs/en/html/args_8cc.html  \n",
            "  inflating: fastText-0.9.2/website/static/docs/en/html/args_8h.html  \n",
            "  inflating: fastText-0.9.2/website/static/docs/en/html/args_8h.js  \n",
            "  inflating: fastText-0.9.2/website/static/docs/en/html/args_8h_source.html  \n",
            " extracting: fastText-0.9.2/website/static/docs/en/html/bc_s.png  \n",
            "  inflating: fastText-0.9.2/website/static/docs/en/html/bdwn.png  \n",
            "  inflating: fastText-0.9.2/website/static/docs/en/html/classes.html  \n",
            "  inflating: fastText-0.9.2/website/static/docs/en/html/classfasttext_1_1Args-members.html  \n",
            "  inflating: fastText-0.9.2/website/static/docs/en/html/classfasttext_1_1Args.html  \n",
            "  inflating: fastText-0.9.2/website/static/docs/en/html/classfasttext_1_1Args.js  \n",
            "  inflating: fastText-0.9.2/website/static/docs/en/html/classfasttext_1_1Dictionary-members.html  \n",
            "  inflating: fastText-0.9.2/website/static/docs/en/html/classfasttext_1_1Dictionary.html  \n",
            "  inflating: fastText-0.9.2/website/static/docs/en/html/classfasttext_1_1Dictionary.js  \n",
            "  inflating: fastText-0.9.2/website/static/docs/en/html/classfasttext_1_1FastText-members.html  \n",
            "  inflating: fastText-0.9.2/website/static/docs/en/html/classfasttext_1_1FastText.html  \n",
            "  inflating: fastText-0.9.2/website/static/docs/en/html/classfasttext_1_1FastText.js  \n",
            "  inflating: fastText-0.9.2/website/static/docs/en/html/classfasttext_1_1Matrix-members.html  \n",
            "  inflating: fastText-0.9.2/website/static/docs/en/html/classfasttext_1_1Matrix.html  \n",
            "  inflating: fastText-0.9.2/website/static/docs/en/html/classfasttext_1_1Matrix.js  \n",
            "  inflating: fastText-0.9.2/website/static/docs/en/html/classfasttext_1_1Model-members.html  \n",
            "  inflating: fastText-0.9.2/website/static/docs/en/html/classfasttext_1_1Model.html  \n",
            "  inflating: fastText-0.9.2/website/static/docs/en/html/classfasttext_1_1Model.js  \n",
            "  inflating: fastText-0.9.2/website/static/docs/en/html/classfasttext_1_1ProductQuantizer-members.html  \n",
            "  inflating: fastText-0.9.2/website/static/docs/en/html/classfasttext_1_1ProductQuantizer.html  \n",
            "  inflating: fastText-0.9.2/website/static/docs/en/html/classfasttext_1_1ProductQuantizer.js  \n",
            "  inflating: fastText-0.9.2/website/static/docs/en/html/classfasttext_1_1QMatrix-members.html  \n",
            "  inflating: fastText-0.9.2/website/static/docs/en/html/classfasttext_1_1QMatrix.html  \n",
            "  inflating: fastText-0.9.2/website/static/docs/en/html/classfasttext_1_1QMatrix.js  \n",
            "  inflating: fastText-0.9.2/website/static/docs/en/html/classfasttext_1_1Vector-members.html  \n",
            "  inflating: fastText-0.9.2/website/static/docs/en/html/classfasttext_1_1Vector.html  \n",
            "  inflating: fastText-0.9.2/website/static/docs/en/html/classfasttext_1_1Vector.js  \n",
            "  inflating: fastText-0.9.2/website/static/docs/en/html/closed.png  \n",
            "  inflating: fastText-0.9.2/website/static/docs/en/html/dictionary_8cc.html  \n",
            "  inflating: fastText-0.9.2/website/static/docs/en/html/dictionary_8h.html  \n",
            "  inflating: fastText-0.9.2/website/static/docs/en/html/dictionary_8h.js  \n",
            "  inflating: fastText-0.9.2/website/static/docs/en/html/dictionary_8h_source.html  \n",
            "  inflating: fastText-0.9.2/website/static/docs/en/html/dir_68267d1309a1af8e8297ef4c3efbcdba.html  \n",
            "  inflating: fastText-0.9.2/website/static/docs/en/html/dir_68267d1309a1af8e8297ef4c3efbcdba.js  \n",
            " extracting: fastText-0.9.2/website/static/docs/en/html/doc.png  \n",
            "  inflating: fastText-0.9.2/website/static/docs/en/html/doxygen.css  \n",
            " extracting: fastText-0.9.2/website/static/docs/en/html/doxygen.png  \n",
            "  inflating: fastText-0.9.2/website/static/docs/en/html/dynsections.js  \n",
            "  inflating: fastText-0.9.2/website/static/docs/en/html/fasttext_8cc.html  \n",
            "  inflating: fastText-0.9.2/website/static/docs/en/html/fasttext_8h.html  \n",
            "  inflating: fastText-0.9.2/website/static/docs/en/html/fasttext_8h.js  \n",
            "  inflating: fastText-0.9.2/website/static/docs/en/html/fasttext_8h_source.html  \n",
            "  inflating: fastText-0.9.2/website/static/docs/en/html/favicon.png  \n",
            "  inflating: fastText-0.9.2/website/static/docs/en/html/files.html  \n",
            "  inflating: fastText-0.9.2/website/static/docs/en/html/files.js  \n",
            " extracting: fastText-0.9.2/website/static/docs/en/html/folderclosed.png  \n",
            " extracting: fastText-0.9.2/website/static/docs/en/html/folderopen.png  \n",
            "  inflating: fastText-0.9.2/website/static/docs/en/html/functions.html  \n",
            "  inflating: fastText-0.9.2/website/static/docs/en/html/functions_0x7e.html  \n",
            "  inflating: fastText-0.9.2/website/static/docs/en/html/functions_b.html  \n",
            "  inflating: fastText-0.9.2/website/static/docs/en/html/functions_c.html  \n",
            "  inflating: fastText-0.9.2/website/static/docs/en/html/functions_d.html  \n",
            "  inflating: fastText-0.9.2/website/static/docs/en/html/functions_dup.js  \n",
            "  inflating: fastText-0.9.2/website/static/docs/en/html/functions_e.html  \n",
            "  inflating: fastText-0.9.2/website/static/docs/en/html/functions_f.html  \n",
            "  inflating: fastText-0.9.2/website/static/docs/en/html/functions_func.html  \n",
            "  inflating: fastText-0.9.2/website/static/docs/en/html/functions_g.html  \n",
            "  inflating: fastText-0.9.2/website/static/docs/en/html/functions_h.html  \n",
            "  inflating: fastText-0.9.2/website/static/docs/en/html/functions_i.html  \n",
            "  inflating: fastText-0.9.2/website/static/docs/en/html/functions_k.html  \n",
            "  inflating: fastText-0.9.2/website/static/docs/en/html/functions_l.html  \n",
            "  inflating: fastText-0.9.2/website/static/docs/en/html/functions_m.html  \n",
            "  inflating: fastText-0.9.2/website/static/docs/en/html/functions_n.html  \n",
            "  inflating: fastText-0.9.2/website/static/docs/en/html/functions_o.html  \n",
            "  inflating: fastText-0.9.2/website/static/docs/en/html/functions_p.html  \n",
            "  inflating: fastText-0.9.2/website/static/docs/en/html/functions_q.html  \n",
            "  inflating: fastText-0.9.2/website/static/docs/en/html/functions_r.html  \n",
            "  inflating: fastText-0.9.2/website/static/docs/en/html/functions_s.html  \n",
            "  inflating: fastText-0.9.2/website/static/docs/en/html/functions_t.html  \n",
            "  inflating: fastText-0.9.2/website/static/docs/en/html/functions_u.html  \n",
            "  inflating: fastText-0.9.2/website/static/docs/en/html/functions_v.html  \n",
            "  inflating: fastText-0.9.2/website/static/docs/en/html/functions_vars.html  \n",
            "  inflating: fastText-0.9.2/website/static/docs/en/html/functions_w.html  \n",
            "  inflating: fastText-0.9.2/website/static/docs/en/html/functions_z.html  \n",
            "  inflating: fastText-0.9.2/website/static/docs/en/html/globals.html  \n",
            "  inflating: fastText-0.9.2/website/static/docs/en/html/globals_defs.html  \n",
            "  inflating: fastText-0.9.2/website/static/docs/en/html/globals_func.html  \n",
            "  inflating: fastText-0.9.2/website/static/docs/en/html/index.html  \n",
            "  inflating: fastText-0.9.2/website/static/docs/en/html/jquery.js  \n",
            "  inflating: fastText-0.9.2/website/static/docs/en/html/main_8cc.html  \n",
            "  inflating: fastText-0.9.2/website/static/docs/en/html/main_8cc.js  \n",
            "  inflating: fastText-0.9.2/website/static/docs/en/html/matrix_8cc.html  \n",
            "  inflating: fastText-0.9.2/website/static/docs/en/html/matrix_8h.html  \n",
            "  inflating: fastText-0.9.2/website/static/docs/en/html/matrix_8h_source.html  \n",
            "  inflating: fastText-0.9.2/website/static/docs/en/html/menu.js  \n",
            "  inflating: fastText-0.9.2/website/static/docs/en/html/menudata.js  \n",
            "  inflating: fastText-0.9.2/website/static/docs/en/html/model_8cc.html  \n",
            "  inflating: fastText-0.9.2/website/static/docs/en/html/model_8h.html  \n",
            "  inflating: fastText-0.9.2/website/static/docs/en/html/model_8h.js  \n",
            "  inflating: fastText-0.9.2/website/static/docs/en/html/model_8h_source.html  \n",
            "  inflating: fastText-0.9.2/website/static/docs/en/html/namespacefasttext.html  \n",
            "  inflating: fastText-0.9.2/website/static/docs/en/html/namespacefasttext.js  \n",
            "  inflating: fastText-0.9.2/website/static/docs/en/html/namespacefasttext_1_1utils.html  \n",
            "  inflating: fastText-0.9.2/website/static/docs/en/html/namespacemembers.html  \n",
            "  inflating: fastText-0.9.2/website/static/docs/en/html/namespacemembers_enum.html  \n",
            "  inflating: fastText-0.9.2/website/static/docs/en/html/namespacemembers_func.html  \n",
            "  inflating: fastText-0.9.2/website/static/docs/en/html/namespacemembers_type.html  \n",
            "  inflating: fastText-0.9.2/website/static/docs/en/html/namespaces.html  \n",
            "  inflating: fastText-0.9.2/website/static/docs/en/html/namespaces.js  \n",
            " extracting: fastText-0.9.2/website/static/docs/en/html/nav_f.png  \n",
            "  inflating: fastText-0.9.2/website/static/docs/en/html/nav_g.png  \n",
            "  inflating: fastText-0.9.2/website/static/docs/en/html/nav_h.png  \n",
            "  inflating: fastText-0.9.2/website/static/docs/en/html/navtree.css  \n",
            "  inflating: fastText-0.9.2/website/static/docs/en/html/navtree.js  \n",
            "  inflating: fastText-0.9.2/website/static/docs/en/html/navtreedata.js  \n",
            "  inflating: fastText-0.9.2/website/static/docs/en/html/navtreeindex0.js  \n",
            "  inflating: fastText-0.9.2/website/static/docs/en/html/navtreeindex1.js  \n",
            "  inflating: fastText-0.9.2/website/static/docs/en/html/open.png  \n",
            "  inflating: fastText-0.9.2/website/static/docs/en/html/productquantizer_8cc.html  \n",
            "  inflating: fastText-0.9.2/website/static/docs/en/html/productquantizer_8cc.js  \n",
            "  inflating: fastText-0.9.2/website/static/docs/en/html/productquantizer_8h.html  \n",
            "  inflating: fastText-0.9.2/website/static/docs/en/html/productquantizer_8h_source.html  \n",
            "  inflating: fastText-0.9.2/website/static/docs/en/html/qmatrix_8cc.html  \n",
            "  inflating: fastText-0.9.2/website/static/docs/en/html/qmatrix_8h.html  \n",
            "  inflating: fastText-0.9.2/website/static/docs/en/html/qmatrix_8h_source.html  \n",
            "  inflating: fastText-0.9.2/website/static/docs/en/html/real_8h.html  \n",
            "  inflating: fastText-0.9.2/website/static/docs/en/html/real_8h.js  \n",
            "  inflating: fastText-0.9.2/website/static/docs/en/html/real_8h_source.html  \n",
            "  inflating: fastText-0.9.2/website/static/docs/en/html/resize.js  \n",
            "   creating: fastText-0.9.2/website/static/docs/en/html/search/\n",
            " extracting: fastText-0.9.2/website/static/docs/en/html/search/.files_7.html.StRRNc  \n",
            " extracting: fastText-0.9.2/website/static/docs/en/html/search/.variables_a.html.1MGQ27  \n",
            "  inflating: fastText-0.9.2/website/static/docs/en/html/search/all_0.html  \n",
            "  inflating: fastText-0.9.2/website/static/docs/en/html/search/all_0.js  \n",
            "  inflating: fastText-0.9.2/website/static/docs/en/html/search/all_1.html  \n",
            "  inflating: fastText-0.9.2/website/static/docs/en/html/search/all_1.js  \n",
            "  inflating: fastText-0.9.2/website/static/docs/en/html/search/all_10.html  \n",
            "  inflating: fastText-0.9.2/website/static/docs/en/html/search/all_10.js  \n",
            "  inflating: fastText-0.9.2/website/static/docs/en/html/search/all_11.html  \n",
            "  inflating: fastText-0.9.2/website/static/docs/en/html/search/all_11.js  \n",
            "  inflating: fastText-0.9.2/website/static/docs/en/html/search/all_12.html  \n",
            "  inflating: fastText-0.9.2/website/static/docs/en/html/search/all_12.js  \n",
            "  inflating: fastText-0.9.2/website/static/docs/en/html/search/all_13.html  \n",
            "  inflating: fastText-0.9.2/website/static/docs/en/html/search/all_13.js  \n",
            "  inflating: fastText-0.9.2/website/static/docs/en/html/search/all_14.html  \n",
            "  inflating: fastText-0.9.2/website/static/docs/en/html/search/all_14.js  \n",
            "  inflating: fastText-0.9.2/website/static/docs/en/html/search/all_15.html  \n",
            "  inflating: fastText-0.9.2/website/static/docs/en/html/search/all_15.js  \n",
            "  inflating: fastText-0.9.2/website/static/docs/en/html/search/all_16.html  \n",
            "  inflating: fastText-0.9.2/website/static/docs/en/html/search/all_16.js  \n",
            "  inflating: fastText-0.9.2/website/static/docs/en/html/search/all_17.html  \n",
            "  inflating: fastText-0.9.2/website/static/docs/en/html/search/all_17.js  \n",
            "  inflating: fastText-0.9.2/website/static/docs/en/html/search/all_2.html  \n",
            "  inflating: fastText-0.9.2/website/static/docs/en/html/search/all_2.js  \n",
            "  inflating: fastText-0.9.2/website/static/docs/en/html/search/all_3.html  \n",
            "  inflating: fastText-0.9.2/website/static/docs/en/html/search/all_3.js  \n",
            "  inflating: fastText-0.9.2/website/static/docs/en/html/search/all_4.html  \n",
            "  inflating: fastText-0.9.2/website/static/docs/en/html/search/all_4.js  \n",
            "  inflating: fastText-0.9.2/website/static/docs/en/html/search/all_5.html  \n",
            "  inflating: fastText-0.9.2/website/static/docs/en/html/search/all_5.js  \n",
            "  inflating: fastText-0.9.2/website/static/docs/en/html/search/all_6.html  \n",
            "  inflating: fastText-0.9.2/website/static/docs/en/html/search/all_6.js  \n",
            "  inflating: fastText-0.9.2/website/static/docs/en/html/search/all_7.html  \n",
            "  inflating: fastText-0.9.2/website/static/docs/en/html/search/all_7.js  \n",
            "  inflating: fastText-0.9.2/website/static/docs/en/html/search/all_8.html  \n",
            "  inflating: fastText-0.9.2/website/static/docs/en/html/search/all_8.js  \n",
            "  inflating: fastText-0.9.2/website/static/docs/en/html/search/all_9.html  \n",
            "  inflating: fastText-0.9.2/website/static/docs/en/html/search/all_9.js  \n",
            "  inflating: fastText-0.9.2/website/static/docs/en/html/search/all_a.html  \n",
            "  inflating: fastText-0.9.2/website/static/docs/en/html/search/all_a.js  \n",
            "  inflating: fastText-0.9.2/website/static/docs/en/html/search/all_b.html  \n",
            "  inflating: fastText-0.9.2/website/static/docs/en/html/search/all_b.js  \n",
            "  inflating: fastText-0.9.2/website/static/docs/en/html/search/all_c.html  \n",
            "  inflating: fastText-0.9.2/website/static/docs/en/html/search/all_c.js  \n",
            "  inflating: fastText-0.9.2/website/static/docs/en/html/search/all_d.html  \n",
            "  inflating: fastText-0.9.2/website/static/docs/en/html/search/all_d.js  \n",
            "  inflating: fastText-0.9.2/website/static/docs/en/html/search/all_e.html  \n",
            "  inflating: fastText-0.9.2/website/static/docs/en/html/search/all_e.js  \n",
            "  inflating: fastText-0.9.2/website/static/docs/en/html/search/all_f.html  \n",
            "  inflating: fastText-0.9.2/website/static/docs/en/html/search/all_f.js  \n",
            "  inflating: fastText-0.9.2/website/static/docs/en/html/search/classes_0.html  \n",
            "  inflating: fastText-0.9.2/website/static/docs/en/html/search/classes_0.js  \n",
            "  inflating: fastText-0.9.2/website/static/docs/en/html/search/classes_1.html  \n",
            "  inflating: fastText-0.9.2/website/static/docs/en/html/search/classes_1.js  \n",
            "  inflating: fastText-0.9.2/website/static/docs/en/html/search/classes_2.html  \n",
            "  inflating: fastText-0.9.2/website/static/docs/en/html/search/classes_2.js  \n",
            "  inflating: fastText-0.9.2/website/static/docs/en/html/search/classes_3.html  \n",
            "  inflating: fastText-0.9.2/website/static/docs/en/html/search/classes_3.js  \n",
            "  inflating: fastText-0.9.2/website/static/docs/en/html/search/classes_4.html  \n",
            "  inflating: fastText-0.9.2/website/static/docs/en/html/search/classes_4.js  \n",
            "  inflating: fastText-0.9.2/website/static/docs/en/html/search/classes_5.html  \n",
            "  inflating: fastText-0.9.2/website/static/docs/en/html/search/classes_5.js  \n",
            "  inflating: fastText-0.9.2/website/static/docs/en/html/search/classes_6.html  \n",
            "  inflating: fastText-0.9.2/website/static/docs/en/html/search/classes_6.js  \n",
            "  inflating: fastText-0.9.2/website/static/docs/en/html/search/classes_7.html  \n",
            "  inflating: fastText-0.9.2/website/static/docs/en/html/search/classes_7.js  \n",
            "  inflating: fastText-0.9.2/website/static/docs/en/html/search/classes_8.html  \n",
            "  inflating: fastText-0.9.2/website/static/docs/en/html/search/classes_8.js  \n",
            " extracting: fastText-0.9.2/website/static/docs/en/html/search/close.png  \n",
            "  inflating: fastText-0.9.2/website/static/docs/en/html/search/defines_0.html  \n",
            "  inflating: fastText-0.9.2/website/static/docs/en/html/search/defines_0.js  \n",
            "  inflating: fastText-0.9.2/website/static/docs/en/html/search/defines_1.html  \n",
            "  inflating: fastText-0.9.2/website/static/docs/en/html/search/defines_1.js  \n",
            "  inflating: fastText-0.9.2/website/static/docs/en/html/search/defines_2.html  \n",
            "  inflating: fastText-0.9.2/website/static/docs/en/html/search/defines_2.js  \n",
            "  inflating: fastText-0.9.2/website/static/docs/en/html/search/defines_3.html  \n",
            "  inflating: fastText-0.9.2/website/static/docs/en/html/search/defines_3.js  \n",
            "  inflating: fastText-0.9.2/website/static/docs/en/html/search/enums_0.html  \n",
            "  inflating: fastText-0.9.2/website/static/docs/en/html/search/enums_0.js  \n",
            "  inflating: fastText-0.9.2/website/static/docs/en/html/search/enums_1.html  \n",
            "  inflating: fastText-0.9.2/website/static/docs/en/html/search/enums_1.js  \n",
            "  inflating: fastText-0.9.2/website/static/docs/en/html/search/enums_2.html  \n",
            "  inflating: fastText-0.9.2/website/static/docs/en/html/search/enums_2.js  \n",
            "  inflating: fastText-0.9.2/website/static/docs/en/html/search/enumvalues_0.html  \n",
            "  inflating: fastText-0.9.2/website/static/docs/en/html/search/enumvalues_0.js  \n",
            "  inflating: fastText-0.9.2/website/static/docs/en/html/search/enumvalues_1.html  \n",
            "  inflating: fastText-0.9.2/website/static/docs/en/html/search/enumvalues_1.js  \n",
            "  inflating: fastText-0.9.2/website/static/docs/en/html/search/enumvalues_2.html  \n",
            "  inflating: fastText-0.9.2/website/static/docs/en/html/search/enumvalues_2.js  \n",
            "  inflating: fastText-0.9.2/website/static/docs/en/html/search/enumvalues_3.html  \n",
            "  inflating: fastText-0.9.2/website/static/docs/en/html/search/enumvalues_3.js  \n",
            "  inflating: fastText-0.9.2/website/static/docs/en/html/search/enumvalues_4.html  \n",
            "  inflating: fastText-0.9.2/website/static/docs/en/html/search/enumvalues_4.js  \n",
            "  inflating: fastText-0.9.2/website/static/docs/en/html/search/enumvalues_5.html  \n",
            "  inflating: fastText-0.9.2/website/static/docs/en/html/search/enumvalues_5.js  \n",
            "  inflating: fastText-0.9.2/website/static/docs/en/html/search/files_0.html  \n",
            "  inflating: fastText-0.9.2/website/static/docs/en/html/search/files_0.js  \n",
            "  inflating: fastText-0.9.2/website/static/docs/en/html/search/files_1.html  \n",
            "  inflating: fastText-0.9.2/website/static/docs/en/html/search/files_1.js  \n",
            "  inflating: fastText-0.9.2/website/static/docs/en/html/search/files_2.html  \n",
            "  inflating: fastText-0.9.2/website/static/docs/en/html/search/files_2.js  \n",
            "  inflating: fastText-0.9.2/website/static/docs/en/html/search/files_3.html  \n",
            "  inflating: fastText-0.9.2/website/static/docs/en/html/search/files_3.js  \n",
            "  inflating: fastText-0.9.2/website/static/docs/en/html/search/files_4.html  \n",
            "  inflating: fastText-0.9.2/website/static/docs/en/html/search/files_4.js  \n",
            "  inflating: fastText-0.9.2/website/static/docs/en/html/search/files_5.html  \n",
            "  inflating: fastText-0.9.2/website/static/docs/en/html/search/files_5.js  \n",
            "  inflating: fastText-0.9.2/website/static/docs/en/html/search/files_6.html  \n",
            "  inflating: fastText-0.9.2/website/static/docs/en/html/search/files_6.js  \n",
            "  inflating: fastText-0.9.2/website/static/docs/en/html/search/files_7.html  \n",
            "  inflating: fastText-0.9.2/website/static/docs/en/html/search/files_7.js  \n",
            "  inflating: fastText-0.9.2/website/static/docs/en/html/search/files_8.html  \n",
            "  inflating: fastText-0.9.2/website/static/docs/en/html/search/files_8.js  \n",
            "  inflating: fastText-0.9.2/website/static/docs/en/html/search/functions_0.html  \n",
            "  inflating: fastText-0.9.2/website/static/docs/en/html/search/functions_0.js  \n",
            "  inflating: fastText-0.9.2/website/static/docs/en/html/search/functions_1.html  \n",
            "  inflating: fastText-0.9.2/website/static/docs/en/html/search/functions_1.js  \n",
            "  inflating: fastText-0.9.2/website/static/docs/en/html/search/functions_10.html  \n",
            "  inflating: fastText-0.9.2/website/static/docs/en/html/search/functions_10.js  \n",
            "  inflating: fastText-0.9.2/website/static/docs/en/html/search/functions_11.html  \n",
            "  inflating: fastText-0.9.2/website/static/docs/en/html/search/functions_11.js  \n",
            "  inflating: fastText-0.9.2/website/static/docs/en/html/search/functions_12.html  \n",
            "  inflating: fastText-0.9.2/website/static/docs/en/html/search/functions_12.js  \n",
            "  inflating: fastText-0.9.2/website/static/docs/en/html/search/functions_13.html  \n",
            "  inflating: fastText-0.9.2/website/static/docs/en/html/search/functions_13.js  \n",
            "  inflating: fastText-0.9.2/website/static/docs/en/html/search/functions_14.html  \n",
            "  inflating: fastText-0.9.2/website/static/docs/en/html/search/functions_14.js  \n",
            "  inflating: fastText-0.9.2/website/static/docs/en/html/search/functions_15.html  \n",
            "  inflating: fastText-0.9.2/website/static/docs/en/html/search/functions_15.js  \n",
            "  inflating: fastText-0.9.2/website/static/docs/en/html/search/functions_16.html  \n",
            "  inflating: fastText-0.9.2/website/static/docs/en/html/search/functions_16.js  \n",
            "  inflating: fastText-0.9.2/website/static/docs/en/html/search/functions_17.html  \n",
            "  inflating: fastText-0.9.2/website/static/docs/en/html/search/functions_17.js  \n",
            "  inflating: fastText-0.9.2/website/static/docs/en/html/search/functions_2.html  \n",
            "  inflating: fastText-0.9.2/website/static/docs/en/html/search/functions_2.js  \n",
            "  inflating: fastText-0.9.2/website/static/docs/en/html/search/functions_3.html  \n",
            "  inflating: fastText-0.9.2/website/static/docs/en/html/search/functions_3.js  \n",
            "  inflating: fastText-0.9.2/website/static/docs/en/html/search/functions_4.html  \n",
            "  inflating: fastText-0.9.2/website/static/docs/en/html/search/functions_4.js  \n",
            "  inflating: fastText-0.9.2/website/static/docs/en/html/search/functions_5.html  \n",
            "  inflating: fastText-0.9.2/website/static/docs/en/html/search/functions_5.js  \n",
            "  inflating: fastText-0.9.2/website/static/docs/en/html/search/functions_6.html  \n",
            "  inflating: fastText-0.9.2/website/static/docs/en/html/search/functions_6.js  \n",
            "  inflating: fastText-0.9.2/website/static/docs/en/html/search/functions_7.html  \n",
            "  inflating: fastText-0.9.2/website/static/docs/en/html/search/functions_7.js  \n",
            "  inflating: fastText-0.9.2/website/static/docs/en/html/search/functions_8.html  \n",
            "  inflating: fastText-0.9.2/website/static/docs/en/html/search/functions_8.js  \n",
            "  inflating: fastText-0.9.2/website/static/docs/en/html/search/functions_9.html  \n",
            "  inflating: fastText-0.9.2/website/static/docs/en/html/search/functions_9.js  \n",
            "  inflating: fastText-0.9.2/website/static/docs/en/html/search/functions_a.html  \n",
            "  inflating: fastText-0.9.2/website/static/docs/en/html/search/functions_a.js  \n",
            "  inflating: fastText-0.9.2/website/static/docs/en/html/search/functions_b.html  \n",
            "  inflating: fastText-0.9.2/website/static/docs/en/html/search/functions_b.js  \n",
            "  inflating: fastText-0.9.2/website/static/docs/en/html/search/functions_c.html  \n",
            "  inflating: fastText-0.9.2/website/static/docs/en/html/search/functions_c.js  \n",
            "  inflating: fastText-0.9.2/website/static/docs/en/html/search/functions_d.html  \n",
            "  inflating: fastText-0.9.2/website/static/docs/en/html/search/functions_d.js  \n",
            "  inflating: fastText-0.9.2/website/static/docs/en/html/search/functions_e.html  \n",
            "  inflating: fastText-0.9.2/website/static/docs/en/html/search/functions_e.js  \n",
            "  inflating: fastText-0.9.2/website/static/docs/en/html/search/functions_f.html  \n",
            "  inflating: fastText-0.9.2/website/static/docs/en/html/search/functions_f.js  \n",
            " extracting: fastText-0.9.2/website/static/docs/en/html/search/mag_sel.png  \n",
            "  inflating: fastText-0.9.2/website/static/docs/en/html/search/namespaces_0.html  \n",
            "  inflating: fastText-0.9.2/website/static/docs/en/html/search/namespaces_0.js  \n",
            "  inflating: fastText-0.9.2/website/static/docs/en/html/search/nomatches.html  \n",
            "  inflating: fastText-0.9.2/website/static/docs/en/html/search/search.css  \n",
            "  inflating: fastText-0.9.2/website/static/docs/en/html/search/search.js  \n",
            " extracting: fastText-0.9.2/website/static/docs/en/html/search/search_l.png  \n",
            "  inflating: fastText-0.9.2/website/static/docs/en/html/search/search_m.png  \n",
            " extracting: fastText-0.9.2/website/static/docs/en/html/search/search_r.png  \n",
            "  inflating: fastText-0.9.2/website/static/docs/en/html/search/searchdata.js  \n",
            "  inflating: fastText-0.9.2/website/static/docs/en/html/search/typedefs_0.html  \n",
            "  inflating: fastText-0.9.2/website/static/docs/en/html/search/typedefs_0.js  \n",
            "  inflating: fastText-0.9.2/website/static/docs/en/html/search/typedefs_1.html  \n",
            "  inflating: fastText-0.9.2/website/static/docs/en/html/search/typedefs_1.js  \n",
            "  inflating: fastText-0.9.2/website/static/docs/en/html/search/variables_0.html  \n",
            "  inflating: fastText-0.9.2/website/static/docs/en/html/search/variables_0.js  \n",
            "  inflating: fastText-0.9.2/website/static/docs/en/html/search/variables_1.html  \n",
            "  inflating: fastText-0.9.2/website/static/docs/en/html/search/variables_1.js  \n",
            "  inflating: fastText-0.9.2/website/static/docs/en/html/search/variables_10.html  \n",
            "  inflating: fastText-0.9.2/website/static/docs/en/html/search/variables_10.js  \n",
            "  inflating: fastText-0.9.2/website/static/docs/en/html/search/variables_11.html  \n",
            "  inflating: fastText-0.9.2/website/static/docs/en/html/search/variables_11.js  \n",
            "  inflating: fastText-0.9.2/website/static/docs/en/html/search/variables_12.html  \n",
            "  inflating: fastText-0.9.2/website/static/docs/en/html/search/variables_12.js  \n",
            "  inflating: fastText-0.9.2/website/static/docs/en/html/search/variables_13.html  \n",
            "  inflating: fastText-0.9.2/website/static/docs/en/html/search/variables_13.js  \n",
            "  inflating: fastText-0.9.2/website/static/docs/en/html/search/variables_2.html  \n",
            "  inflating: fastText-0.9.2/website/static/docs/en/html/search/variables_2.js  \n",
            "  inflating: fastText-0.9.2/website/static/docs/en/html/search/variables_3.html  \n",
            "  inflating: fastText-0.9.2/website/static/docs/en/html/search/variables_3.js  \n",
            "  inflating: fastText-0.9.2/website/static/docs/en/html/search/variables_4.html  \n",
            "  inflating: fastText-0.9.2/website/static/docs/en/html/search/variables_4.js  \n",
            "  inflating: fastText-0.9.2/website/static/docs/en/html/search/variables_5.html  \n",
            "  inflating: fastText-0.9.2/website/static/docs/en/html/search/variables_5.js  \n",
            "  inflating: fastText-0.9.2/website/static/docs/en/html/search/variables_6.html  \n",
            "  inflating: fastText-0.9.2/website/static/docs/en/html/search/variables_6.js  \n",
            "  inflating: fastText-0.9.2/website/static/docs/en/html/search/variables_7.html  \n",
            "  inflating: fastText-0.9.2/website/static/docs/en/html/search/variables_7.js  \n",
            "  inflating: fastText-0.9.2/website/static/docs/en/html/search/variables_8.html  \n",
            "  inflating: fastText-0.9.2/website/static/docs/en/html/search/variables_8.js  \n",
            "  inflating: fastText-0.9.2/website/static/docs/en/html/search/variables_9.html  \n",
            "  inflating: fastText-0.9.2/website/static/docs/en/html/search/variables_9.js  \n",
            "  inflating: fastText-0.9.2/website/static/docs/en/html/search/variables_a.html  \n",
            "  inflating: fastText-0.9.2/website/static/docs/en/html/search/variables_a.js  \n",
            "  inflating: fastText-0.9.2/website/static/docs/en/html/search/variables_b.html  \n",
            "  inflating: fastText-0.9.2/website/static/docs/en/html/search/variables_b.js  \n",
            "  inflating: fastText-0.9.2/website/static/docs/en/html/search/variables_c.html  \n",
            "  inflating: fastText-0.9.2/website/static/docs/en/html/search/variables_c.js  \n",
            "  inflating: fastText-0.9.2/website/static/docs/en/html/search/variables_d.html  \n",
            "  inflating: fastText-0.9.2/website/static/docs/en/html/search/variables_d.js  \n",
            "  inflating: fastText-0.9.2/website/static/docs/en/html/search/variables_e.html  \n",
            "  inflating: fastText-0.9.2/website/static/docs/en/html/search/variables_e.js  \n",
            "  inflating: fastText-0.9.2/website/static/docs/en/html/search/variables_f.html  \n",
            "  inflating: fastText-0.9.2/website/static/docs/en/html/search/variables_f.js  \n",
            "  inflating: fastText-0.9.2/website/static/docs/en/html/splitbar.png  \n",
            "  inflating: fastText-0.9.2/website/static/docs/en/html/structfasttext_1_1Node-members.html  \n",
            "  inflating: fastText-0.9.2/website/static/docs/en/html/structfasttext_1_1Node.html  \n",
            "  inflating: fastText-0.9.2/website/static/docs/en/html/structfasttext_1_1Node.js  \n",
            "  inflating: fastText-0.9.2/website/static/docs/en/html/structfasttext_1_1entry-members.html  \n",
            "  inflating: fastText-0.9.2/website/static/docs/en/html/structfasttext_1_1entry.html  \n",
            "  inflating: fastText-0.9.2/website/static/docs/en/html/structfasttext_1_1entry.js  \n",
            " extracting: fastText-0.9.2/website/static/docs/en/html/sync_off.png  \n",
            " extracting: fastText-0.9.2/website/static/docs/en/html/sync_on.png  \n",
            " extracting: fastText-0.9.2/website/static/docs/en/html/tab_a.png  \n",
            " extracting: fastText-0.9.2/website/static/docs/en/html/tab_b.png  \n",
            " extracting: fastText-0.9.2/website/static/docs/en/html/tab_h.png  \n",
            " extracting: fastText-0.9.2/website/static/docs/en/html/tab_s.png  \n",
            "  inflating: fastText-0.9.2/website/static/docs/en/html/tabs.css  \n",
            "  inflating: fastText-0.9.2/website/static/docs/en/html/utils_8cc.html  \n",
            "  inflating: fastText-0.9.2/website/static/docs/en/html/utils_8cc.js  \n",
            "  inflating: fastText-0.9.2/website/static/docs/en/html/utils_8h.html  \n",
            "  inflating: fastText-0.9.2/website/static/docs/en/html/utils_8h.js  \n",
            "  inflating: fastText-0.9.2/website/static/docs/en/html/utils_8h_source.html  \n",
            "  inflating: fastText-0.9.2/website/static/docs/en/html/vector_8cc.html  \n",
            "  inflating: fastText-0.9.2/website/static/docs/en/html/vector_8cc.js  \n",
            "  inflating: fastText-0.9.2/website/static/docs/en/html/vector_8h.html  \n",
            "  inflating: fastText-0.9.2/website/static/docs/en/html/vector_8h.js  \n",
            "  inflating: fastText-0.9.2/website/static/docs/en/html/vector_8h_source.html  \n",
            "  inflating: fastText-0.9.2/website/static/fasttext.css  \n",
            "   creating: fastText-0.9.2/website/static/img/\n",
            "   creating: fastText-0.9.2/website/static/img/authors/\n",
            "  inflating: fastText-0.9.2/website/static/img/authors/armand_joulin.jpg  \n",
            "  inflating: fastText-0.9.2/website/static/img/authors/christian_puhrsch.png  \n",
            "  inflating: fastText-0.9.2/website/static/img/authors/edouard_grave.jpeg  \n",
            "  inflating: fastText-0.9.2/website/static/img/authors/piotr_bojanowski.jpg  \n",
            "  inflating: fastText-0.9.2/website/static/img/authors/tomas_mikolov.jpg  \n",
            "   creating: fastText-0.9.2/website/static/img/blog/\n",
            "  inflating: fastText-0.9.2/website/static/img/blog/2016-08-18-blog-post-img1.png  \n",
            "  inflating: fastText-0.9.2/website/static/img/blog/2016-08-18-blog-post-img2.png  \n",
            "  inflating: fastText-0.9.2/website/static/img/blog/2017-05-02-blog-post-img1.jpg  \n",
            "  inflating: fastText-0.9.2/website/static/img/blog/2017-05-02-blog-post-img2.jpg  \n",
            "  inflating: fastText-0.9.2/website/static/img/blog/2017-10-02-blog-post-img1.png  \n",
            "  inflating: fastText-0.9.2/website/static/img/cbo_vs_skipgram.png  \n",
            "  inflating: fastText-0.9.2/website/static/img/fasttext-icon-api.png  \n",
            "  inflating: fastText-0.9.2/website/static/img/fasttext-icon-bg-web.png  \n",
            "  inflating: fastText-0.9.2/website/static/img/fasttext-icon-color-square.png  \n",
            "  inflating: fastText-0.9.2/website/static/img/fasttext-icon-color-web.png  \n",
            "  inflating: fastText-0.9.2/website/static/img/fasttext-icon-faq.png  \n",
            "  inflating: fastText-0.9.2/website/static/img/fasttext-icon-tutorial.png  \n",
            "  inflating: fastText-0.9.2/website/static/img/fasttext-icon-white-web.png  \n",
            "  inflating: fastText-0.9.2/website/static/img/fasttext-logo-color-web.png  \n",
            "  inflating: fastText-0.9.2/website/static/img/fasttext-logo-white-web.png  \n",
            "  inflating: fastText-0.9.2/website/static/img/logo-color.png  \n",
            "  inflating: fastText-0.9.2/website/static/img/model-black.png  \n",
            "  inflating: fastText-0.9.2/website/static/img/model-blue.png  \n",
            "  inflating: fastText-0.9.2/website/static/img/model-red.png  \n",
            "  inflating: fastText-0.9.2/website/static/img/ogimage.png  \n",
            "  inflating: fastText-0.9.2/website/static/img/oss_logo.png  \n",
            "  inflating: fastText-0.9.2/website/static/tabber.js  \n",
            "  inflating: fastText-0.9.2/wikifil.pl  \n",
            "  inflating: fastText-0.9.2/word-vector-example.sh  \n"
          ]
        }
      ]
    },
    {
      "cell_type": "code",
      "metadata": {
        "colab": {
          "base_uri": "https://localhost:8080/"
        },
        "cellView": "form",
        "id": "pHu3wg2DCzqZ",
        "outputId": "4d1f8384-f863-4d81-e485-e419810c835f"
      },
      "source": [
        "#@title **Directorio FastText**\n",
        "\n",
        "%cd fastText-0.9.2\n",
        "# for command line tool :\n",
        "!make\n",
        "# for python bindings :\n",
        "!pip install ."
      ],
      "execution_count": null,
      "outputs": [
        {
          "output_type": "stream",
          "name": "stdout",
          "text": [
            "/content/fastText-0.9.2\n",
            "c++ -pthread -std=c++11 -march=native -O3 -funroll-loops -DNDEBUG -c src/args.cc\n",
            "c++ -pthread -std=c++11 -march=native -O3 -funroll-loops -DNDEBUG -c src/autotune.cc\n",
            "c++ -pthread -std=c++11 -march=native -O3 -funroll-loops -DNDEBUG -c src/matrix.cc\n",
            "c++ -pthread -std=c++11 -march=native -O3 -funroll-loops -DNDEBUG -c src/dictionary.cc\n",
            "c++ -pthread -std=c++11 -march=native -O3 -funroll-loops -DNDEBUG -c src/loss.cc\n",
            "c++ -pthread -std=c++11 -march=native -O3 -funroll-loops -DNDEBUG -c src/productquantizer.cc\n",
            "c++ -pthread -std=c++11 -march=native -O3 -funroll-loops -DNDEBUG -c src/densematrix.cc\n",
            "c++ -pthread -std=c++11 -march=native -O3 -funroll-loops -DNDEBUG -c src/quantmatrix.cc\n",
            "c++ -pthread -std=c++11 -march=native -O3 -funroll-loops -DNDEBUG -c src/vector.cc\n",
            "c++ -pthread -std=c++11 -march=native -O3 -funroll-loops -DNDEBUG -c src/model.cc\n",
            "c++ -pthread -std=c++11 -march=native -O3 -funroll-loops -DNDEBUG -c src/utils.cc\n",
            "c++ -pthread -std=c++11 -march=native -O3 -funroll-loops -DNDEBUG -c src/meter.cc\n",
            "c++ -pthread -std=c++11 -march=native -O3 -funroll-loops -DNDEBUG -c src/fasttext.cc\n",
            "c++ -pthread -std=c++11 -march=native -O3 -funroll-loops -DNDEBUG args.o autotune.o matrix.o dictionary.o loss.o productquantizer.o densematrix.o quantmatrix.o vector.o model.o utils.o meter.o fasttext.o src/main.cc -o fasttext\n",
            "Processing /content/fastText-0.9.2\n",
            "\u001b[33m  DEPRECATION: A future pip version will change local packages to be built in-place without first copying to a temporary directory. We recommend you use --use-feature=in-tree-build to test your packages with this new behavior before it becomes the default.\n",
            "   pip 21.3 will remove support for this functionality. You can find discussion regarding this at https://github.com/pypa/pip/issues/7555.\u001b[0m\n",
            "Collecting pybind11>=2.2\n",
            "  Using cached pybind11-2.8.1-py2.py3-none-any.whl (208 kB)\n",
            "Requirement already satisfied: setuptools>=0.7.0 in /usr/local/lib/python3.7/dist-packages (from fasttext==0.9.2) (57.4.0)\n",
            "Requirement already satisfied: numpy in /usr/local/lib/python3.7/dist-packages (from fasttext==0.9.2) (1.19.5)\n",
            "Building wheels for collected packages: fasttext\n",
            "  Building wheel for fasttext (setup.py) ... \u001b[?25l\u001b[?25hdone\n",
            "  Created wheel for fasttext: filename=fasttext-0.9.2-cp37-cp37m-linux_x86_64.whl size=3126035 sha256=6d1043767731506bfd04c20509dfcbce09074641c05df0d8114c9c0f0523ab8b\n",
            "  Stored in directory: /root/.cache/pip/wheels/87/b3/c9/4ae793bec22dc8570ea6defb4ebb24d699f12b8c954db5f44f\n",
            "Successfully built fasttext\n",
            "Installing collected packages: pybind11, fasttext\n",
            "Successfully installed fasttext-0.9.2 pybind11-2.8.1\n"
          ]
        }
      ]
    },
    {
      "cell_type": "code",
      "metadata": {
        "colab": {
          "base_uri": "https://localhost:8080/"
        },
        "id": "Wvy2Ju4JDkh4",
        "cellView": "form",
        "outputId": "8ea79121-9519-4375-bcda-41d9e08b3942"
      },
      "source": [
        "#@title **Obtener y Preparar los datos:**\n",
        "\n",
        "import fasttext\n",
        "\n",
        "!wget https://dl.fbaipublicfiles.com/fasttext/data/cooking.stackexchange.tar.gz && tar xvzf cooking.stackexchange.tar.gz\n",
        "!head cooking.stackexchange.txt"
      ],
      "execution_count": null,
      "outputs": [
        {
          "output_type": "stream",
          "name": "stdout",
          "text": [
            "--2021-11-29 04:58:35--  https://dl.fbaipublicfiles.com/fasttext/data/cooking.stackexchange.tar.gz\n",
            "Resolving dl.fbaipublicfiles.com (dl.fbaipublicfiles.com)... 104.22.75.142, 104.22.74.142, 172.67.9.4, ...\n",
            "Connecting to dl.fbaipublicfiles.com (dl.fbaipublicfiles.com)|104.22.75.142|:443... connected.\n",
            "HTTP request sent, awaiting response... 200 OK\n",
            "Length: 457609 (447K) [application/x-tar]\n",
            "Saving to: ‘cooking.stackexchange.tar.gz’\n",
            "\n",
            "cooking.stackexchan 100%[===================>] 446.88K  1.36MB/s    in 0.3s    \n",
            "\n",
            "2021-11-29 04:58:35 (1.36 MB/s) - ‘cooking.stackexchange.tar.gz’ saved [457609/457609]\n",
            "\n",
            "cooking.stackexchange.id\n",
            "cooking.stackexchange.txt\n",
            "readme.txt\n",
            "__label__sauce __label__cheese How much does potato starch affect a cheese sauce recipe?\n",
            "__label__food-safety __label__acidity Dangerous pathogens capable of growing in acidic environments\n",
            "__label__cast-iron __label__stove How do I cover up the white spots on my cast iron stove?\n",
            "__label__restaurant Michelin Three Star Restaurant; but if the chef is not there\n",
            "__label__knife-skills __label__dicing Without knife skills, how can I quickly and accurately dice vegetables?\n",
            "__label__storage-method __label__equipment __label__bread What's the purpose of a bread box?\n",
            "__label__baking __label__food-safety __label__substitutions __label__peanuts how to seperate peanut oil from roasted peanuts at home?\n",
            "__label__chocolate American equivalent for British chocolate terms\n",
            "__label__baking __label__oven __label__convection Fan bake vs bake\n",
            "__label__sauce __label__storage-lifetime __label__acidity __label__mayonnaise Regulation and balancing of readymade packed mayonnaise and other sauces\n"
          ]
        }
      ]
    },
    {
      "cell_type": "code",
      "metadata": {
        "colab": {
          "base_uri": "https://localhost:8080/"
        },
        "cellView": "form",
        "id": "2A5uOjvzD6D3",
        "outputId": "5e2012eb-1905-4f99-ecc4-726aafb06f6b"
      },
      "source": [
        "#@title **Conjunto de datos:**\n",
        "\n",
        "!wc cooking.stackexchange.txt"
      ],
      "execution_count": null,
      "outputs": [
        {
          "output_type": "stream",
          "name": "stdout",
          "text": [
            "  15404  169582 1401900 cooking.stackexchange.txt\n"
          ]
        }
      ]
    },
    {
      "cell_type": "code",
      "metadata": {
        "colab": {
          "base_uri": "https://localhost:8080/"
        },
        "cellView": "form",
        "id": "D-MckJuMEkUN",
        "outputId": "43236f94-6f7b-4fae-fe0e-6fc64512d268"
      },
      "source": [
        "#@title **Dividir los datos en entrenamiento y validación:**\n",
        "\n",
        "# Conjunto de datos = 15404 ejemplos. \n",
        "# Train = 12404 ejemplos. \n",
        "# Valid = 3000 ejemplos.\n",
        "\n",
        "!head -n 12404 cooking.stackexchange.txt > cooking.train\n",
        "!tail -n 3000 cooking.stackexchange.txt > cooking.valid"
      ],
      "execution_count": null,
      "outputs": [
        {
          "output_type": "stream",
          "name": "stdout",
          "text": [
            "\n"
          ]
        }
      ]
    },
    {
      "cell_type": "code",
      "metadata": {
        "colab": {
          "base_uri": "https://localhost:8080/"
        },
        "cellView": "form",
        "id": "yCS49Mm0FfjE",
        "outputId": "39ddf8cf-97dd-4338-953b-107a0b651934"
      },
      "source": [
        "#@title **Clasificador:**\n",
        "\n",
        "model = fasttext.train_supervised(input=\"cooking.train\")\n",
        "model.test(\"cooking.train\")\n",
        "\n",
        "# Datos, precision, recall"
      ],
      "execution_count": null,
      "outputs": [
        {
          "output_type": "execute_result",
          "data": {
            "text/plain": [
              "(12404, 0.1316510802966785, 0.05708991749405678)"
            ]
          },
          "metadata": {},
          "execution_count": 36
        }
      ]
    },
    {
      "cell_type": "code",
      "metadata": {
        "cellView": "form",
        "id": "F21jnRlCGGEF"
      },
      "source": [
        "#@title **Guardamos el modelo:**\n",
        "\n",
        "model.save_model(\"model_cooking.bin\")"
      ],
      "execution_count": null,
      "outputs": []
    },
    {
      "cell_type": "code",
      "metadata": {
        "colab": {
          "base_uri": "https://localhost:8080/"
        },
        "cellView": "form",
        "id": "i_Vd_LxFGMpK",
        "outputId": "532873d2-4672-459e-8785-b376f93e4bc4"
      },
      "source": [
        "#@title **Predicción Clasificador Ejemplo 1:**\n",
        "\n",
        "model.predict(\"Which baking dish is best to bake a banana bread?\")"
      ],
      "execution_count": null,
      "outputs": [
        {
          "output_type": "execute_result",
          "data": {
            "text/plain": [
              "(('__label__baking',), array([0.05949778]))"
            ]
          },
          "metadata": {},
          "execution_count": 32
        }
      ]
    },
    {
      "cell_type": "code",
      "metadata": {
        "colab": {
          "base_uri": "https://localhost:8080/"
        },
        "cellView": "form",
        "id": "0vkbPqTLGv-o",
        "outputId": "bb767bb0-a12d-4ab2-c226-701de24b1cd1"
      },
      "source": [
        "#@title **Predicción Clasificador Ejemplo 2:**\n",
        "\n",
        "model.predict(\"Why not put knives in the dishwasher?\")"
      ],
      "execution_count": null,
      "outputs": [
        {
          "output_type": "execute_result",
          "data": {
            "text/plain": [
              "(('__label__food-safety',), array([0.07451777]))"
            ]
          },
          "metadata": {},
          "execution_count": 33
        }
      ]
    },
    {
      "cell_type": "code",
      "metadata": {
        "colab": {
          "base_uri": "https://localhost:8080/"
        },
        "cellView": "form",
        "id": "9LgE0NyeHDa0",
        "outputId": "2e3f0123-e3d2-4558-8fb9-3331c3f588b9"
      },
      "source": [
        "#@title **Probando en los datos de validación:**\n",
        "\n",
        "model.test(\"cooking.valid\")\n",
        "\n",
        "# Datos, precision, recall"
      ],
      "execution_count": null,
      "outputs": [
        {
          "output_type": "execute_result",
          "data": {
            "text/plain": [
              "(3000, 0.135, 0.05838258613233386)"
            ]
          },
          "metadata": {},
          "execution_count": 34
        }
      ]
    },
    {
      "cell_type": "code",
      "metadata": {
        "colab": {
          "base_uri": "https://localhost:8080/"
        },
        "cellView": "form",
        "id": "jZ1T6RdLH0rJ",
        "outputId": "976a733d-6cfb-463d-8aaf-380e8c41fde0"
      },
      "source": [
        "#@title **Ajustar parametros de presicion y recall:**\n",
        "\n",
        "model.test(\"cooking.valid\", k=5)\n",
        "\n",
        "# Precision = Número de etiquetas correctas entre las etiquetas predichas por fastText.\n",
        "# Recall = Etiquetas que se predijeron con éxito, entre todas las etiquetas reales."
      ],
      "execution_count": null,
      "outputs": [
        {
          "output_type": "execute_result",
          "data": {
            "text/plain": [
              "(3000, 0.06606666666666666, 0.14285714285714285)"
            ]
          },
          "metadata": {},
          "execution_count": 37
        }
      ]
    },
    {
      "cell_type": "code",
      "metadata": {
        "colab": {
          "base_uri": "https://localhost:8080/"
        },
        "cellView": "form",
        "id": "j1I4zq66IfiF",
        "outputId": "2c2b6a33-92fb-415d-f5e1-cebe8b2d6fe0"
      },
      "source": [
        "#@title **Predicción Clasificador Ejemplo 3:**\n",
        "\n",
        "model.predict(\"Why not put knives in the dishwasher?\", k=5)"
      ],
      "execution_count": null,
      "outputs": [
        {
          "output_type": "execute_result",
          "data": {
            "text/plain": [
              "(('__label__food-safety',\n",
              "  '__label__baking',\n",
              "  '__label__bread',\n",
              "  '__label__substitutions',\n",
              "  '__label__equipment'),\n",
              " array([0.07451777, 0.07366108, 0.04390582, 0.0373    , 0.03408055]))"
            ]
          },
          "metadata": {},
          "execution_count": 38
        }
      ]
    },
    {
      "cell_type": "code",
      "metadata": {
        "cellView": "form",
        "id": "VdjoD_LZJPiR"
      },
      "source": [
        "#@title **Mejorando el modelo:**\n",
        "\n",
        "%cat cooking.stackexchange.txt | sed -e \"s/\\([.\\!?,'/()]\\)/ \\1 /g\" | tr \"[:upper:]\" \"[:lower:]\" > cooking.preprocessed.txt\n",
        "!head -n 12404 cooking.preprocessed.txt > cooking.train\n",
        "!tail -n 3000 cooking.preprocessed.txt > cooking.valid"
      ],
      "execution_count": null,
      "outputs": []
    },
    {
      "cell_type": "code",
      "metadata": {
        "colab": {
          "base_uri": "https://localhost:8080/"
        },
        "cellView": "form",
        "id": "aj6zYk_vJzLT",
        "outputId": "e4ed84b1-4cfb-4615-cdeb-6a326d0fdcc0"
      },
      "source": [
        "#@title **Entrenando modelo mejorado:**\n",
        "\n",
        "model = fasttext.train_supervised(input=\"cooking.train\", lr=0.5, epoch=25, wordNgrams=2, bucket=200000, dim=50, loss='ova')\n",
        "model.test(\"cooking.valid\")\n",
        "\n",
        "# Tasa de aprendizaje del algoritmo (lr).\n",
        "# wordNgrams = Un 'unigrama' es un token que puede ser por ejemplo, una palabra o una letra según el modelo.\n",
        "# loss = Softmax."
      ],
      "execution_count": null,
      "outputs": [
        {
          "output_type": "execute_result",
          "data": {
            "text/plain": [
              "(3000, 0.604, 0.2612080149920715)"
            ]
          },
          "metadata": {},
          "execution_count": 44
        }
      ]
    },
    {
      "cell_type": "code",
      "metadata": {
        "colab": {
          "base_uri": "https://localhost:8080/"
        },
        "id": "YFvQ8ZYqKOVS",
        "cellView": "form",
        "outputId": "a0c82210-ce54-4107-d6e4-0f8ecb30286b"
      },
      "source": [
        "#@title **Predicción Clasificador Ejemplo 4:**\n",
        "\n",
        "model.predict(\"Which baking dish is best to bake a banana bread?\", k=-1, threshold=0.5)"
      ],
      "execution_count": null,
      "outputs": [
        {
          "output_type": "execute_result",
          "data": {
            "text/plain": [
              "(('__label__baking',\n",
              "  '__label__equipment',\n",
              "  '__label__bread',\n",
              "  '__label__bananas'),\n",
              " array([1.00001001, 0.97967768, 0.97632056, 0.8872146 ]))"
            ]
          },
          "metadata": {},
          "execution_count": 45
        }
      ]
    },
    {
      "cell_type": "markdown",
      "metadata": {
        "id": "0mZwJRQDPLMU"
      },
      "source": [
        "# **Embeddings**"
      ]
    },
    {
      "cell_type": "code",
      "metadata": {
        "colab": {
          "base_uri": "https://localhost:8080/"
        },
        "id": "j9AxkYlxOaHh",
        "cellView": "form",
        "outputId": "a618336d-a9b0-44ab-87da-213e67417710"
      },
      "source": [
        "#@title **Incrustaciones de palabras:**\n",
        "\n",
        "from flair.embeddings import WordEmbeddings\n",
        "from flair.data import Sentence\n",
        "\n",
        "# init embedding\n",
        "glove_embedding = WordEmbeddings('glove')\n",
        "\n",
        "# Los vectores en el Natural Language Processing son elementos\n",
        "# matemáticos que poseen 2 características: longitud y orientación,\n",
        "# y están ubicados en planos multidimensionales. Esto significa que\n",
        "# un vector puede ser analizado tanto por lo que mide de largo como\n",
        "# por hacia donde está apuntando.\n",
        "\n",
        "# Los vectores que representan palabras con significados similares\n",
        "# se ubican más cerca entre sí, y el significado de cada palabra \n",
        "# viene dado por su respectivo entorno.\n",
        "\n",
        "# Al ser elementos matemáticos, los vectores pueden ser sometidos a \n",
        "# operaciones matemáticas como suma, resta, entre otras. Además, se \n",
        "# les puede modificar sus dimensiones y sus perspectivas."
      ],
      "execution_count": null,
      "outputs": [
        {
          "output_type": "stream",
          "name": "stdout",
          "text": [
            "2021-11-29 05:49:30,339 https://flair.informatik.hu-berlin.de/resources/embeddings/token/glove.gensim.vectors.npy not found in cache, downloading to /tmp/tmpt441z5zo\n"
          ]
        },
        {
          "output_type": "stream",
          "name": "stderr",
          "text": [
            "100%|██████████| 160000128/160000128 [00:06<00:00, 22972613.67B/s]"
          ]
        },
        {
          "output_type": "stream",
          "name": "stdout",
          "text": [
            "2021-11-29 05:49:37,651 copying /tmp/tmpt441z5zo to cache at /root/.flair/embeddings/glove.gensim.vectors.npy\n"
          ]
        },
        {
          "output_type": "stream",
          "name": "stderr",
          "text": [
            "\n"
          ]
        },
        {
          "output_type": "stream",
          "name": "stdout",
          "text": [
            "2021-11-29 05:49:38,232 removing temp file /tmp/tmpt441z5zo\n",
            "2021-11-29 05:49:38,811 https://flair.informatik.hu-berlin.de/resources/embeddings/token/glove.gensim not found in cache, downloading to /tmp/tmp91489gw_\n"
          ]
        },
        {
          "output_type": "stream",
          "name": "stderr",
          "text": [
            "100%|██████████| 21494764/21494764 [00:01<00:00, 11806072.68B/s]"
          ]
        },
        {
          "output_type": "stream",
          "name": "stdout",
          "text": [
            "2021-11-29 05:49:40,977 copying /tmp/tmp91489gw_ to cache at /root/.flair/embeddings/glove.gensim\n",
            "2021-11-29 05:49:41,010 removing temp file /tmp/tmp91489gw_\n"
          ]
        },
        {
          "output_type": "stream",
          "name": "stderr",
          "text": [
            "\n"
          ]
        }
      ]
    },
    {
      "cell_type": "code",
      "metadata": {
        "colab": {
          "base_uri": "https://localhost:8080/"
        },
        "id": "5sF1WVdsPgQo",
        "cellView": "form",
        "outputId": "ae564009-0e3e-426b-ebcb-ce6bd324629e"
      },
      "source": [
        "#@title **Token Embedding:**\n",
        "\n",
        "# Create sentence.\n",
        "sentence = Sentence('The grass is green.')\n",
        "\n",
        "# Embed a sentence using glove.\n",
        "glove_embedding.embed(sentence)\n",
        "\n",
        "# Now check out the embedded tokens.\n",
        "for token in sentence:\n",
        "    print()\n",
        "    print(token)\n",
        "    print()\n",
        "    print(token.embedding)\n",
        "\n",
        "# Vectores de PyTorch de dimensionalidad 100    "
      ],
      "execution_count": null,
      "outputs": [
        {
          "output_type": "stream",
          "name": "stdout",
          "text": [
            "\n",
            "Token: 1 The\n",
            "\n",
            "tensor([-0.0382, -0.2449,  0.7281, -0.3996,  0.0832,  0.0440, -0.3914,  0.3344,\n",
            "        -0.5755,  0.0875,  0.2879, -0.0673,  0.3091, -0.2638, -0.1323, -0.2076,\n",
            "         0.3340, -0.3385, -0.3174, -0.4834,  0.1464, -0.3730,  0.3458,  0.0520,\n",
            "         0.4495, -0.4697,  0.0263, -0.5415, -0.1552, -0.1411, -0.0397,  0.2828,\n",
            "         0.1439,  0.2346, -0.3102,  0.0862,  0.2040,  0.5262,  0.1716, -0.0824,\n",
            "        -0.7179, -0.4153,  0.2033, -0.1276,  0.4137,  0.5519,  0.5791, -0.3348,\n",
            "        -0.3656, -0.5486, -0.0629,  0.2658,  0.3020,  0.9977, -0.8048, -3.0243,\n",
            "         0.0125, -0.3694,  2.2167,  0.7220, -0.2498,  0.9214,  0.0345,  0.4674,\n",
            "         1.1079, -0.1936, -0.0746,  0.2335, -0.0521, -0.2204,  0.0572, -0.1581,\n",
            "        -0.3080, -0.4162,  0.3797,  0.1501, -0.5321, -0.2055, -1.2526,  0.0716,\n",
            "         0.7056,  0.4974, -0.4206,  0.2615, -1.5380, -0.3022, -0.0734, -0.2831,\n",
            "         0.3710, -0.2522,  0.0162, -0.0171, -0.3898,  0.8742, -0.7257, -0.5106,\n",
            "        -0.5203, -0.1459,  0.8278,  0.2706])\n",
            "\n",
            "Token: 2 grass\n",
            "\n",
            "tensor([-0.8135,  0.9404, -0.2405, -0.1350,  0.0557,  0.3363,  0.0802, -0.1015,\n",
            "        -0.5478, -0.3537,  0.0734,  0.2587,  0.1987, -0.1433,  0.2507,  0.4281,\n",
            "         0.1950,  0.5346,  0.7424,  0.0578, -0.3178,  0.9436,  0.8145, -0.0824,\n",
            "         0.6166,  0.7284, -0.3262, -1.3641,  0.1232,  0.5373, -0.5123,  0.0246,\n",
            "         1.0822, -0.2296,  0.6039,  0.5541, -0.9610,  0.4803,  0.0022,  0.5591,\n",
            "        -0.1637, -0.8468,  0.0741, -0.6216,  0.0260, -0.5162, -0.0525, -0.1418,\n",
            "        -0.0161, -0.4972, -0.5534, -0.4037,  0.5096,  1.0276, -0.0840, -1.1179,\n",
            "         0.3226,  0.4928,  0.9488,  0.2040,  0.5388,  0.8397, -0.0689,  0.3136,\n",
            "         1.0450, -0.2267, -0.0896, -0.6427,  0.6443, -1.1001, -0.0096,  0.2668,\n",
            "        -0.3230, -0.6065,  0.0479, -0.1664,  0.8571,  0.2335,  0.2539,  1.2546,\n",
            "         0.5472, -0.1980, -0.7186,  0.2076, -0.2587, -0.3650,  0.0834,  0.6932,\n",
            "         0.1574,  1.0931,  0.0913, -1.3773, -0.2717,  0.7071,  0.1872, -0.3307,\n",
            "        -0.2836,  0.1030,  1.2228,  0.8374])\n",
            "\n",
            "Token: 3 is\n",
            "\n",
            "tensor([-0.5426,  0.4148,  1.0322, -0.4024,  0.4669,  0.2182, -0.0749,  0.4733,\n",
            "         0.0810, -0.2208, -0.1281, -0.1144,  0.5089,  0.1157,  0.0282, -0.3628,\n",
            "         0.4382,  0.0475,  0.2028,  0.4986, -0.1007,  0.1327,  0.1697,  0.1165,\n",
            "         0.3135,  0.2571,  0.0928, -0.5683, -0.5297, -0.0515, -0.6733,  0.9253,\n",
            "         0.2693,  0.2273,  0.6636,  0.2622,  0.1972,  0.2609,  0.1877, -0.3454,\n",
            "        -0.4263,  0.1398,  0.5634, -0.5691,  0.1240, -0.1289,  0.7248, -0.2610,\n",
            "        -0.2631, -0.4360,  0.0789, -0.8415,  0.5160,  1.3997, -0.7646, -3.1453,\n",
            "        -0.2920, -0.3125,  1.5129,  0.5243,  0.2146,  0.4245, -0.0884, -0.1780,\n",
            "         1.1876,  0.1058,  0.7657,  0.2191,  0.3582, -0.1164,  0.0933, -0.6248,\n",
            "        -0.2190,  0.2180,  0.7406, -0.4374,  0.1434,  0.1472, -1.1605, -0.0505,\n",
            "         0.1268, -0.0144, -0.9868, -0.0913, -1.2054, -0.1197,  0.0478, -0.5400,\n",
            "         0.5246, -0.7096, -0.3253, -0.1346, -0.4131,  0.3343, -0.0072,  0.3225,\n",
            "        -0.0442, -1.2969,  0.7622,  0.4635])\n",
            "\n",
            "Token: 4 green\n",
            "\n",
            "tensor([-6.7907e-01,  3.4908e-01, -2.3984e-01, -9.9652e-01,  7.3782e-01,\n",
            "        -6.5911e-04,  2.8010e-01,  1.7287e-02, -3.6063e-01,  3.6955e-02,\n",
            "        -4.0395e-01,  2.4092e-02,  2.8958e-01,  4.0497e-01,  6.9992e-01,\n",
            "         2.5269e-01,  8.0350e-01,  4.9370e-02,  1.5562e-01, -6.3286e-03,\n",
            "        -2.9414e-01,  1.4728e-01,  1.8977e-01, -5.1791e-01,  3.6986e-01,\n",
            "         7.4582e-01,  8.2689e-02, -7.2601e-01, -4.0939e-01, -9.7822e-02,\n",
            "        -1.4096e-01,  7.1121e-01,  6.1933e-01, -2.5014e-01,  4.2250e-01,\n",
            "         4.8458e-01, -5.1915e-01,  7.7125e-01,  3.6685e-01,  4.9652e-01,\n",
            "        -4.1298e-02, -1.4683e+00,  2.0038e-01,  1.8591e-01,  4.9860e-02,\n",
            "        -1.7523e-01, -3.5528e-01,  9.4153e-01, -1.1898e-01, -5.1903e-01,\n",
            "        -1.1887e-02, -3.9186e-01, -1.7479e-01,  9.3451e-01, -5.8931e-01,\n",
            "        -2.7701e+00,  3.4522e-01,  8.6533e-01,  1.0808e+00, -1.0291e-01,\n",
            "        -9.1220e-02,  5.5092e-01, -3.9473e-01,  5.3676e-01,  1.0383e+00,\n",
            "        -4.0658e-01,  2.4590e-01, -2.6797e-01, -2.6036e-01, -1.4151e-01,\n",
            "        -1.2022e-01,  1.6234e-01, -7.4320e-01, -6.4728e-01,  4.7133e-02,\n",
            "         5.1642e-01,  1.9898e-01,  2.3919e-01,  1.2550e-01,  2.2471e-01,\n",
            "         8.2613e-01,  7.8328e-02, -5.7020e-01,  2.3934e-02, -1.5410e-01,\n",
            "        -2.5739e-01,  4.1262e-01, -4.6967e-01,  8.7914e-01,  7.2629e-01,\n",
            "         5.3862e-02, -1.1575e+00, -4.7835e-01,  2.0139e-01, -1.0051e+00,\n",
            "         1.1515e-01, -9.6609e-01,  1.2960e-01,  1.8388e-01, -3.0383e-02])\n",
            "\n",
            "Token: 5 .\n",
            "\n",
            "tensor([-0.3398,  0.2094,  0.4635, -0.6479, -0.3838,  0.0380,  0.1713,  0.1598,\n",
            "         0.4662, -0.0192,  0.4148, -0.3435,  0.2687,  0.0446,  0.4213, -0.4103,\n",
            "         0.1546,  0.0222, -0.6465,  0.2526,  0.0431, -0.1945,  0.4652,  0.4565,\n",
            "         0.6859,  0.0913,  0.2188, -0.7035,  0.1679, -0.3508, -0.1263,  0.6638,\n",
            "        -0.2582,  0.0365, -0.1361,  0.4025,  0.1429,  0.3813, -0.1228, -0.4589,\n",
            "        -0.2528, -0.3043, -0.1121, -0.2618, -0.2248, -0.4455,  0.2991, -0.8561,\n",
            "        -0.1450, -0.4909,  0.0083, -0.1749,  0.2752,  1.4401, -0.2124, -2.8435,\n",
            "        -0.2796, -0.4572,  1.6386,  0.7881, -0.5526,  0.6500,  0.0864,  0.3901,\n",
            "         1.0632, -0.3538,  0.4833,  0.3460,  0.8417,  0.0987, -0.2421, -0.2705,\n",
            "         0.0453, -0.4015,  0.1139,  0.0062,  0.0367,  0.0185, -1.0213, -0.2081,\n",
            "         0.6407, -0.0688, -0.5864,  0.3348, -1.1432, -0.1148, -0.2509, -0.4591,\n",
            "        -0.0968, -0.1795, -0.0634, -0.6741, -0.0689,  0.5360, -0.8777,  0.3180,\n",
            "        -0.3924, -0.2339,  0.4730, -0.0288])\n"
          ]
        }
      ]
    },
    {
      "cell_type": "code",
      "metadata": {
        "colab": {
          "base_uri": "https://localhost:8080/"
        },
        "cellView": "form",
        "id": "ljMBJSMeQCB3",
        "outputId": "d3a1b283-e92f-418c-dce9-b384b93debd2"
      },
      "source": [
        "#@title **Flair Embeddings:**\n",
        "\n",
        "from flair.embeddings import FlairEmbeddings\n",
        "\n",
        "# Init embedding\n",
        "flair_embedding_forward = FlairEmbeddings('news-forward')\n",
        "\n",
        "# Create a sentence\n",
        "sentence = Sentence('The grass is green.')\n",
        "\n",
        "# Embed words in sentence\n",
        "flair_embedding_forward.embed(sentence)"
      ],
      "execution_count": null,
      "outputs": [
        {
          "output_type": "stream",
          "name": "stdout",
          "text": [
            "2021-11-29 05:54:34,291 https://flair.informatik.hu-berlin.de/resources/embeddings/flair/news-forward-0.4.1.pt not found in cache, downloading to /tmp/tmp6twixfgx\n"
          ]
        },
        {
          "output_type": "stream",
          "name": "stderr",
          "text": [
            "100%|██████████| 73034624/73034624 [00:03<00:00, 20916296.80B/s]"
          ]
        },
        {
          "output_type": "stream",
          "name": "stdout",
          "text": [
            "2021-11-29 05:54:38,177 copying /tmp/tmp6twixfgx to cache at /root/.flair/embeddings/news-forward-0.4.1.pt\n"
          ]
        },
        {
          "output_type": "stream",
          "name": "stderr",
          "text": [
            "\n"
          ]
        },
        {
          "output_type": "stream",
          "name": "stdout",
          "text": [
            "2021-11-29 05:54:38,423 removing temp file /tmp/tmp6twixfgx\n"
          ]
        },
        {
          "output_type": "execute_result",
          "data": {
            "text/plain": [
              "[Sentence: \"The grass is green .\"   [− Tokens: 5]]"
            ]
          },
          "metadata": {},
          "execution_count": 50
        }
      ]
    },
    {
      "cell_type": "code",
      "metadata": {
        "colab": {
          "base_uri": "https://localhost:8080/"
        },
        "cellView": "form",
        "id": "BvQhGVEARAif",
        "outputId": "be936aa9-9e9b-4c92-85db-54a2b1331cf7"
      },
      "source": [
        "#@title **Incrustaciones Combinadas:**\n",
        "\n",
        "from flair.embeddings import WordEmbeddings, FlairEmbeddings\n",
        "\n",
        "# init standard GloVe embedding\n",
        "glove_embedding = WordEmbeddings('glove')\n",
        "\n",
        "# init Flair forward and backwards embeddings\n",
        "flair_embedding_forward = FlairEmbeddings('news-forward')\n",
        "flair_embedding_backward = FlairEmbeddings('news-backward')"
      ],
      "execution_count": null,
      "outputs": [
        {
          "output_type": "stream",
          "name": "stdout",
          "text": [
            "2021-11-29 06:03:56,094 https://flair.informatik.hu-berlin.de/resources/embeddings/flair/news-backward-0.4.1.pt not found in cache, downloading to /tmp/tmplubvxmgz\n"
          ]
        },
        {
          "output_type": "stream",
          "name": "stderr",
          "text": [
            "100%|██████████| 73034575/73034575 [00:03<00:00, 20819429.10B/s]"
          ]
        },
        {
          "output_type": "stream",
          "name": "stdout",
          "text": [
            "2021-11-29 06:03:59,978 copying /tmp/tmplubvxmgz to cache at /root/.flair/embeddings/news-backward-0.4.1.pt\n"
          ]
        },
        {
          "output_type": "stream",
          "name": "stderr",
          "text": [
            "\n"
          ]
        },
        {
          "output_type": "stream",
          "name": "stdout",
          "text": [
            "2021-11-29 06:04:00,203 removing temp file /tmp/tmplubvxmgz\n"
          ]
        }
      ]
    },
    {
      "cell_type": "code",
      "metadata": {
        "cellView": "form",
        "id": "QP0kphqzS0ZR"
      },
      "source": [
        "#@title **Contenido Incrustaciones Combinadas:**\n",
        "\n",
        "from flair.embeddings import StackedEmbeddings\n",
        "\n",
        "# Create a StackedEmbedding object that combines glove and forward/backward flair embeddings\n",
        "stacked_embeddings = StackedEmbeddings([\n",
        "                                        glove_embedding,\n",
        "                                        flair_embedding_forward,\n",
        "                                        flair_embedding_backward,\n",
        "                                       ])"
      ],
      "execution_count": null,
      "outputs": []
    },
    {
      "cell_type": "code",
      "metadata": {
        "colab": {
          "base_uri": "https://localhost:8080/"
        },
        "id": "KEbA15xqS8e0",
        "cellView": "form",
        "outputId": "f017d735-bd71-45b4-c2fd-09992fc9e2a2"
      },
      "source": [
        "#@title **Resultado Incrustaciones Combinadas:**\n",
        "\n",
        "sentence = Sentence('The grass is green.')\n",
        "\n",
        "# Just embed a sentence using the StackedEmbedding as you would with any single embedding.\n",
        "stacked_embeddings.embed(sentence)\n",
        "\n",
        "# Now check out the embedded tokens.\n",
        "for token in sentence:\n",
        "    print()\n",
        "    print(token)\n",
        "    print(token.embedding)"
      ],
      "execution_count": null,
      "outputs": [
        {
          "output_type": "stream",
          "name": "stdout",
          "text": [
            "\n",
            "Token: 1 The\n",
            "tensor([-0.0382, -0.2449,  0.7281,  ..., -0.0065, -0.0053,  0.0090])\n",
            "\n",
            "Token: 2 grass\n",
            "tensor([-0.8135,  0.9404, -0.2405,  ...,  0.0354, -0.0255, -0.0143])\n",
            "\n",
            "Token: 3 is\n",
            "tensor([-5.4264e-01,  4.1476e-01,  1.0322e+00,  ..., -5.3691e-04,\n",
            "        -9.6750e-03, -2.7541e-02])\n",
            "\n",
            "Token: 4 green\n",
            "tensor([-0.6791,  0.3491, -0.2398,  ..., -0.0007, -0.1333,  0.0161])\n",
            "\n",
            "Token: 5 .\n",
            "tensor([-0.3398,  0.2094,  0.4635,  ...,  0.0005, -0.0177,  0.0032])\n"
          ]
        }
      ]
    },
    {
      "cell_type": "markdown",
      "metadata": {
        "id": "e4Ys2ZMHUEWA"
      },
      "source": [
        "# **List of All Word Embeddings**\n",
        "\n"
      ]
    },
    {
      "cell_type": "code",
      "metadata": {
        "colab": {
          "base_uri": "https://localhost:8080/",
          "height": 336,
          "referenced_widgets": [
            "38aa339bae2d4f1682ed5e78c345d148",
            "dc8ebaab2cfa4cfb97bf6953ca89adb5",
            "6abdcfcda6f049ad820562db531fbd22",
            "8b759ca0b2754e0d83494e9c338917eb",
            "93c39aec779a42489ba0ccbc9ef74c46",
            "33b0d3b507b244f199d8bf3464a072a4",
            "3a830137495b4abbbbb458fba5e0f9d6",
            "838b28ce8e2c4970bdf5ed1ac69a9cd4",
            "cedd073f59434cde891915aab014521b",
            "0e06ce41614c408bb54e5a7ac9d488ed",
            "1d2696185b5041f187fdab567141ab0d",
            "5b27e18d78c94fb0996779b09fccd30d",
            "eb3bf0ba0f164b3ca5aae3c94050bece",
            "2d7ee29010e746a6a72d2a28d66c34c3",
            "8d93ee8c6c2a47899f7d5a951509bc66",
            "803d6f80fb4243b0965c5c6d18b8355a",
            "908d416400804fbfa047b40ad7edb10b",
            "9a79168c8ed14eaab566cfda40fdcbd0",
            "f8c9f3eeed324b9a9de7da18a9e933c3",
            "d4976d8925d646c295029e47f9157edb",
            "f9a89b67f1ba4ab7b29142c9817c9ecf",
            "d85a7ebb2b1b47b4a4bf419f299c3b5e",
            "462a5298a59d4d57b211e31800569c03",
            "81a99e861cc043b0ac2890d488aea765",
            "1a674b1955e64183833d59307bcb9077",
            "25168c7486d64ddaa3528f8743f603b1",
            "a8becfe3c6b9400eab35d93df4d1568c",
            "6a32f3fbd99c41b8ad537c7b9b36cde5",
            "f3f5dc3179a14215ba7e747a7d836a74",
            "6fd7641fcbd24b0781080f6d72434ea7",
            "58896c17f9d44d5cb42df919e2e16e22",
            "de9e38d4881d4943b855f7f0a5638284",
            "e0b783cbe6014d958e25a1ec5c1e311c",
            "20ce2637e11f4a998d27525d9c94a85f",
            "f2972273246544bcb8000efb00ed956d",
            "88579ab4b4434e3d99ed9e92f2ac0373",
            "69949b06bae4491a8709152bd7448069",
            "7b7f020693d541dd9ef999b13561bcf3",
            "5fc111a9e05e474691d877accd6a3571",
            "d2f8cbc860d94b54b350697841df7d13",
            "577765455f994f878020075bac7b2fe4",
            "7361b11a7e834104a81e08b11b7a9835",
            "c91c62e75f3e4b30a9b33f06ca7c5045",
            "b91700ffb3234994badbc113c68b09b4",
            "2fc8ea3f83a5493e9762f99a54ec6c8a",
            "14513e9f0e214537a82a544420a195b5",
            "9eb51ab74abb4a56b58f3ef75ebcc161",
            "c7cc2963b0044c7198088f2b663d5852",
            "2941f5482d314680a8690b82fa3ccce5",
            "2e7963fe5f4a481aa9281076e708046f",
            "9b150a1aec9d4873b54387dbd77fef63",
            "8305013f50c44787a87ccdfdc82ecd67",
            "308e7301bdd0466fb833fc62d69ce76f",
            "0d93a1f272fa497e8581f49751464835",
            "3a3b294487e04da6aab2fe8996bfd739"
          ]
        },
        "cellView": "form",
        "id": "SSK242swT3sO",
        "outputId": "1ced77a9-e6ad-4954-fe69-b4d18fd7122c"
      },
      "source": [
        "#@title **Combining BERT and Flair:**\n",
        "\n",
        "from flair.embeddings import FlairEmbeddings, TransformerWordEmbeddings\n",
        "\n",
        "# Init Flair embeddings\n",
        "flair_forward_embedding = FlairEmbeddings('multi-forward')\n",
        "flair_backward_embedding = FlairEmbeddings('multi-backward')\n",
        "\n",
        "# Init multilingual BERT\n",
        "bert_embedding = TransformerWordEmbeddings('bert-base-multilingual-cased')"
      ],
      "execution_count": null,
      "outputs": [
        {
          "output_type": "stream",
          "name": "stdout",
          "text": [
            "2021-11-29 06:12:35,067 https://flair.informatik.hu-berlin.de/resources/embeddings/flair/lm-jw300-forward-v0.1.pt not found in cache, downloading to /tmp/tmpac62ej_s\n"
          ]
        },
        {
          "output_type": "stream",
          "name": "stderr",
          "text": [
            "100%|██████████| 172513724/172513724 [00:07<00:00, 23568806.06B/s]"
          ]
        },
        {
          "output_type": "stream",
          "name": "stdout",
          "text": [
            "2021-11-29 06:12:42,759 copying /tmp/tmpac62ej_s to cache at /root/.flair/embeddings/lm-jw300-forward-v0.1.pt\n"
          ]
        },
        {
          "output_type": "stream",
          "name": "stderr",
          "text": [
            "\n"
          ]
        },
        {
          "output_type": "stream",
          "name": "stdout",
          "text": [
            "2021-11-29 06:12:43,420 removing temp file /tmp/tmpac62ej_s\n",
            "2021-11-29 06:12:44,611 https://flair.informatik.hu-berlin.de/resources/embeddings/flair/lm-jw300-backward-v0.1.pt not found in cache, downloading to /tmp/tmp7jq67li9\n"
          ]
        },
        {
          "output_type": "stream",
          "name": "stderr",
          "text": [
            "100%|██████████| 172513724/172513724 [00:07<00:00, 22612763.97B/s]"
          ]
        },
        {
          "output_type": "stream",
          "name": "stdout",
          "text": [
            "2021-11-29 06:12:52,656 copying /tmp/tmp7jq67li9 to cache at /root/.flair/embeddings/lm-jw300-backward-v0.1.pt\n"
          ]
        },
        {
          "output_type": "stream",
          "name": "stderr",
          "text": [
            "\n"
          ]
        },
        {
          "output_type": "stream",
          "name": "stdout",
          "text": [
            "2021-11-29 06:12:53,274 removing temp file /tmp/tmp7jq67li9\n"
          ]
        },
        {
          "output_type": "display_data",
          "data": {
            "application/vnd.jupyter.widget-view+json": {
              "model_id": "38aa339bae2d4f1682ed5e78c345d148",
              "version_minor": 0,
              "version_major": 2
            },
            "text/plain": [
              "Downloading:   0%|          | 0.00/29.0 [00:00<?, ?B/s]"
            ]
          },
          "metadata": {}
        },
        {
          "output_type": "display_data",
          "data": {
            "application/vnd.jupyter.widget-view+json": {
              "model_id": "5b27e18d78c94fb0996779b09fccd30d",
              "version_minor": 0,
              "version_major": 2
            },
            "text/plain": [
              "Downloading:   0%|          | 0.00/625 [00:00<?, ?B/s]"
            ]
          },
          "metadata": {}
        },
        {
          "output_type": "display_data",
          "data": {
            "application/vnd.jupyter.widget-view+json": {
              "model_id": "462a5298a59d4d57b211e31800569c03",
              "version_minor": 0,
              "version_major": 2
            },
            "text/plain": [
              "Downloading:   0%|          | 0.00/972k [00:00<?, ?B/s]"
            ]
          },
          "metadata": {}
        },
        {
          "output_type": "display_data",
          "data": {
            "application/vnd.jupyter.widget-view+json": {
              "model_id": "20ce2637e11f4a998d27525d9c94a85f",
              "version_minor": 0,
              "version_major": 2
            },
            "text/plain": [
              "Downloading:   0%|          | 0.00/1.87M [00:00<?, ?B/s]"
            ]
          },
          "metadata": {}
        },
        {
          "output_type": "display_data",
          "data": {
            "application/vnd.jupyter.widget-view+json": {
              "model_id": "2fc8ea3f83a5493e9762f99a54ec6c8a",
              "version_minor": 0,
              "version_major": 2
            },
            "text/plain": [
              "Downloading:   0%|          | 0.00/681M [00:00<?, ?B/s]"
            ]
          },
          "metadata": {}
        }
      ]
    },
    {
      "cell_type": "code",
      "metadata": {
        "cellView": "form",
        "id": "QtUa7wO2Uuss"
      },
      "source": [
        "#@title **StackedEmbeddings class:**\n",
        "\n",
        "from flair.embeddings import StackedEmbeddings\n",
        "\n",
        "# now create the StackedEmbedding object that combines all embeddings\n",
        "stacked_embeddings = StackedEmbeddings(\n",
        "    embeddings=[flair_forward_embedding, flair_backward_embedding, bert_embedding])"
      ],
      "execution_count": null,
      "outputs": []
    },
    {
      "cell_type": "code",
      "metadata": {
        "colab": {
          "base_uri": "https://localhost:8080/"
        },
        "cellView": "form",
        "id": "G-VO2fshVAa_",
        "outputId": "516447c0-4f7b-4c60-b457-05fb661cee44"
      },
      "source": [
        "#@title **Embedding like all the other embeddings:**\n",
        "\n",
        "sentence = Sentence('The grass is green.')\n",
        "\n",
        "# Just embed a sentence using the StackedEmbedding as you would with any single embedding.\n",
        "stacked_embeddings.embed(sentence)\n",
        "\n",
        "# now check out the embedded tokens.\n",
        "for token in sentence:\n",
        "    print()\n",
        "    print(token)\n",
        "    print(token.embedding)"
      ],
      "execution_count": null,
      "outputs": [
        {
          "output_type": "stream",
          "name": "stdout",
          "text": [
            "\n",
            "Token: 1 The\n",
            "tensor([ 0.6800,  0.2429,  0.0012,  ...,  0.7343, -0.0732,  0.1896])\n",
            "\n",
            "Token: 2 grass\n",
            "tensor([ 2.9200e-01,  2.2066e-02,  4.5290e-05,  ...,  9.8494e-01,\n",
            "        -5.7341e-01,  6.8033e-01])\n",
            "\n",
            "Token: 3 is\n",
            "tensor([-0.5447,  0.0229,  0.0078,  ..., -0.2840, -0.1061, -0.0851])\n",
            "\n",
            "Token: 4 green\n",
            "tensor([0.1477, 0.1097, 0.0009,  ..., 0.0203, 0.5680, 0.0867])\n",
            "\n",
            "Token: 5 .\n",
            "tensor([-1.5555e-01,  6.7598e-03,  5.3829e-06,  ..., -4.0763e-01,\n",
            "         1.7429e-01,  3.1956e-02])\n"
          ]
        }
      ]
    },
    {
      "cell_type": "markdown",
      "metadata": {
        "id": "AAiyiNB7WZOj"
      },
      "source": [
        "# **Conclusiones**\n",
        "\n",
        "* Después de explorar las diferentes opciones de ejemplos que nos ofrece **OpenAI** con esta liberación de su api GPT3, se puede reafirmar el gran potencial que tienen estos modelos para dar solución a estos problemas como los NLP, en nuestro prototipo utilizamos nuestro lenguaje español y aunque se pudo evidenciar buenos resultados, encontramos que en algunas ocasiones se generaban información sin coherencia o en el idioma inglés, lo que nos puede demostrar que por ahora estos modelos pueden llegar a ser más precisos en el idioma inglés. En la exploración del api se pudo evidenciar una muy interesante **Python to natural language** la cual permite explicar código python en lenguaje natural y no técnico, lamentablemente es una opción privada a aun no liberada que sería interesante explorar en el futuro.\n",
        "\n",
        "* Al utilizar los mecanismos NLP, observamos que, dependiendo de la capacidad de entrenamiento de nuestros modelos, estos se hacen más eficientes cuando se genera un dataset más dinámico y su arquitectura de aprendizaje, contiene más argumentos de valoración y extensión de sus argumentos programados. Depende mucho de la experiencia del profesional encargado de satisfacer los requerimientos del modelo optimo.\n",
        "\n",
        "* Cuando se utilizan los Embedding, observamos que de manera independiente dan buenos resultados, pero, cuando se manejan de forma binaria con otros embedding, se vuelven modelos muy eficientes, porque aprovechan la virtud de cada uno en el procesamiento de su arquitectura de aprendizaje.\n"
      ]
    },
    {
      "cell_type": "markdown",
      "metadata": {
        "id": "2lxjeO_n11E3"
      },
      "source": [
        "# **Referencias**\n",
        "\n",
        "* https://beta.openai.com/overview\n",
        "* https://huggingface.co/flair/upos-multi-fast\n",
        "* https://huggingface.co/flair/ner-english-fast\n",
        "* https://fasttext.cc/docs/en/supervised-tutorial.html\n",
        "* https://github.com/flairNLP/flair/blob/master/resources/docs/TUTORIAL_3_WORD_EMBEDDING.md\n",
        "* https://github.com/flairNLP/flair/blob/master/resources/docs/TUTORIAL_4_ELMO_BERT_FLAIR_EMBEDDING.md\n",
        "* https://iaarbook.github.io/procesamiento-del-lenguaje-natural/"
      ]
    }
  ]
}